{
 "nbformat": 4,
 "nbformat_minor": 0,
 "metadata": {
  "colab": {
   "name": "03 Combinación de datasets.ipynb",
   "provenance": [],
   "collapsed_sections": []
  },
  "kernelspec": {
   "name": "python3",
   "display_name": "Python 3"
  },
  "language_info": {
   "name": "python"
  }
 },
 "cells": [
  {
   "cell_type": "markdown",
   "metadata": {
    "id": "zO4bRoxr2Apy"
   },
   "source": [
    "   ## COMBINANDO DATOS<a class=\"tocSkip\">\n",
    "  ## EL460 ELECTIVA I - CIENCIA DE DATOS II <a class=\"tocSkip\">\n",
    "  ### Ingenieria Electrónica <a class=\"tocSkip\">\n",
    "  ### Universidad Popular del Cesar <a class=\"tocSkip\">\n",
    "  ### Prof.: Jose Ramón Iglesias Gamarra - [https://github.com/joseramoniglesias/](https://github.com/joseramoniglesias/) <a class=\"tocSkip\">\n",
    "  **joseiglesias@unicesar.edu.co**\n",
    "\n",
    "----\n",
    "\n",
    "# Combinación de conjuntos de datos\n",
    "\n",
    "En esta notebook, vamos a cargar el conjunto de datos de [la compentencia Kaggle](https://www.kaggle.com/dansbecker/melbourne-housing-snapshot) sobre estimación de precios de ventas de propiedades en Melbourne, Australia.\n",
    "\n",
    "Utilizaremos el conjunto de datos reducido producido por [DanB](https://www.kaggle.com/dansbecker)."
   ]
  },
  {
   "cell_type": "code",
   "metadata": {
    "id": "4udjxjk1EtVU"
   },
   "source": [
    "import matplotlib.pyplot as plt\n",
    "import numpy\n",
    "import pandas\n",
    "\n",
    "import seaborn\n",
    "seaborn.set_context('talk')"
   ],
   "execution_count": null,
   "outputs": []
  },
  {
   "cell_type": "code",
   "metadata": {
    "colab": {
     "base_uri": "https://localhost:8080/",
     "height": 35
    },
    "id": "3XdIsB8hISis",
    "outputId": "5fca21e3-94ec-4666-964e-916d03d8841c"
   },
   "source": [
    "import plotly\n",
    "plotly.__version__\n",
    "# Make sure it's 4.14.3"
   ],
   "execution_count": null,
   "outputs": []
  },
  {
   "cell_type": "code",
   "metadata": {
    "id": "i2nqY0GGIVn2"
   },
   "source": [
    "# To update plotly, uncomment and run the following line:\n",
    "# !pip install plotly --upgrade"
   ],
   "execution_count": null,
   "outputs": []
  },
  {
   "cell_type": "code",
   "metadata": {
    "colab": {
     "base_uri": "https://localhost:8080/",
     "height": 306
    },
    "id": "_qeFN3GnEvMk",
    "outputId": "6fba2f21-07cb-42a9-c563-73a36ac339c0"
   },
   "source": [
    "melb_df = pandas.read_csv('melb_data.csv')\n",
    "melb_df[:3]"
   ],
   "execution_count": null,
   "outputs": []
  },
  {
   "cell_type": "markdown",
   "metadata": {
    "id": "s-mixICN22kA"
   },
   "source": [
    "## Datos adicionales\n",
    "\n",
    "Vamos a aumentar los datos presentes en el conjunto dado con un dataset similar: las publicaciones de la plataforma AirBnB en Melbourne en el año 2018. El objetivo es estimar con mayor presición el valor del vecidanrio de cada propiedad.\n",
    "\n",
    "Para ello, utilizaremos [un conjunto de datos](https://www.kaggle.com/tylerx/melbourne-airbnb-open-data?select=cleansed_listings_dec18.csv) de *scrapings* del sitio realizado por [Tyler Xie](https://www.kaggle.com/tylerx), también disponible en una competencia de Kaggle."
   ]
  },
  {
   "cell_type": "code",
   "metadata": {
    "colab": {
     "base_uri": "https://localhost:8080/"
    },
    "id": "k3Z2vxNHJfJK",
    "outputId": "551514a5-405e-4d93-c0ff-737a67f39688"
   },
   "source": [
    "# data source:\n",
    "# https://www.kaggle.com/tylerx/melbourne-airbnb-open-data?select=cleansed_listings_dec18.csv\n",
    "interesting_cols = [\n",
    "  'description', 'neighborhood_overview',\n",
    "  'street', 'neighborhood', 'city', 'suburb', 'state', 'zipcode',\n",
    "  'price', 'weekly_price', 'monthly_price',\n",
    "  'latitude', 'longitude',\n",
    "]\n",
    "airbnb_df = pandas.read_csv('cleansed_listings_dec18.csv',\n",
    "    usecols=interesting_cols)"
   ],
   "execution_count": null,
   "outputs": []
  },
  {
   "cell_type": "code",
   "metadata": {
    "colab": {
     "base_uri": "https://localhost:8080/",
     "height": 363
    },
    "id": "bc55TFlhF6tP",
    "outputId": "2183fded-6b80-4d64-923f-5cdc898193cd"
   },
   "source": [
    "airbnb_df[:3]"
   ],
   "execution_count": null,
   "outputs": []
  },
  {
   "cell_type": "code",
   "metadata": {
    "colab": {
     "base_uri": "https://localhost:8080/"
    },
    "id": "kdqexZvsJTcT",
    "outputId": "5ad162c1-5666-4ed5-d342-f271b5de0f00"
   },
   "source": [
    "len(airbnb_df)"
   ],
   "execution_count": null,
   "outputs": []
  },
  {
   "cell_type": "markdown",
   "metadata": {
    "id": "ismngxPcfoWb"
   },
   "source": [
    "Para poder realizar esta combinación de datos, tenemos que encontrar una columna que contenga información en común. Utilizaremos el zipcode.\n",
    "\n",
    "* ¿Qué desventajas tiene utilizar el zipcode para agregar información sobre la vecindad de cada propiedad en venta? ¿Se corresponde con lo que entendemos intuitivamente como vecindad?\n",
    "* ¿Qué otros métodos podrían utilizarse?"
   ]
  },
  {
   "cell_type": "code",
   "metadata": {
    "colab": {
     "base_uri": "https://localhost:8080/"
    },
    "id": "dTss9P-PgGOi",
    "outputId": "2561df6b-b07d-4f70-8620-0f94805710df"
   },
   "source": [
    "airbnb_df.zipcode.value_counts()[:5]"
   ],
   "execution_count": null,
   "outputs": []
  },
  {
   "cell_type": "markdown",
   "metadata": {
    "id": "kAMLtgh6gNQN"
   },
   "source": [
    " Sin embargo, este zipcode tiene tipos diferentes, que tendremos que estandarizar antes de continuar con la combinación de los datos."
   ]
  },
  {
   "cell_type": "code",
   "metadata": {
    "id": "xbDm0-VwQd97"
   },
   "source": [
    "airbnb_df['zipcode'] = pandas.to_numeric(airbnb_df.zipcode, errors='coerce')"
   ],
   "execution_count": null,
   "outputs": []
  },
  {
   "cell_type": "code",
   "source": [
    "airbnb_df.zipcode.value_counts().head(5)"
   ],
   "metadata": {
    "colab": {
     "base_uri": "https://localhost:8080/"
    },
    "id": "MWWf21VEKJyz",
    "outputId": "c776d32a-42eb-4b05-eb7a-c26c2ca1427d"
   },
   "execution_count": null,
   "outputs": []
  },
  {
   "cell_type": "markdown",
   "metadata": {
    "id": "JOahRB4qggBA"
   },
   "source": [
    "### Valores en común\n",
    "\n",
    "Antes de unir los conjuntos de datos, tenemos que asegurarnos de que tengamos suficientes registros en común como para agregar información relevantes."
   ]
  },
  {
   "cell_type": "code",
   "metadata": {
    "colab": {
     "base_uri": "https://localhost:8080/"
    },
    "id": "2Gxz99YJJSCk",
    "outputId": "1f8d26e7-0579-44f9-eb0e-6113e15ea680"
   },
   "source": [
    "intersection = numpy.intersect1d(\n",
    "    airbnb_df.zipcode.values, melb_df.Postcode.values, assume_unique=False)\n",
    "print(\"Airbnb unique zipcodes\", len(airbnb_df.zipcode.unique()))\n",
    "print(\"Sales unique zipcodes\", len(melb_df.Postcode.unique()))\n",
    "print(\"Common zipcodes\", len(intersection))"
   ],
   "execution_count": null,
   "outputs": []
  },
  {
   "cell_type": "code",
   "metadata": {
    "colab": {
     "base_uri": "https://localhost:8080/"
    },
    "id": "AB41oWdhLKJU",
    "outputId": "d539058f-56be-44e4-c44f-70ecebdce57d"
   },
   "source": [
    "print('Records in Sales df with corresponding zipcode form Airbnb df',\n",
    "      melb_df.Postcode.isin(intersection).sum() / len(melb_df))\n",
    "print('Records in Airbnb df with corresponding zipcode form Sales df',\n",
    "      airbnb_df.zipcode.isin(intersection).sum() / len(airbnb_df))"
   ],
   "execution_count": null,
   "outputs": []
  },
  {
   "cell_type": "markdown",
   "metadata": {
    "id": "bwvm0M48OdF6"
   },
   "source": [
    "### Exploración visual\n",
    "\n",
    "Para terminar de asegurarnos de que las áreas representadas por ambos datasets son consitentes, podemos representar las coordenadas en un mapa usando Plotly.\n",
    "\n",
    "Aunque estas visualizaciones no son completas en cuanto a la información geográfica que muestran, aproximadamente podemos ver que se tratan de zonas similares."
   ]
  },
  {
   "cell_type": "code",
   "metadata": {
    "colab": {
     "base_uri": "https://localhost:8080/",
     "height": 542
    },
    "id": "J5P1Tu8UE5Zm",
    "outputId": "20d3d491-41fa-4fcf-c160-e4940a95cd56"
   },
   "source": [
    "import plotly.express as px\n",
    "data = melb_df.sample(300)\n",
    "fig = px.scatter_geo(\n",
    "    data, lat=data.Lattitude, lon=data.Longtitude, color=data.YearBuilt\n",
    "    )\n",
    "fig.update_geos(fitbounds=\"locations\")\n",
    "fig.show()"
   ],
   "execution_count": null,
   "outputs": []
  },
  {
   "cell_type": "code",
   "metadata": {
    "colab": {
     "base_uri": "https://localhost:8080/",
     "height": 542
    },
    "id": "YQwnjE3MFVN1",
    "outputId": "29999d3e-3af6-4ac6-af33-83f1c6222e52"
   },
   "source": [
    "import plotly.express as px\n",
    "color_col = 'city'\n",
    "data = airbnb_df[~airbnb_df[color_col].isna()].sample(300)\n",
    "fig = px.scatter_geo(\n",
    "    data, lat=data.latitude, lon=data.longitude, color=data[color_col]\n",
    "    )\n",
    "fig.update_geos(fitbounds=\"locations\")\n",
    "fig.show()"
   ],
   "execution_count": null,
   "outputs": []
  },
  {
   "cell_type": "markdown",
   "metadata": {
    "id": "rWJHY4f5RT_b"
   },
   "source": [
    "## Operación merge\n",
    "\n",
    "Es hora de combinar ambos conjuntos de datos. Una opción frecuentemente tentadora es aplicar la operación merge sin analizar demasiado la situación. Sin embargo, ¡esta operación puede ocasionar una **explosión exponencial** de nuestro conjunto de datos!\n",
    "\n",
    "¿Por qué la siguiente operación genera un DataFrame con 2 millones de filas? "
   ]
  },
  {
   "cell_type": "code",
   "metadata": {
    "colab": {
     "base_uri": "https://localhost:8080/"
    },
    "id": "X6NqwTaShgTD",
    "outputId": "9a5fa637-cadf-45e5-9471-612e49bf36cc"
   },
   "source": [
    "## Incorrecto!\n",
    "len(melb_df.merge(airbnb_df, how='left',\n",
    "                  left_on='Postcode', right_on='zipcode'))"
   ],
   "execution_count": null,
   "outputs": []
  },
  {
   "cell_type": "markdown",
   "metadata": {
    "id": "ZjlzIlBGhfKA"
   },
   "source": [
    "Recordemos que nuestro objetivo es agregar información sobre el valor del vecindario de la propiedad. ¿Qué información del conjunto de airbnb nos sirve para representar esto?\n",
    "\n",
    "* Promedio de `price` por zipcode\n",
    "* Promedio de `weekly_price` por zipcode\n",
    "* Promedio de `monthly_price` por zipcode\n",
    "\n",
    "Queda a interpretación de ustedes decidir cuál de todos ellos utilizar."
   ]
  },
  {
   "cell_type": "code",
   "metadata": {
    "id": "satTM4vKlqtS"
   },
   "source": [
    "relevant_cols = ['price', 'weekly_price', 'monthly_price']"
   ],
   "execution_count": null,
   "outputs": []
  },
  {
   "cell_type": "markdown",
   "metadata": {
    "id": "Y2ORIRhGlY1z"
   },
   "source": [
    "Cuando queremos agregar un único dato luego de agrupar un DataFrame, la operación es bastante sencilla. Sólo tienen que tener en cuenta que el nombre de la columnas será el mismo, aunque su valor ahora esté agregado."
   ]
  },
  {
   "cell_type": "code",
   "metadata": {
    "colab": {
     "base_uri": "https://localhost:8080/",
     "height": 206
    },
    "id": "I41gc3aflTrw",
    "outputId": "ee72e2c8-b8ec-43d1-ee51-4140a00a2bc2"
   },
   "source": [
    "# Option 1: inefficient form.\n",
    "# The aggregation is calculated over all columns, and after is calculated\n",
    "# we filter only the columns we want.\n",
    "# airbnb_df.groupby('zipcode').mean()[relevant_cols].reset_index()[:5]\n",
    "\n",
    "# Option 2: efficient form\n",
    "# First we filter out the columns we want, and then we only aggregate\n",
    "# those. Be careful to include the grouping column as well.\n",
    "airbnb_df[relevant_cols + ['zipcode']]\\\n",
    "  .groupby('zipcode').mean().reset_index()[:5]"
   ],
   "execution_count": null,
   "outputs": []
  },
  {
   "cell_type": "markdown",
   "metadata": {
    "id": "8kR2TEpni9i5"
   },
   "source": [
    "Agrupar y agregar utilizando más de un tipo de operación es un poco más complicado. Pandas nos provee de muchas formas de escribir la misma operación. Ninguna de ellas es muy intuitiva, y usualmente requiere renombrar las columnas para darles nombres más significativos."
   ]
  },
  {
   "cell_type": "code",
   "source": [
    "relevant_cols = ['price', 'weekly_price', 'monthly_price', 'zipcode']\n",
    "## Option 1\n",
    "# Pass a dictionary where the keys are the original columns to aggregate and\n",
    "# the values are the operations (or list of operations).\n",
    "airbnb_price_by_zipcode = airbnb_df[relevant_cols].groupby('zipcode')\\\n",
    "  .agg({'price': ['mean', 'count'], 'weekly_price': 'mean',\n",
    "        'monthly_price': 'mean'})\\\n",
    "  .reset_index()"
   ],
   "metadata": {
    "id": "kIRP_yIUPvgJ"
   },
   "execution_count": null,
   "outputs": []
  },
  {
   "cell_type": "code",
   "source": [
    "airbnb_price_by_zipcode"
   ],
   "metadata": {
    "colab": {
     "base_uri": "https://localhost:8080/",
     "height": 455
    },
    "id": "u8tLNn_4Py1t",
    "outputId": "21433138-ef94-4286-9faf-ca455eb38e51"
   },
   "execution_count": null,
   "outputs": []
  },
  {
   "cell_type": "code",
   "metadata": {
    "colab": {
     "base_uri": "https://localhost:8080/",
     "height": 187
    },
    "id": "K72zWkuJRl0M",
    "outputId": "900a6ecb-af8f-4e5a-9713-17c0df06cc2d"
   },
   "source": [
    "relevant_cols = ['price', 'weekly_price', 'monthly_price', 'zipcode']\n",
    "## Option 1\n",
    "# Pass a dictionary where the keys are the original columns to aggregate and\n",
    "# the values are the operations (or list of operations).\n",
    "airbnb_price_by_zipcode = airbnb_df[relevant_cols].groupby('zipcode')\\\n",
    "  .agg({'price': ['mean', 'count'], 'weekly_price': 'mean',\n",
    "        'monthly_price': 'mean'})\\\n",
    "  .reset_index()\n",
    "# Flatten the two level columns\n",
    "airbnb_price_by_zipcode.columns = [\n",
    "  ' '.join(col).strip()\n",
    "  for col in airbnb_price_by_zipcode.columns.values]\n",
    "# Rename columns\n",
    "airbnb_price_by_zipcode = airbnb_price_by_zipcode.rename(\n",
    "    columns={'price mean': 'airbnb_price_mean',\n",
    "             'price count': 'airbnb_record_count',\n",
    "             'weekly_price mean': 'airbnb_weekly_price_mean',\n",
    "             'monthly_price mean': 'airbnb_monthly_price_mean'}\n",
    ")\n",
    "\n",
    "## Option 2\n",
    "# Pass as argument name the new name of the column, and as value a tuple where\n",
    "# the first value is the original column and the second value is the operation.\n",
    "# airbnb_price_by_zipcode = airbnb_df[relevant_cols].groupby('zipcode')\\\n",
    "#   .agg(airbnb_record_count=('price', 'count'),\n",
    "#        airbnb_price_mean=('price', 'mean'),\n",
    "#        airbnb_weekly_price_mean=('weekly_price', 'mean'),\n",
    "#        airbnb_monthly_price_mean=('monthly_price', 'mean'))\\\n",
    "#   .reset_index()\n",
    "\n",
    "airbnb_price_by_zipcode[:3]"
   ],
   "execution_count": null,
   "outputs": []
  },
  {
   "cell_type": "markdown",
   "source": [
    "Guardamos el dataset construido ya que nos sera util para el entregable"
   ],
   "metadata": {
    "id": "5e22EeNigvjw"
   }
  },
  {
   "cell_type": "code",
   "source": [
    "airbnb_price_by_zipcode.to_csv(\"airbnb_price_by_zipcode.csv\", index=None)\n",
    "dfotro= pandas.read_csv('airbnb_price_by_zipcode.csv')"
   ],
   "metadata": {
    "id": "tXI0Sz2DgqXx"
   },
   "execution_count": null,
   "outputs": []
  },
  {
   "cell_type": "code",
   "execution_count": null,
   "outputs": [],
   "source": [
    "#from google.colab import files\n",
    "#files.download('airbnb_price_by_zipcode.csv')\n",
    "dfotro.to_csv(\"./airbnb_price_by_zipcode.csv\")"
   ],
   "metadata": {
    "collapsed": false
   }
  },
  {
   "cell_type": "markdown",
   "source": [
    "Finalmente hacemos la combinacion de ambos datasets creados"
   ],
   "metadata": {
    "id": "dWPewEhTQdWi"
   }
  },
  {
   "cell_type": "code",
   "metadata": {
    "colab": {
     "base_uri": "https://localhost:8080/",
     "height": 456
    },
    "id": "RfUAyonwMOrx",
    "outputId": "6451d7b0-8f45-42f6-bdf1-34ca07378f64"
   },
   "source": [
    "merged_sales_df = melb_df.merge(\n",
    "    airbnb_price_by_zipcode, how='left',\n",
    "    left_on='Postcode', right_on='zipcode'\n",
    ")\n",
    "merged_sales_df.sample(5)"
   ],
   "execution_count": 40,
   "outputs": [
    {
     "data": {
      "text/plain": "              Suburb           Address  Rooms Type      Price Method  \\\n4103    Moonee Ponds       49 Derby St      3    h   855000.0      S   \n7862      Flemington        8A John St      3    h  1085000.0     SP   \n9549        Gisborne    60 Hamilton St      3    h   540000.0     SA   \n8722          Albion     2 Bazentin St      3    h   570000.0      S   \n4742  Port Melbourne  405/155 Beach St      2    u  1610000.0      S   \n\n       SellerG        Date  Distance  Postcode  ...     CouncilArea  \\\n4103      Brad  16/07/2016       6.9    3039.0  ...   Moonee Valley   \n7862    Nelson  22/04/2017       4.4    3031.0  ...   Moonee Valley   \n9549  McDonald  17/06/2017      45.9    3437.0  ...  Macedon Ranges   \n8722     Barry   1/07/2017      10.5    3020.0  ...        Brimbank   \n4742       Kay  10/12/2016       3.8    3207.0  ...    Port Phillip   \n\n      Lattitude  Longtitude             Regionname  Propertycount  zipcode  \\\n4103  -37.76410   144.91120   Western Metropolitan         6232.0   3039.0   \n7862  -37.78390   144.92730  Northern Metropolitan         3593.0   3031.0   \n9549  -37.48701   144.58567      Northern Victoria         3376.0      NaN   \n8722  -37.77917   144.82223   Western Metropolitan         2185.0   3020.0   \n4742  -37.83920   144.92570  Southern Metropolitan         8648.0   3207.0   \n\n     airbnb_price_mean  airbnb_record_count  airbnb_weekly_price_mean  \\\n4103        100.980769                 52.0                392.500000   \n7862        119.914894                188.0                645.388889   \n9549               NaN                  NaN                       NaN   \n8722         69.555556                 45.0                160.000000   \n4742        200.210117                257.0               1480.790698   \n\n     airbnb_monthly_price_mean  \n4103               1533.333333  \n7862               2184.090909  \n9549                       NaN  \n8722                600.000000  \n4742               4743.964286  \n\n[5 rows x 26 columns]",
      "text/html": "<div>\n<style scoped>\n    .dataframe tbody tr th:only-of-type {\n        vertical-align: middle;\n    }\n\n    .dataframe tbody tr th {\n        vertical-align: top;\n    }\n\n    .dataframe thead th {\n        text-align: right;\n    }\n</style>\n<table border=\"1\" class=\"dataframe\">\n  <thead>\n    <tr style=\"text-align: right;\">\n      <th></th>\n      <th>Suburb</th>\n      <th>Address</th>\n      <th>Rooms</th>\n      <th>Type</th>\n      <th>Price</th>\n      <th>Method</th>\n      <th>SellerG</th>\n      <th>Date</th>\n      <th>Distance</th>\n      <th>Postcode</th>\n      <th>...</th>\n      <th>CouncilArea</th>\n      <th>Lattitude</th>\n      <th>Longtitude</th>\n      <th>Regionname</th>\n      <th>Propertycount</th>\n      <th>zipcode</th>\n      <th>airbnb_price_mean</th>\n      <th>airbnb_record_count</th>\n      <th>airbnb_weekly_price_mean</th>\n      <th>airbnb_monthly_price_mean</th>\n    </tr>\n  </thead>\n  <tbody>\n    <tr>\n      <th>4103</th>\n      <td>Moonee Ponds</td>\n      <td>49 Derby St</td>\n      <td>3</td>\n      <td>h</td>\n      <td>855000.0</td>\n      <td>S</td>\n      <td>Brad</td>\n      <td>16/07/2016</td>\n      <td>6.9</td>\n      <td>3039.0</td>\n      <td>...</td>\n      <td>Moonee Valley</td>\n      <td>-37.76410</td>\n      <td>144.91120</td>\n      <td>Western Metropolitan</td>\n      <td>6232.0</td>\n      <td>3039.0</td>\n      <td>100.980769</td>\n      <td>52.0</td>\n      <td>392.500000</td>\n      <td>1533.333333</td>\n    </tr>\n    <tr>\n      <th>7862</th>\n      <td>Flemington</td>\n      <td>8A John St</td>\n      <td>3</td>\n      <td>h</td>\n      <td>1085000.0</td>\n      <td>SP</td>\n      <td>Nelson</td>\n      <td>22/04/2017</td>\n      <td>4.4</td>\n      <td>3031.0</td>\n      <td>...</td>\n      <td>Moonee Valley</td>\n      <td>-37.78390</td>\n      <td>144.92730</td>\n      <td>Northern Metropolitan</td>\n      <td>3593.0</td>\n      <td>3031.0</td>\n      <td>119.914894</td>\n      <td>188.0</td>\n      <td>645.388889</td>\n      <td>2184.090909</td>\n    </tr>\n    <tr>\n      <th>9549</th>\n      <td>Gisborne</td>\n      <td>60 Hamilton St</td>\n      <td>3</td>\n      <td>h</td>\n      <td>540000.0</td>\n      <td>SA</td>\n      <td>McDonald</td>\n      <td>17/06/2017</td>\n      <td>45.9</td>\n      <td>3437.0</td>\n      <td>...</td>\n      <td>Macedon Ranges</td>\n      <td>-37.48701</td>\n      <td>144.58567</td>\n      <td>Northern Victoria</td>\n      <td>3376.0</td>\n      <td>NaN</td>\n      <td>NaN</td>\n      <td>NaN</td>\n      <td>NaN</td>\n      <td>NaN</td>\n    </tr>\n    <tr>\n      <th>8722</th>\n      <td>Albion</td>\n      <td>2 Bazentin St</td>\n      <td>3</td>\n      <td>h</td>\n      <td>570000.0</td>\n      <td>S</td>\n      <td>Barry</td>\n      <td>1/07/2017</td>\n      <td>10.5</td>\n      <td>3020.0</td>\n      <td>...</td>\n      <td>Brimbank</td>\n      <td>-37.77917</td>\n      <td>144.82223</td>\n      <td>Western Metropolitan</td>\n      <td>2185.0</td>\n      <td>3020.0</td>\n      <td>69.555556</td>\n      <td>45.0</td>\n      <td>160.000000</td>\n      <td>600.000000</td>\n    </tr>\n    <tr>\n      <th>4742</th>\n      <td>Port Melbourne</td>\n      <td>405/155 Beach St</td>\n      <td>2</td>\n      <td>u</td>\n      <td>1610000.0</td>\n      <td>S</td>\n      <td>Kay</td>\n      <td>10/12/2016</td>\n      <td>3.8</td>\n      <td>3207.0</td>\n      <td>...</td>\n      <td>Port Phillip</td>\n      <td>-37.83920</td>\n      <td>144.92570</td>\n      <td>Southern Metropolitan</td>\n      <td>8648.0</td>\n      <td>3207.0</td>\n      <td>200.210117</td>\n      <td>257.0</td>\n      <td>1480.790698</td>\n      <td>4743.964286</td>\n    </tr>\n  </tbody>\n</table>\n<p>5 rows × 26 columns</p>\n</div>"
     },
     "execution_count": 40,
     "metadata": {},
     "output_type": "execute_result"
    }
   ]
  },
  {
   "cell_type": "code",
   "source": [
    "merged_sales_df.columns"
   ],
   "metadata": {
    "colab": {
     "base_uri": "https://localhost:8080/"
    },
    "id": "3zgfBpsCRX8m",
    "outputId": "f7ac05e9-7c75-445a-a6d1-b3d5f5290a66"
   },
   "execution_count": 41,
   "outputs": [
    {
     "data": {
      "text/plain": "Index(['Suburb', 'Address', 'Rooms', 'Type', 'Price', 'Method', 'SellerG',\n       'Date', 'Distance', 'Postcode', 'Bedroom2', 'Bathroom', 'Car',\n       'Landsize', 'BuildingArea', 'YearBuilt', 'CouncilArea', 'Lattitude',\n       'Longtitude', 'Regionname', 'Propertycount', 'zipcode',\n       'airbnb_price_mean', 'airbnb_record_count', 'airbnb_weekly_price_mean',\n       'airbnb_monthly_price_mean'],\n      dtype='object')"
     },
     "execution_count": 41,
     "metadata": {},
     "output_type": "execute_result"
    }
   ]
  },
  {
   "cell_type": "code",
   "metadata": {
    "id": "G4ClSr_JapCw"
   },
   "source": [
    "merged_sales_df.to_csv(\"melb_data_extended.csv\", index=None)\n",
    "dfotro1= pandas.read_csv('melb_data_extended.csv')"
   ],
   "execution_count": 43,
   "outputs": []
  },
  {
   "cell_type": "code",
   "metadata": {
    "colab": {
     "base_uri": "https://localhost:8080/",
     "height": 34
    },
    "id": "9YD0kPzAM1he",
    "outputId": "86928e54-678d-4822-d08a-5b6c035d3543"
   },
   "source": [
    "#from google.colab import files\n",
    "#files.download('melb_data_extended.csv')\n",
    "dfotro1.to_csv(\"./melb_data_extended.csv\")"
   ],
   "execution_count": 44,
   "outputs": []
  },
  {
   "cell_type": "code",
   "metadata": {
    "id": "zCBnFQjzNB8t"
   },
   "source": [],
   "execution_count": null,
   "outputs": []
  },
  {
   "cell_type": "code",
   "source": [],
   "metadata": {
    "id": "jt-yzHpOe3En"
   },
   "execution_count": null,
   "outputs": []
  }
 ]
}
