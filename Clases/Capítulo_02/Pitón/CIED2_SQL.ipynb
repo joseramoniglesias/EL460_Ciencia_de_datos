{
 "nbformat": 4,
 "nbformat_minor": 0,
 "metadata": {
  "colab": {
   "name": "02 SQL.ipynb",
   "provenance": []
  },
  "kernelspec": {
   "name": "python3",
   "display_name": "Python 3"
  },
  "language_info": {
   "name": "python"
  }
 },
 "cells": [
  {
   "cell_type": "markdown",
   "source": [
    "## SQL<a class=\"tocSkip\">\n",
    "## EL460 ELECTIVA I - CIENCIA DE DATOS II <a class=\"tocSkip\">\n",
    "### Ingenieria Electrónica <a class=\"tocSkip\">\n",
    "### Universidad Popular del Cesar <a class=\"tocSkip\">\n",
    "### Prof.: Jose Ramón Iglesias Gamarra - [https://github.com/joseramoniglesias/](https://github.com/joseramoniglesias/) <a class=\"tocSkip\">\n",
    "**joseiglesias@unicesar.edu.co**"
   ],
   "metadata": {
    "collapsed": false
   }
  },
  {
   "cell_type": "code",
   "execution_count": 1,
   "outputs": [],
   "source": [
    "import pandas as pd\n",
    "from sqlalchemy import create_engine, text"
   ],
   "metadata": {
    "collapsed": false
   }
  },
  {
   "cell_type": "code",
   "execution_count": 3,
   "metadata": {
    "id": "2WlMFft4Oewg"
   },
   "outputs": [],
   "source": [
    "url = 'https://raw.githubusercontent.com/joseramoniglesias/EL460_Ciencia_de_datos_2/main/Clases/Cap%C3%ADtulo_02/Pit%C3%B3n/survey_2022_processed.csv'\n",
    "df = pd.read_csv(url)"
   ]
  },
  {
   "cell_type": "code",
   "source": [
    "df.head()"
   ],
   "metadata": {
    "colab": {
     "base_uri": "https://localhost:8080/",
     "height": 456
    },
    "id": "sVFh91tZJBj5",
    "outputId": "a5933368-e77e-4eca-ba7e-ae71ef41eeac"
   },
   "execution_count": 4,
   "outputs": [
    {
     "data": {
      "text/plain": "  work_province                                 work_contract_type  \\\n0     Catamarca  Tercerizado (trabajo a través de consultora o ...   \n1     Catamarca                                          Full-Time   \n2     Catamarca                                          Full-Time   \n3     Catamarca                                          Full-Time   \n4     Catamarca                                          Full-Time   \n\n  salary_monthly_BRUTO  salary_monthly_NETO  \\\n0               207000             150000.0   \n1               130000              99000.0   \n2               185000             145000.0   \n3                70000              60000.0   \n4                90000              74700.0   \n\n                                       salary_in_usd salary_last_dollar_value  \\\n0                                                NaN                      NaN   \n1                                                NaN                      NaN   \n2  Mi sueldo está dolarizado (pero cobro en moned...                      100   \n3                                                NaN                      NaN   \n4                                                NaN                      NaN   \n\n   salary_satisfaction  salary_comparison_last_semester  \\\n0                    2                                1   \n1                    3                                4   \n2                    2                                2   \n3                    3                                3   \n4                    3                                2   \n\n        salary_has_bonus        salary_bonus_tied_to  ...  \\\n0                     No              No recibo bono  ...   \n1              Un sueldo  Performance de la compañía  ...   \n2  De uno a tres sueldos          Performance grupal  ...   \n3                     No              No recibo bono  ...   \n4                     No              No recibo bono  ...   \n\n  work_listen_more_men  profile_has_disabilities  \\\n0                  NaN                       NaN   \n1                  NaN                       NaN   \n2                  NaN                       NaN   \n3                  NaN                       NaN   \n4                  NaN                       NaN   \n\n   profile_has_disabilities_hiring_difficulties work_lastyear_discrimination  \\\n0                                           NaN                          NaN   \n1                                           NaN                          NaN   \n2                                           NaN                          NaN   \n3                                           NaN                          NaN   \n4                                           NaN                          NaN   \n\n   ¿Salir o seguir contestando?.3  company_days_in_the_office  \\\n0                             NaN                         NaN   \n1                             NaN                         NaN   \n2                             NaN                         NaN   \n3                             NaN                         NaN   \n4                             NaN                         NaN   \n\n   company_pandemic_support  company_new_benefits profile_age profile_gender  \n0                       NaN                   NaN          34      Varón Cis  \n1                       NaN                   NaN          35      Varón Cis  \n2                       NaN                   NaN          26    Varón Trans  \n3                       NaN                   NaN          33      Varón Cis  \n4                       NaN                   NaN          29      Mujer Cis  \n\n[5 rows x 56 columns]",
      "text/html": "<div>\n<style scoped>\n    .dataframe tbody tr th:only-of-type {\n        vertical-align: middle;\n    }\n\n    .dataframe tbody tr th {\n        vertical-align: top;\n    }\n\n    .dataframe thead th {\n        text-align: right;\n    }\n</style>\n<table border=\"1\" class=\"dataframe\">\n  <thead>\n    <tr style=\"text-align: right;\">\n      <th></th>\n      <th>work_province</th>\n      <th>work_contract_type</th>\n      <th>salary_monthly_BRUTO</th>\n      <th>salary_monthly_NETO</th>\n      <th>salary_in_usd</th>\n      <th>salary_last_dollar_value</th>\n      <th>salary_satisfaction</th>\n      <th>salary_comparison_last_semester</th>\n      <th>salary_has_bonus</th>\n      <th>salary_bonus_tied_to</th>\n      <th>...</th>\n      <th>work_listen_more_men</th>\n      <th>profile_has_disabilities</th>\n      <th>profile_has_disabilities_hiring_difficulties</th>\n      <th>work_lastyear_discrimination</th>\n      <th>¿Salir o seguir contestando?.3</th>\n      <th>company_days_in_the_office</th>\n      <th>company_pandemic_support</th>\n      <th>company_new_benefits</th>\n      <th>profile_age</th>\n      <th>profile_gender</th>\n    </tr>\n  </thead>\n  <tbody>\n    <tr>\n      <th>0</th>\n      <td>Catamarca</td>\n      <td>Tercerizado (trabajo a través de consultora o ...</td>\n      <td>207000</td>\n      <td>150000.0</td>\n      <td>NaN</td>\n      <td>NaN</td>\n      <td>2</td>\n      <td>1</td>\n      <td>No</td>\n      <td>No recibo bono</td>\n      <td>...</td>\n      <td>NaN</td>\n      <td>NaN</td>\n      <td>NaN</td>\n      <td>NaN</td>\n      <td>NaN</td>\n      <td>NaN</td>\n      <td>NaN</td>\n      <td>NaN</td>\n      <td>34</td>\n      <td>Varón Cis</td>\n    </tr>\n    <tr>\n      <th>1</th>\n      <td>Catamarca</td>\n      <td>Full-Time</td>\n      <td>130000</td>\n      <td>99000.0</td>\n      <td>NaN</td>\n      <td>NaN</td>\n      <td>3</td>\n      <td>4</td>\n      <td>Un sueldo</td>\n      <td>Performance de la compañía</td>\n      <td>...</td>\n      <td>NaN</td>\n      <td>NaN</td>\n      <td>NaN</td>\n      <td>NaN</td>\n      <td>NaN</td>\n      <td>NaN</td>\n      <td>NaN</td>\n      <td>NaN</td>\n      <td>35</td>\n      <td>Varón Cis</td>\n    </tr>\n    <tr>\n      <th>2</th>\n      <td>Catamarca</td>\n      <td>Full-Time</td>\n      <td>185000</td>\n      <td>145000.0</td>\n      <td>Mi sueldo está dolarizado (pero cobro en moned...</td>\n      <td>100</td>\n      <td>2</td>\n      <td>2</td>\n      <td>De uno a tres sueldos</td>\n      <td>Performance grupal</td>\n      <td>...</td>\n      <td>NaN</td>\n      <td>NaN</td>\n      <td>NaN</td>\n      <td>NaN</td>\n      <td>NaN</td>\n      <td>NaN</td>\n      <td>NaN</td>\n      <td>NaN</td>\n      <td>26</td>\n      <td>Varón Trans</td>\n    </tr>\n    <tr>\n      <th>3</th>\n      <td>Catamarca</td>\n      <td>Full-Time</td>\n      <td>70000</td>\n      <td>60000.0</td>\n      <td>NaN</td>\n      <td>NaN</td>\n      <td>3</td>\n      <td>3</td>\n      <td>No</td>\n      <td>No recibo bono</td>\n      <td>...</td>\n      <td>NaN</td>\n      <td>NaN</td>\n      <td>NaN</td>\n      <td>NaN</td>\n      <td>NaN</td>\n      <td>NaN</td>\n      <td>NaN</td>\n      <td>NaN</td>\n      <td>33</td>\n      <td>Varón Cis</td>\n    </tr>\n    <tr>\n      <th>4</th>\n      <td>Catamarca</td>\n      <td>Full-Time</td>\n      <td>90000</td>\n      <td>74700.0</td>\n      <td>NaN</td>\n      <td>NaN</td>\n      <td>3</td>\n      <td>2</td>\n      <td>No</td>\n      <td>No recibo bono</td>\n      <td>...</td>\n      <td>NaN</td>\n      <td>NaN</td>\n      <td>NaN</td>\n      <td>NaN</td>\n      <td>NaN</td>\n      <td>NaN</td>\n      <td>NaN</td>\n      <td>NaN</td>\n      <td>29</td>\n      <td>Mujer Cis</td>\n    </tr>\n  </tbody>\n</table>\n<p>5 rows × 56 columns</p>\n</div>"
     },
     "execution_count": 4,
     "metadata": {},
     "output_type": "execute_result"
    }
   ]
  },
  {
   "cell_type": "code",
   "source": [
    "df.columns"
   ],
   "metadata": {
    "colab": {
     "base_uri": "https://localhost:8080/"
    },
    "id": "7QsdgDXKMTJl",
    "outputId": "e912a7c2-8c6c-4c92-f978-2e3e90e6dae8"
   },
   "execution_count": 5,
   "outputs": [
    {
     "data": {
      "text/plain": "Index(['work_province', 'work_contract_type', 'salary_monthly_BRUTO',\n       'salary_monthly_NETO', 'salary_in_usd', 'salary_last_dollar_value',\n       'salary_satisfaction', 'salary_comparison_last_semester',\n       'salary_has_bonus', 'salary_bonus_tied_to',\n       'salary_inflation_adjustment_2021',\n       'salary_percentage_inflation_adjustment_2021',\n       'salary_month_last_inflation_adjustment', 'work_role',\n       'profile_years_experience', 'work_years_in_company',\n       'work_years_in_current_position', 'work_people_in_charge_of',\n       'tools_platform', 'Lenguajes de programación o tecnologías.',\n       'tools_frameworks', 'tools_data_bases', 'tools_qa_testing',\n       'tools_IDEs', 'Cantidad de personas en tu organización',\n       'Trabajo para una empresa que no tiene oficina en mi ciudad',\n       'company_main_activity', 'company_recommended',\n       'company_extra_benefits', 'company_diversity_policies',\n       '¿Salir o seguir contestando?', 'profile_studies_level',\n       'profile_studies_level_state', 'profile_career', 'profile_university',\n       'profile_specialization_courses', 'profile_open_source_contributions',\n       'profile_programming_as_hobby', '¿Salir o seguir contestando?.1',\n       'work_on_call_duty', 'salary_on_call_duty_charge',\n       'work_on_call_duty_charge_type', '¿Salir o seguir contestando?.2',\n       'work_has_violence_situations',\n       '¿Considerás que en tu empresa/organización hay una marcada tendencia a escuchar más a los hombres?',\n       'work_yourself_in_your_work', 'work_listen_more_men',\n       'profile_has_disabilities',\n       'profile_has_disabilities_hiring_difficulties',\n       'work_lastyear_discrimination', '¿Salir o seguir contestando?.3',\n       'company_days_in_the_office', 'company_pandemic_support',\n       'company_new_benefits', 'profile_age', 'profile_gender'],\n      dtype='object')"
     },
     "execution_count": 5,
     "metadata": {},
     "output_type": "execute_result"
    }
   ]
  },
  {
   "cell_type": "code",
   "source": [
    "engine = create_engine('sqlite:///sysarmy.sqlite3', echo=True)"
   ],
   "metadata": {
    "id": "BR8W4-A4Gm9x"
   },
   "execution_count": 6,
   "outputs": []
  },
  {
   "cell_type": "code",
   "source": [
    "df.to_sql('survey', con=engine, if_exists=\"replace\")"
   ],
   "metadata": {
    "colab": {
     "base_uri": "https://localhost:8080/"
    },
    "id": "4L4U1pKvGp8A",
    "outputId": "fc5c114b-6869-47e5-a8b3-2fcc67fea01c"
   },
   "execution_count": 7,
   "outputs": [
    {
     "name": "stdout",
     "output_type": "stream",
     "text": [
      "2023-01-25 14:46:43,606 INFO sqlalchemy.engine.Engine PRAGMA main.table_info(\"survey\")\n",
      "2023-01-25 14:46:43,607 INFO sqlalchemy.engine.Engine [raw sql] ()\n",
      "2023-01-25 14:46:43,609 INFO sqlalchemy.engine.Engine PRAGMA temp.table_info(\"survey\")\n",
      "2023-01-25 14:46:43,611 INFO sqlalchemy.engine.Engine [raw sql] ()\n",
      "2023-01-25 14:46:43,619 INFO sqlalchemy.engine.Engine BEGIN (implicit)\n",
      "2023-01-25 14:46:43,623 INFO sqlalchemy.engine.Engine \n",
      "CREATE TABLE survey (\n",
      "\t\"index\" BIGINT, \n",
      "\twork_province TEXT, \n",
      "\twork_contract_type TEXT, \n",
      "\t\"salary_monthly_BRUTO\" TEXT, \n",
      "\t\"salary_monthly_NETO\" FLOAT, \n",
      "\tsalary_in_usd TEXT, \n",
      "\tsalary_last_dollar_value TEXT, \n",
      "\tsalary_satisfaction BIGINT, \n",
      "\tsalary_comparison_last_semester BIGINT, \n",
      "\tsalary_has_bonus TEXT, \n",
      "\tsalary_bonus_tied_to TEXT, \n",
      "\tsalary_inflation_adjustment_2021 TEXT, \n",
      "\tsalary_percentage_inflation_adjustment_2021 FLOAT, \n",
      "\tsalary_month_last_inflation_adjustment FLOAT, \n",
      "\twork_role TEXT, \n",
      "\tprofile_years_experience FLOAT, \n",
      "\twork_years_in_company FLOAT, \n",
      "\twork_years_in_current_position FLOAT, \n",
      "\twork_people_in_charge_of BIGINT, \n",
      "\ttools_platform TEXT, \n",
      "\t\"Lenguajes de programación o tecnologías.\" TEXT, \n",
      "\ttools_frameworks TEXT, \n",
      "\ttools_data_bases TEXT, \n",
      "\ttools_qa_testing TEXT, \n",
      "\t\"tools_IDEs\" TEXT, \n",
      "\t\"Cantidad de personas en tu organización\" TEXT, \n",
      "\t\"Trabajo para una empresa que no tiene oficina en mi ciudad\" TEXT, \n",
      "\tcompany_main_activity TEXT, \n",
      "\tcompany_recommended BIGINT, \n",
      "\tcompany_extra_benefits TEXT, \n",
      "\tcompany_diversity_policies BIGINT, \n",
      "\t\"¿Salir o seguir contestando?\" TEXT, \n",
      "\tprofile_studies_level TEXT, \n",
      "\tprofile_studies_level_state TEXT, \n",
      "\tprofile_career TEXT, \n",
      "\tprofile_university TEXT, \n",
      "\tprofile_specialization_courses TEXT, \n",
      "\tprofile_open_source_contributions TEXT, \n",
      "\tprofile_programming_as_hobby TEXT, \n",
      "\t\"¿Salir o seguir contestando?.1\" TEXT, \n",
      "\twork_on_call_duty TEXT, \n",
      "\tsalary_on_call_duty_charge FLOAT, \n",
      "\twork_on_call_duty_charge_type TEXT, \n",
      "\t\"¿Salir o seguir contestando?.2\" TEXT, \n",
      "\twork_has_violence_situations TEXT, \n",
      "\t\"¿Considerás que en tu empresa/organización hay una marcada tendencia a escuchar más a los hombres?\" TEXT, \n",
      "\twork_yourself_in_your_work TEXT, \n",
      "\twork_listen_more_men TEXT, \n",
      "\tprofile_has_disabilities TEXT, \n",
      "\tprofile_has_disabilities_hiring_difficulties TEXT, \n",
      "\twork_lastyear_discrimination TEXT, \n",
      "\t\"¿Salir o seguir contestando?.3\" TEXT, \n",
      "\tcompany_days_in_the_office FLOAT, \n",
      "\tcompany_pandemic_support FLOAT, \n",
      "\tcompany_new_benefits TEXT, \n",
      "\tprofile_age BIGINT, \n",
      "\tprofile_gender TEXT\n",
      ")\n",
      "\n",
      "\n",
      "2023-01-25 14:46:43,624 INFO sqlalchemy.engine.Engine [no key 0.00148s] ()\n",
      "2023-01-25 14:46:43,633 INFO sqlalchemy.engine.Engine CREATE INDEX ix_survey_index ON survey (\"index\")\n",
      "2023-01-25 14:46:43,634 INFO sqlalchemy.engine.Engine [no key 0.00099s] ()\n",
      "2023-01-25 14:46:43,641 INFO sqlalchemy.engine.Engine COMMIT\n",
      "2023-01-25 14:46:43,685 INFO sqlalchemy.engine.Engine BEGIN (implicit)\n",
      "2023-01-25 14:46:44,231 INFO sqlalchemy.engine.Engine INSERT INTO survey (\"index\", work_province, work_contract_type, \"salary_monthly_BRUTO\", \"salary_monthly_NETO\", salary_in_usd, salary_last_dollar_value, salary_satisfaction, salary_comparison_last_semester, salary_has_bonus, salary_bonus_tied_to, salary_inflation_adjustment_2021, salary_percentage_inflation_adjustment_2021, salary_month_last_inflation_adjustment, work_role, profile_years_experience, work_years_in_company, work_years_in_current_position, work_people_in_charge_of, tools_platform, \"Lenguajes de programación o tecnologías.\", tools_frameworks, tools_data_bases, tools_qa_testing, \"tools_IDEs\", \"Cantidad de personas en tu organización\", \"Trabajo para una empresa que no tiene oficina en mi ciudad\", company_main_activity, company_recommended, company_extra_benefits, company_diversity_policies, \"¿Salir o seguir contestando?\", profile_studies_level, profile_studies_level_state, profile_career, profile_university, profile_specialization_courses, profile_open_source_contributions, profile_programming_as_hobby, \"¿Salir o seguir contestando?.1\", work_on_call_duty, salary_on_call_duty_charge, work_on_call_duty_charge_type, \"¿Salir o seguir contestando?.2\", work_has_violence_situations, \"¿Considerás que en tu empresa/organización hay una marcada tendencia a escuchar más a los hombres?\", work_yourself_in_your_work, work_listen_more_men, profile_has_disabilities, profile_has_disabilities_hiring_difficulties, work_lastyear_discrimination, \"¿Salir o seguir contestando?.3\", company_days_in_the_office, company_pandemic_support, company_new_benefits, profile_age, profile_gender) VALUES (?, ?, ?, ?, ?, ?, ?, ?, ?, ?, ?, ?, ?, ?, ?, ?, ?, ?, ?, ?, ?, ?, ?, ?, ?, ?, ?, ?, ?, ?, ?, ?, ?, ?, ?, ?, ?, ?, ?, ?, ?, ?, ?, ?, ?, ?, ?, ?, ?, ?, ?, ?, ?, ?, ?, ?, ?)\n",
      "2023-01-25 14:46:44,232 INFO sqlalchemy.engine.Engine [generated in 0.48867s] ((0, 'Catamarca', 'Tercerizado (trabajo a través de consultora o agencia)', '207000', 150000.0, None, None, 2, 1, 'No', 'No recibo bono', 'Dos', 53.0, 11.0, 'Technical Leader', 9.0, 1.0, 3.0, 0, 'Ninguna de las anteriores', 'Ninguno de los anteriores', 'Ninguno de los anteriores', 'Ninguna de las anteriores', 'Ninguna de las anteriores', 'Ninguno de los anteriores', '5001-10000', 'Trabajo para una empresa que no tiene oficina en mi ciudad', 'Otras industrias', 10, 'Horarios flexibles', 9, 'Quiero responder más preguntas', 'Universitario', 'Completado', 'Licenciatura en redes y comunicación de datos ', 'UP - Universidad de Palermo', 'Sí, de forma particular, Sí, los pagó un empleador', 'No', 'Sí', 'Quiero responder más preguntas', 'No', 0.0, 'Porcentaje de mi sueldo', 'Ya colaboré lo suficiente', None, None, None, None, None, None, None, None, None, None, None, 34, 'Varón Cis'), (1, 'Catamarca', 'Full-Time', '130000', 99000.0, None, None, 3, 4, 'Un sueldo', 'Performance de la compañía', 'Tres', 13.0, 10.0, 'Developer', 7.0, 0.0, 5.0, 0, 'Serverless, Windows Server', '.NET, C#, SQL, TypeScript', '.NET Core, Angular, Bootstrap', 'Informix', 'JUnit, Karma, Postman', 'Visual Studio, Visual Studio Code', '51-100', None, 'Producto basado en Software', 9, 'Capacitaciones y/o cursos, Clases de idiomas', 9, 'Ya colaboré lo suficiente', None, None, None, None, None, None, None, None, None, None, None, None, None, None, None, None, None, None, None, None, None, None, None, 35, 'Varón Cis'), (2, 'Catamarca', 'Full-Time', '185000', 145000.0, 'Mi sueldo está dolarizado (pero cobro en moneda local)', '100', 2, 2, 'De uno a tres sueldos', 'Performance grupal', 'Uno', 10.0, 2.0, 'Developer', 2.0, 1.0, 1.0, 0, 'Amazon Web Services', 'Go, Java, SQL', 'Spring, Gin gonic', 'Amazon DynamoDB, MySQL', 'JUnit, Postman', 'IntelliJ, Visual Studio Code', '5001-10000', 'Trabajo para una empresa que no tiene oficina en mi ciudad', 'Producto basado en Software', 10, 'Descuento en gimnasios / Clases de gimnasia online, Descuentos varios (Mercado Pago, Clarín 365, Club La Nación, etc), Horarios flexibles', 10, 'Ya colaboré lo suficiente', None, None, None, None, None, None, None, None, None, None, None, None, None, None, None, None, None, None, None, None, None, None, None, 26, 'Varón Trans'), (3, 'Catamarca', 'Full-Time', '70000', 60000.0, None, None, 3, 3, 'No', 'No recibo bono', 'No', 10.0, 6.0, 'Developer', 5.0, 4.0, 2.0, 1, 'Arduino o similar, Docker, Linux, Microcontroladores, VMWare', 'Arduino, C, PHP, Python, R', 'Bootstrap, Node.js, Svelte', 'MariaDB, MongoDB, MySQL', 'Ninguna de las anteriores', 'IntelliJ, NetBeans, Notepad++, PHPStorm, Visual Studio Code', '501-1000', None, 'Otras industrias', 5, 'Ninguna de las anteriores', 5, 'Ya colaboré lo suficiente', None, None, None, None, None, None, None, None, None, None, None, None, None, None, None, None, None, None, None, None, None, None, None, 33, 'Varón Cis'), (4, 'Catamarca', 'Full-Time', '90000', 74700.0, None, None, 3, 2, 'No', 'No recibo bono', 'No', 0.0, 0.0, 'QA / Tester', 0.0, 0.0, 0.0, 0, 'Azure', 'Ninguno de los anteriores', 'Ninguno de los anteriores', 'Ninguna de las anteriores', 'Ninguna de las anteriores', 'Ninguno de los anteriores', '101-200', 'Trabajo para una empresa que no tiene oficina en mi ciudad', 'Servicios / Consultoría de Software / Digital', 8, 'Abono de Internet, Capacitaciones y/o cursos, Clases de idiomas, Comidas pagas / subvencionadas', 2, 'Quiero responder más preguntas', 'Terciario', 'En curso', 'Tecnicatura en Programación', None, 'Sí, de forma particular', 'No', 'No', 'Ya colaboré lo suficiente', None, None, None, None, None, None, None, None, None, None, None, None, None, None, None, 29, 'Mujer Cis'), (5, 'Catamarca', 'Full-Time', '250000', 169000.0, 'Mi sueldo está dolarizado (pero cobro en moneda local)', '105.6', 4, 4, 'No', 'No recibo bono', 'Tres', 52.0, 12.0, 'Networking', 36.0, 36.0, 15.0, 28, 'Linux', 'PHP, Python', 'Drupal', 'MariaDB, MySQL', 'Ninguna de las anteriores', 'IPython / Jupyter', '51-100', None, 'Servicios / Consultoría de Software / Digital', 10, 'Abono de celular, Abono de Internet', 10, 'Ya colaboré lo suficiente', None, None, None, None, None, None, None, None, None, None, None, None, None, None, None, None, None, None, None, None, None, None, None, 53, 'Varón Cis'), (6, 'Catamarca', 'Full-Time', '447000', 300000.0, 'Mi sueldo está dolarizado (pero cobro en moneda local)', '200', 3, 3, 'De uno a tres sueldos', 'Mix de las anteriores', 'Dos', 40.0, 7.0, 'Developer', 3.0, 0.0, 0.0, 0, 'Firebase', 'CSS, Javascript, TypeScript', 'Angular, React.js, React native', 'Ninguna de las anteriores', 'Jest, react native testing library', 'Android Studio, Visual Studio Code, Xcode', '101-200', 'Trabajo para una empresa que no tiene oficina en mi ciudad', 'Producto basado en Software', 6, 'Clases de idiomas, Horarios flexibles, Licencia de paternidad / maternidad extendida, Vacaciones flexibles (adicionales a las reglamentarias)', 2, 'Quiero responder más preguntas', 'Universitario', 'Completado', 'Ingeniería en Informática', 'UNCA universidad nacional de catamarca', 'Sí, de forma particular', 'No', 'No', 'Quiero responder más preguntas', 'Sí, pasiva', 0.0, 'Porcentaje de mi sueldo', 'Ya colaboré lo suficiente', None, None, None, None, None, None, None, None, None, None, None, 28, 'Varón Cis'), (7, 'Catamarca', 'Part-Time', '160000', 110000.0, None, None, 2, 2, 'No', 'No recibo bono', 'Dos', 35.0, 11.0, 'Infosec', 25.0, 20.0, 3.0, 0, 'Docker, Linux, VMWare', 'Bash/Shell, HTML, Java, Javascript, PHP, Python, R, SQL', 'Django, Laravel', 'MySQL', 'Ninguna de las anteriores', 'IPython / Jupyter, Notepad++, Sublime Text, Vi, Vim', '11-50', None, 'Otras industrias', 5, 'Estacionamiento gratuito / subvencionado, Licencia de paternidad / maternidad extendida', 7, 'Quiero responder más preguntas', 'Universitario', 'Completado', 'Licenciatura en Sistemas de Información', 'UNCa', 'Sí, de forma particular', 'Sí', 'Sí', 'Quiero responder más preguntas', 'Sí, pasiva', 0.0, 'Bruto', 'Quiero responder más preguntas', None, 'No', 'Sí', 'No', None, 'No', 'Nunca', 'Quiero responder más preguntas', 5.0, 9.0, 'Préstamo de equipos', 50, 'Varón ')  ... displaying 10 of 5854 total bound parameter sets ...  (5852, 'Tucumán', 'Full-Time', '59500', 49385.0, None, None, 2, 2, 'Un sueldo', 'Performance individual', 'Dos', 17.0, 10.0, 'Recruiter / HR', 1.0, 1.0, 1.0, 5, 'Ninguna de las anteriores', 'Ninguno de los anteriores', 'Ninguno de los anteriores', 'Ninguna de las anteriores', 'Ninguna de las anteriores', 'Ninguno de los anteriores', '2-10', 'Trabajo para una empresa que no tiene oficina en mi ciudad', 'Servicios / Consultoría de Software / Digital', 9, 'Clases de idiomas, Horarios flexibles', 0, 'Quiero responder más preguntas', 'Universitario', 'Incompleto', 'Licenciatura en Administración', 'UNT - Universidad Nacional de Tucumán', 'Sí, de forma particular', 'No', 'No', 'Quiero responder más preguntas', 'No', 0.0, 'Neto', 'Quiero responder más preguntas', None, None, 'Sí', 'Sí', None, 'No', 'Nunca', 'Quiero responder más preguntas', 0.0, 8.0, 'Ninguna de las anteriores', 31, 'Varón Cis'), (5853, 'Tucumán', 'Full-Time', '88060', 74000.0, None, None, 2, 2, 'No', 'No recibo bono', 'Uno', 34.0, 12.0, 'Designer', 22.0, 12.0, 3.0, 0, 'Ninguna de las anteriores', 'CSS, HTML, Javascript', 'Bootstrap, Drupal, jQuery, WordPress', 'MySQL', 'Ninguna de las anteriores', 'Sublime Text, Visual Studio Code', '2-10', None, 'Servicios / Consultoría de Software / Digital', 6, 'Ninguna de las anteriores', 0, 'Quiero responder más preguntas', 'Secundario', 'Completado', None, None, 'Sí, de forma particular', 'No', 'No', 'Quiero responder más preguntas', 'No', 0.0, 'Porcentaje de mi sueldo', 'Quiero responder más preguntas', 'Asimetría jerárquica', 'Sí', 'Sí', 'No', None, 'No', None, 'Ya colaboré lo suficiente', None, None, None, 44, 'Varón Cis'))\n",
      "2023-01-25 14:46:44,396 INFO sqlalchemy.engine.Engine COMMIT\n"
     ]
    },
    {
     "data": {
      "text/plain": "5854"
     },
     "execution_count": 7,
     "metadata": {},
     "output_type": "execute_result"
    }
   ]
  },
  {
   "cell_type": "code",
   "source": [
    "query1 = \"SELECT * FROM survey WHERE salary_monthly_NETO > 100000 LIMIT 10\"\n",
    "query2 = \"SELECT COUNT(1) FROM survey WHERE salary_monthly_NETO > 100000\"\n",
    "query3 = \"SELECT AVG(salary_monthly_NETO) FROM survey\"\n",
    "query4 = \"SELECT AVG(salary_monthly_NETO) FROM survey WHERE profile_gender = 'Mujer'\"\n",
    "query5 = \"SELECT AVG(salary_monthly_NETO) FROM survey WHERE profile_gender = 'Hombre'\"\n",
    "query6 = \"SELECT profile_gender, AVG(salary_monthly_NETO) FROM survey GROUP BY profile_gender\"\n",
    "query7 = \"\"\"\n",
    "SELECT profile_gender, AVG(salary_monthly_NETO) \n",
    "FROM survey \n",
    "WHERE profile_years_experience > 5\n",
    "GROUP BY profile_gender\n",
    "\"\"\"\n",
    "query8 = \"\"\"\n",
    "SELECT profile_gender, AVG(salary_monthly_NETO) as avg_salary, MAX(salary_monthly_NETO), MIN(salary_monthly_NETO), COUNT(1)\n",
    "FROM survey \n",
    "WHERE profile_years_experience > 5\n",
    "GROUP BY profile_gender\n",
    "HAVING COUNT(*) > 100\n",
    "ORDER BY  AVG(salary_monthly_NETO) DESC\n",
    "\"\"\"\n",
    "queries = [query1, query2, query3, query4, query5, query6, query7, query8]"
   ],
   "metadata": {
    "id": "ScGvCcW8OqbQ"
   },
   "execution_count": 8,
   "outputs": []
  },
  {
   "cell_type": "code",
   "source": [
    "with engine.connect() as con:\n",
    "      rs = con.execute(query8)\n",
    "      # print(query1)\n",
    "      for row in rs:\n",
    "          print(row)"
   ],
   "metadata": {
    "colab": {
     "base_uri": "https://localhost:8080/"
    },
    "id": "AuEnTp6D-wp9",
    "outputId": "62125a40-ea01-48f6-8924-3552286872bf"
   },
   "execution_count": 9,
   "outputs": [
    {
     "name": "stdout",
     "output_type": "stream",
     "text": [
      "2023-01-25 14:46:49,509 INFO sqlalchemy.engine.Engine \n",
      "SELECT profile_gender, AVG(salary_monthly_NETO) as avg_salary, MAX(salary_monthly_NETO), MIN(salary_monthly_NETO), COUNT(1)\n",
      "FROM survey \n",
      "WHERE profile_years_experience > 5\n",
      "GROUP BY profile_gender\n",
      "HAVING COUNT(*) > 100\n",
      "ORDER BY  AVG(salary_monthly_NETO) DESC\n",
      "\n",
      "2023-01-25 14:46:49,510 INFO sqlalchemy.engine.Engine [raw sql] ()\n",
      "('Prefiero no decir', 279991.81444936706, 2000000.0, 37.0, 166)\n",
      "('Varón Cis', 268130.34707884607, 10023000.0, 1.0, 2176)\n",
      "('Mujer Cis', 220533.80393050195, 1600000.0, 64.12, 277)\n"
     ]
    }
   ]
  },
  {
   "cell_type": "code",
   "source": [
    "with engine.connect() as con:\n",
    "    for query in queries:\n",
    "      rs = con.execute(query)\n",
    "      print(query)\n",
    "      for row in rs:\n",
    "          print(row)\n",
    "\n",
    "      print('\\n\\n')"
   ],
   "metadata": {
    "colab": {
     "base_uri": "https://localhost:8080/"
    },
    "id": "MaN-lhJZGt-q",
    "outputId": "eced8011-07f1-4653-9781-403850e1a747"
   },
   "execution_count": 10,
   "outputs": [
    {
     "name": "stdout",
     "output_type": "stream",
     "text": [
      "2023-01-25 14:46:50,949 INFO sqlalchemy.engine.Engine SELECT * FROM survey WHERE salary_monthly_NETO > 100000 LIMIT 10\n",
      "2023-01-25 14:46:50,949 INFO sqlalchemy.engine.Engine [raw sql] ()\n",
      "SELECT * FROM survey WHERE salary_monthly_NETO > 100000 LIMIT 10\n",
      "(0, 'Catamarca', 'Tercerizado (trabajo a través de consultora o agencia)', '207000', 150000.0, None, None, 2, 1, 'No', 'No recibo bono', 'Dos', 53.0, 11.0, 'Technical Leader', 9.0, 1.0, 3.0, 0, 'Ninguna de las anteriores', 'Ninguno de los anteriores', 'Ninguno de los anteriores', 'Ninguna de las anteriores', 'Ninguna de las anteriores', 'Ninguno de los anteriores', '5001-10000', 'Trabajo para una empresa que no tiene oficina en mi ciudad', 'Otras industrias', 10, 'Horarios flexibles', 9, 'Quiero responder más preguntas', 'Universitario', 'Completado', 'Licenciatura en redes y comunicación de datos ', 'UP - Universidad de Palermo', 'Sí, de forma particular, Sí, los pagó un empleador', 'No', 'Sí', 'Quiero responder más preguntas', 'No', 0.0, 'Porcentaje de mi sueldo', 'Ya colaboré lo suficiente', None, None, None, None, None, None, None, None, None, None, None, 34, 'Varón Cis')\n",
      "(2, 'Catamarca', 'Full-Time', '185000', 145000.0, 'Mi sueldo está dolarizado (pero cobro en moneda local)', '100', 2, 2, 'De uno a tres sueldos', 'Performance grupal', 'Uno', 10.0, 2.0, 'Developer', 2.0, 1.0, 1.0, 0, 'Amazon Web Services', 'Go, Java, SQL', 'Spring, Gin gonic', 'Amazon DynamoDB, MySQL', 'JUnit, Postman', 'IntelliJ, Visual Studio Code', '5001-10000', 'Trabajo para una empresa que no tiene oficina en mi ciudad', 'Producto basado en Software', 10, 'Descuento en gimnasios / Clases de gimnasia online, Descuentos varios (Mercado Pago, Clarín 365, Club La Nación, etc), Horarios flexibles', 10, 'Ya colaboré lo suficiente', None, None, None, None, None, None, None, None, None, None, None, None, None, None, None, None, None, None, None, None, None, None, None, 26, 'Varón Trans')\n",
      "(5, 'Catamarca', 'Full-Time', '250000', 169000.0, 'Mi sueldo está dolarizado (pero cobro en moneda local)', '105.6', 4, 4, 'No', 'No recibo bono', 'Tres', 52.0, 12.0, 'Networking', 36.0, 36.0, 15.0, 28, 'Linux', 'PHP, Python', 'Drupal', 'MariaDB, MySQL', 'Ninguna de las anteriores', 'IPython / Jupyter', '51-100', None, 'Servicios / Consultoría de Software / Digital', 10, 'Abono de celular, Abono de Internet', 10, 'Ya colaboré lo suficiente', None, None, None, None, None, None, None, None, None, None, None, None, None, None, None, None, None, None, None, None, None, None, None, 53, 'Varón Cis')\n",
      "(6, 'Catamarca', 'Full-Time', '447000', 300000.0, 'Mi sueldo está dolarizado (pero cobro en moneda local)', '200', 3, 3, 'De uno a tres sueldos', 'Mix de las anteriores', 'Dos', 40.0, 7.0, 'Developer', 3.0, 0.0, 0.0, 0, 'Firebase', 'CSS, Javascript, TypeScript', 'Angular, React.js, React native', 'Ninguna de las anteriores', 'Jest, react native testing library', 'Android Studio, Visual Studio Code, Xcode', '101-200', 'Trabajo para una empresa que no tiene oficina en mi ciudad', 'Producto basado en Software', 6, 'Clases de idiomas, Horarios flexibles, Licencia de paternidad / maternidad extendida, Vacaciones flexibles (adicionales a las reglamentarias)', 2, 'Quiero responder más preguntas', 'Universitario', 'Completado', 'Ingeniería en Informática', 'UNCA universidad nacional de catamarca', 'Sí, de forma particular', 'No', 'No', 'Quiero responder más preguntas', 'Sí, pasiva', 0.0, 'Porcentaje de mi sueldo', 'Ya colaboré lo suficiente', None, None, None, None, None, None, None, None, None, None, None, 28, 'Varón Cis')\n",
      "(7, 'Catamarca', 'Part-Time', '160000', 110000.0, None, None, 2, 2, 'No', 'No recibo bono', 'Dos', 35.0, 11.0, 'Infosec', 25.0, 20.0, 3.0, 0, 'Docker, Linux, VMWare', 'Bash/Shell, HTML, Java, Javascript, PHP, Python, R, SQL', 'Django, Laravel', 'MySQL', 'Ninguna de las anteriores', 'IPython / Jupyter, Notepad++, Sublime Text, Vi, Vim', '11-50', None, 'Otras industrias', 5, 'Estacionamiento gratuito / subvencionado, Licencia de paternidad / maternidad extendida', 7, 'Quiero responder más preguntas', 'Universitario', 'Completado', 'Licenciatura en Sistemas de Información', 'UNCa', 'Sí, de forma particular', 'Sí', 'Sí', 'Quiero responder más preguntas', 'Sí, pasiva', 0.0, 'Bruto', 'Quiero responder más preguntas', None, 'No', 'Sí', 'No', None, 'No', 'Nunca', 'Quiero responder más preguntas', 5.0, 9.0, 'Préstamo de equipos', 50, 'Varón ')\n",
      "(8, 'Catamarca', 'Full-Time', '300000', 217000.0, None, None, 4, 4, 'No', 'No recibo bono', 'Dos', 33.0, 10.0, 'Infosec', 10.0, 0.0, 0.0, 0, 'Amazon Web Services', 'Bash/Shell, Python', 'Ninguno de los anteriores', 'Ninguna de las anteriores', 'Ninguna de las anteriores', 'Notepad++', '101-200', 'Trabajo para una empresa que no tiene oficina en mi ciudad', 'Servicios / Consultoría de Software / Digital', 8, 'Abono de Internet, Capacitaciones y/o cursos, Clases de idiomas, Horarios flexibles, Licencia de paternidad / maternidad extendida', 8, 'Quiero responder más preguntas', 'Universitario', 'Completado', 'Lic. En redes y comunicación de datos ', 'UP - Universidad de Palermo', 'Sí, de forma particular, Sí, los pagó un empleador', 'No', 'Sí', 'Quiero responder más preguntas', 'No', 0.0, 'Porcentaje de mi sueldo', 'Ya colaboré lo suficiente', None, None, None, None, None, None, None, None, None, None, None, 34, 'Varón Cis')\n",
      "(9, 'Catamarca', 'Full-Time', '980000', 650000.0, None, None, 2, 3, 'De uno a tres sueldos', 'Performance grupal', 'Tres', 85.0, 12.0, 'SysAdmin / DevOps / SRE', 24.0, 16.0, 5.0, 5, 'AIX, Arduino o similar, Azure, Docker, Linux, OpenShift, VMWare, Windows Server', 'Arduino, Bash/Shell, C++, CSS, Elixir, Kotlin, R, Solidity, VBA', '.NET Core, Bootstrap, Cordova, Flutter, Laravel, Rails, React.js, Symfony, Torch', 'Amazon DynamoDB, Apache HBase, Amazon RDS/Aurora, Cassandra, ElasticSearch, Percona XtraBackup, PostgreSQL', 'Cucumber, Cypress, HP UFT, PHPUnit, Ranorex, Test Complete, Watir', 'Android Studio, Coda, Emacs, Komodo, Nano, RStudio, Vi, Visual Studio, Visual Studio Code, Ninguno de los anteriores', '11-50', None, 'Otras industrias', 5, 'Abono de Internet, Estacionamiento gratuito / subvencionado, Horarios flexibles, Vacaciones flexibles (adicionales a las reglamentarias)', 10, 'Quiero responder más preguntas', 'Posdoctorado', 'Completado', 'Tecnicatura Electrónica', 'UNICEN - Universidad Nacional del Centro de la Provincia de Buenos Aires', 'Sí, de forma particular', 'No', 'No', 'Quiero responder más preguntas', 'No', 0.0, 'Porcentaje de mi sueldo', 'Quiero responder más preguntas', None, 'No', 'Sí', 'Sí', 'Auditiva, Visceral', 'No', 'Nunca', 'Quiero responder más preguntas', 2.0, 6.0, 'Almuerzo o delivery de snacks/bebidas (saludables o para after office), Clases de yoga, Compra de accesorios (escritorio, monitor, teclado, mouse, etc), Pago de abono de Internet', 50, 'Mujer Trans')\n",
      "(10, 'Chaco', 'Full-Time', '183000', 120000.0, None, None, 3, 2, 'Menos de un sueldo', 'Votado por decisión colectiva.', 'No', 0.0, 0.0, 'Architect', 3.0, 3.0, 0.0, 0, 'Linux, Windows Server', 'SQL, Genexus ', 'Ninguno de los anteriores', 'Microsoft SQL Server, Oracle, PostgreSQL', 'Gx Test', 'Notepad++, Vi, Vim', '501-1000', None, 'Producto basado en Software', 7, 'Licencia de paternidad / maternidad extendida, Viáticos', 9, 'Quiero responder más preguntas', 'Universitario', 'Incompleto', 'Ingeniería en Sistemas de Información', 'UTN - Universidad Tecnológica Nacional', 'Sí, de forma particular, Sí, los pagó un empleador', 'No', 'Sí', 'Quiero responder más preguntas', 'No', 0.0, 'Porcentaje de mi sueldo', 'Quiero responder más preguntas', None, 'No', 'Sí', 'No', None, 'No', 'Alguna vez', 'Quiero responder más preguntas', 5.0, 8.0, 'Ninguna de las anteriores', 32, 'Varón Cis')\n",
      "(17, 'Chaco', 'Remoto (empresa de otro país)', '720000', 600000.0, 'Cobro en dólares, Cobro parte de mi sueldo en otro país', None, 4, 3, 'No', 'No recibo bono', 'No', 0.0, 0.0, 'SysAdmin / DevOps / SRE', 10.0, 4.0, 4.0, 0, 'Amazon Web Services, Docker, Google Cloud Platform/App Engine, Linux, Serverless', 'Bash/Shell, Groovy, Python, SQL, HCL', 'Rails', 'Amazon DynamoDB, Amazon Redshift, Amazon RDS/Aurora, ElasticSearch, MySQL, PostgreSQL', 'Ninguna de las anteriores', 'Vi, Visual Studio Code', '101-200', 'Trabajo para una empresa que no tiene oficina en mi ciudad', 'Producto basado en Software', 9, 'Horarios flexibles', 8, 'Ya colaboré lo suficiente', None, None, None, None, None, None, None, None, None, None, None, None, None, None, None, None, None, None, None, None, None, None, None, 38, 'Varón Cis')\n",
      "(19, 'Chaco', 'Full-Time', '167000', 136940.0, None, '101', 3, 3, 'No', 'No recibo bono', 'Tres', 20.0, 9.0, 'QA / Tester', 3.0, 0.0, 3.0, 0, 'testflight, browserstack', 'Ninguno de los anteriores', 'Ninguno de los anteriores', 'Ninguna de las anteriores', 'Ninguna de las anteriores', 'Notepad++', '201-500', 'Trabajo para una empresa que no tiene oficina en mi ciudad', 'Producto basado en Software', 9, 'Abono de Internet, Capacitaciones y/o cursos, Descuento en gimnasios / Clases de gimnasia online, Clases de idiomas, Horarios flexibles', 9, 'Quiero responder más preguntas', 'Universitario', 'En curso', 'Ingeniería electromecánica', 'UTN - Universidad Tecnológica Nacional', 'Sí, de forma particular', 'No', 'Sí', 'Quiero responder más preguntas', 'No', 0.0, 'Bruto', 'Quiero responder más preguntas', None, 'No', 'Sí', 'Sí', None, 'No', 'Nunca', 'Quiero responder más preguntas', 0.0, 7.0, 'Clases de meditación, Clases de yoga, Compra de accesorios (escritorio, monitor, teclado, mouse, etc), Días libres extras, Pago de abono de Internet', 30, 'Varón Cis')\n",
      "\n",
      "\n",
      "\n",
      "2023-01-25 14:46:50,955 INFO sqlalchemy.engine.Engine SELECT COUNT(1) FROM survey WHERE salary_monthly_NETO > 100000\n",
      "2023-01-25 14:46:50,955 INFO sqlalchemy.engine.Engine [raw sql] ()\n",
      "SELECT COUNT(1) FROM survey WHERE salary_monthly_NETO > 100000\n",
      "(4016,)\n",
      "\n",
      "\n",
      "\n",
      "2023-01-25 14:46:50,966 INFO sqlalchemy.engine.Engine SELECT AVG(salary_monthly_NETO) FROM survey\n",
      "2023-01-25 14:46:50,966 INFO sqlalchemy.engine.Engine [raw sql] ()\n",
      "SELECT AVG(salary_monthly_NETO) FROM survey\n",
      "(201980.79678351793,)\n",
      "\n",
      "\n",
      "\n",
      "2023-01-25 14:46:50,973 INFO sqlalchemy.engine.Engine SELECT AVG(salary_monthly_NETO) FROM survey WHERE profile_gender = 'Mujer'\n",
      "2023-01-25 14:46:50,973 INFO sqlalchemy.engine.Engine [raw sql] ()\n",
      "SELECT AVG(salary_monthly_NETO) FROM survey WHERE profile_gender = 'Mujer'\n",
      "(127284.25,)\n",
      "\n",
      "\n",
      "\n",
      "2023-01-25 14:46:50,985 INFO sqlalchemy.engine.Engine SELECT AVG(salary_monthly_NETO) FROM survey WHERE profile_gender = 'Hombre'\n",
      "2023-01-25 14:46:50,985 INFO sqlalchemy.engine.Engine [raw sql] ()\n",
      "SELECT AVG(salary_monthly_NETO) FROM survey WHERE profile_gender = 'Hombre'\n",
      "(269090.60869565216,)\n",
      "\n",
      "\n",
      "\n",
      "2023-01-25 14:46:50,999 INFO sqlalchemy.engine.Engine SELECT profile_gender, AVG(salary_monthly_NETO) FROM survey GROUP BY profile_gender\n",
      "2023-01-25 14:46:50,999 INFO sqlalchemy.engine.Engine [raw sql] ()\n",
      "SELECT profile_gender, AVG(salary_monthly_NETO) FROM survey GROUP BY profile_gender\n",
      "('-', 42307.5)\n",
      "('.', 174300.0)\n",
      "('A tu mamá', 160000.0)\n",
      "('Agénero', 157751.01053846156)\n",
      "('Alien', 265000.0)\n",
      "('Arbol de aceitunas', 200000.0)\n",
      "('Auto de F1', 93000.0)\n",
      "('Ave', 100000.0)\n",
      "('Cuestionando', 74000.0)\n",
      "('Dejate de joder con boludeces.', None)\n",
      "('Dejense de joder c tanta opción', 260000.0)\n",
      "('Ente', 250000.0)\n",
      "('Es una estupidez esta pregunta. El genero no es relevante y como se identifica uno menos. ', 231000.0)\n",
      "('Femenino', 130.462)\n",
      "('Fluido', 302617.6666666667)\n",
      "('HOMBRE', 85924.25)\n",
      "('Helicoptero Apache', 292500.0)\n",
      "('Helicóptero AH-64 Apache', 145000.0)\n",
      "('Heterosexual', 398378.6666666667)\n",
      "('Hipogrifo', 100000.0)\n",
      "('Hombre', 269090.60869565216)\n",
      "('Hombre ', 56370.0)\n",
      "('Hombre Macho', 162000.0)\n",
      "('Hombre Normal', 80000.0)\n",
      "('Hombre culiado hombre! Hombre varón macho  que es eso de cis, realmente culiado se ponen en zurdo, taaaannnnnnnn complicado poner hombre, mujer? Son fobicos! ', 100.0)\n",
      "('Hombre macho hetero como Dios manda ', 55000.0)\n",
      "('Hombre macho papá', 130000.0)\n",
      "('Hombre normal', 34100.0)\n",
      "('Hombre, no me siento identificado con el resto', 140000.0)\n",
      "('Hombre-varón(hablemos bien)', 80000.0)\n",
      "('Linux Mint', 80000.0)\n",
      "('MASCULINO.', 140000.0)\n",
      "('MUJER', 22000.0)\n",
      "('Macho', 23000.0)\n",
      "('Macho ', 120000.0)\n",
      "('Macho argentino', 150000.0)\n",
      "('Macho que se respeta', 69300.0)\n",
      "('Masculino', 266029.513125)\n",
      "('Masculino (Paren ya esta estupidez)', 150000.0)\n",
      "('Masculino Clasico', 185000.0)\n",
      "('Masculino. No esos inventos de la actualidad. ', 1.0)\n",
      "('Me chupa un huevo, llamame como quieras', 120000.0)\n",
      "('Me da verguenza leer esta lista ......genero hay 2', 260000.0)\n",
      "('Me identifico con el genero con el que nací, ya que nadie me asigno nada.', 190000.0)\n",
      "('Me identifico con un helicóptero apache (no pregunten boludeces)', 80000.0)\n",
      "('Millonario, Filantropo, Buen padre y Super heroe en la siesta', 1368000.0)\n",
      "('Mujer', 127284.25)\n",
      "('Mujer Cis', 150004.89282157534)\n",
      "('Mujer Trans', 232440.0)\n",
      "('Mujer de nacimiento, tengo vulva', 74600.0)\n",
      "('Mujer lesbiana', 120000.0)\n",
      "('Mujer normal', 157.0)\n",
      "('No binarie', 235285.35714285713)\n",
      "('No entiendo la pregunta... Masculino... Déjense de romper los huevos con pelotudeces modernas.', 150000.0)\n",
      "('No es relevante', None)\n",
      "('No estoy interiorizado en el tema como para poder decir que me identifico con algún genero.', 277046.0)\n",
      "('No los conozco, perdon', 77500.0)\n",
      "('No pienso googlear que es CIS, soy hombre, tengo mujer y familia', 423000.0)\n",
      "('No se ni que opción soy.', 350000.0)\n",
      "('No se q shit es esto, soy mujer y punto', 124500.0)\n",
      "('Normal', 290000.0)\n",
      "('Normal, no se que significa todo eso', 96000.0)\n",
      "('Para queeee todo esto? si te discriminan no importa que seas.', 115000.0)\n",
      "('Pelotudeces no', 149000.0)\n",
      "('Peronista Cis', 97000.0)\n",
      "('Persona harta de tantos géneros', 125000.0)\n",
      "('PlatoVolador', 380000.0)\n",
      "('Prefiero no decir', 224383.24367330677)\n",
      "('Pueden exlicar qué significa cada término?', 324000.0)\n",
      "('Que es esa pelotudez de CIS???por dios!', 180000.0)\n",
      "('Qué complicado todo...', 450000.0)\n",
      "('Qué pregunta de mierda', 63000.0)\n",
      "('Soy hombre/varón', 145000.0)\n",
      "('Tecno-Velociraptor', 84000.0)\n",
      "('Teletubi', 450000.0)\n",
      "('Unicornio', 150000.0)\n",
      "('Varon', 131955.625)\n",
      "('Varon (no se que es Cis)', 73000.0)\n",
      "('Varon Hetero?', 244200.0)\n",
      "('Varon cis? Dejense de joder', 132000.0)\n",
      "('Varon macho peludo', 140000.0)\n",
      "('Varón', 236274.58333333334)\n",
      "('Varón ', 203333.33333333334)\n",
      "('Varón Cis', 211087.22858091583)\n",
      "('Varón Hetero', 195.0)\n",
      "('Varón Trans', 116774.14285714286)\n",
      "('Varón conservador ', 220000.0)\n",
      "('Varón heterosexual o como se llame', 400000.0)\n",
      "('Varón normal', 185000.0)\n",
      "('Varón punto! ni cis ni ningún otro cuento. ', 180000.0)\n",
      "('cacho castaña me pedia consejos sobre las mujeres', 74000.0)\n",
      "('comemelaverga', 159.0)\n",
      "('flaco era de remuneración salarial o de género esta encuesta?', 140000.0)\n",
      "('géneros hay sólo 2, el resto son filias', 238000.0)\n",
      "('h', 150000.0)\n",
      "('helicoptero apache', 720000.0)\n",
      "('helicóptero apache', None)\n",
      "('hombre', 151250.0)\n",
      "('hombre cis pero no creo en el genero', None)\n",
      "('masculino', 187933.33333333334)\n",
      "('me identifico como un helicóptero Apache', 115000.0)\n",
      "('me identifico con el genero que recibi al nacer', 150000.0)\n",
      "('metalere', 130000.0)\n",
      "('mujer', 83500.0)\n",
      "('mujer ', 1000.0)\n",
      "('no entiendo esto, nací hombre y soy hombre.', 137472.0)\n",
      "('no molesten', 1500000.0)\n",
      "('que es cis?', 102000.0)\n",
      "('que importa mi genero...', None)\n",
      "('segun dni Masculino', 120000.0)\n",
      "('solo varon', 124000.0)\n",
      "('trans queer', 240000.0)\n",
      "('unicornio intergaláctico supremo saiyajin (CHUPALA ZURDO DE MIERDA)', 210000.0)\n",
      "('varon', 236000.0)\n",
      "('varon (lo de Cis es un invento...)', 179847.0)\n",
      "('varon normal', 550000.0)\n",
      "('varon.', 184212.0)\n",
      "('varón', 272500.0)\n",
      "\n",
      "\n",
      "\n",
      "2023-01-25 14:46:51,026 INFO sqlalchemy.engine.Engine \n",
      "SELECT profile_gender, AVG(salary_monthly_NETO) \n",
      "FROM survey \n",
      "WHERE profile_years_experience > 5\n",
      "GROUP BY profile_gender\n",
      "\n",
      "2023-01-25 14:46:51,028 INFO sqlalchemy.engine.Engine [raw sql] ()\n",
      "\n",
      "SELECT profile_gender, AVG(salary_monthly_NETO) \n",
      "FROM survey \n",
      "WHERE profile_years_experience > 5\n",
      "GROUP BY profile_gender\n",
      "\n",
      "('-', 115.0)\n",
      "('.', 174300.0)\n",
      "('A tu mamá', 160000.0)\n",
      "('Agénero', 222982.07142857142)\n",
      "('Alien', 265000.0)\n",
      "('Arbol de aceitunas', 200000.0)\n",
      "('Auto de F1', 93000.0)\n",
      "('Dejate de joder con boludeces.', None)\n",
      "('Dejense de joder c tanta opción', 260000.0)\n",
      "('Ente', 250000.0)\n",
      "('Es una estupidez esta pregunta. El genero no es relevante y como se identifica uno menos. ', 231000.0)\n",
      "('Fluido', 401931.4285714286)\n",
      "('HOMBRE', 89899.0)\n",
      "('Helicoptero Apache', 85000.0)\n",
      "('Helicóptero AH-64 Apache', 145000.0)\n",
      "('Heterosexual', 1074843.0)\n",
      "('Hombre', 411700.4347826087)\n",
      "('Hombre ', 110.0)\n",
      "('Hombre Macho', 162000.0)\n",
      "('Hombre Normal', 80000.0)\n",
      "('Hombre macho papá', 130000.0)\n",
      "('MASCULINO.', 140000.0)\n",
      "('MUJER', 22000.0)\n",
      "('Macho ', 120000.0)\n",
      "('Macho argentino', 150000.0)\n",
      "('Macho que se respeta', 69300.0)\n",
      "('Masculino', 900079.0)\n",
      "('Masculino (Paren ya esta estupidez)', 150000.0)\n",
      "('Masculino. No esos inventos de la actualidad. ', 1.0)\n",
      "('Me chupa un huevo, llamame como quieras', 120000.0)\n",
      "('Me identifico con el genero con el que nací, ya que nadie me asigno nada.', 190000.0)\n",
      "('Millonario, Filantropo, Buen padre y Super heroe en la siesta', 1368000.0)\n",
      "('Mujer', 163353.5)\n",
      "('Mujer Cis', 220533.80393050195)\n",
      "('Mujer Trans', 341000.0)\n",
      "('No binarie', 363500.0)\n",
      "('No entiendo la pregunta... Masculino... Déjense de romper los huevos con pelotudeces modernas.', 150000.0)\n",
      "('No es relevante', None)\n",
      "('No estoy interiorizado en el tema como para poder decir que me identifico con algún genero.', 277046.0)\n",
      "('No pienso googlear que es CIS, soy hombre, tengo mujer y familia', 423000.0)\n",
      "('No se ni que opción soy.', 350000.0)\n",
      "('Normal', 180000.0)\n",
      "('Normal, no se que significa todo eso', 96000.0)\n",
      "('Para queeee todo esto? si te discriminan no importa que seas.', 115000.0)\n",
      "('Peronista Cis', 97000.0)\n",
      "('PlatoVolador', 380000.0)\n",
      "('Prefiero no decir', 279991.81444936706)\n",
      "('Pueden exlicar qué significa cada término?', 324000.0)\n",
      "('Que es esa pelotudez de CIS???por dios!', 180000.0)\n",
      "('Qué complicado todo...', 450000.0)\n",
      "('Qué pregunta de mierda', 63000.0)\n",
      "('Tecno-Velociraptor', 84000.0)\n",
      "('Teletubi', 450000.0)\n",
      "('Unicornio', 150000.0)\n",
      "('Varon', 139729.0)\n",
      "('Varon Hetero?', 244200.0)\n",
      "('Varon cis? Dejense de joder', 132000.0)\n",
      "('Varón', 282666.6666666667)\n",
      "('Varón ', 203333.33333333334)\n",
      "('Varón Cis', 268130.34707884607)\n",
      "('Varón Hetero', 195.0)\n",
      "('Varón Trans', 250000.0)\n",
      "('Varón conservador ', 220000.0)\n",
      "('Varón heterosexual o como se llame', 400000.0)\n",
      "('Varón normal', 185000.0)\n",
      "('Varón punto! ni cis ni ningún otro cuento. ', 180000.0)\n",
      "('géneros hay sólo 2, el resto son filias', 238000.0)\n",
      "('h', 150000.0)\n",
      "('hombre', 76000.0)\n",
      "('masculino', 250000.0)\n",
      "('me identifico con el genero que recibi al nacer', 150000.0)\n",
      "('mujer', 50000.0)\n",
      "('no entiendo esto, nací hombre y soy hombre.', 137472.0)\n",
      "('no molesten', 1500000.0)\n",
      "('que importa mi genero...', None)\n",
      "('segun dni Masculino', 120000.0)\n",
      "('solo varon', 124000.0)\n",
      "('varon (lo de Cis es un invento...)', 179847.0)\n",
      "('varon normal', 550000.0)\n",
      "('varón', 272500.0)\n",
      "\n",
      "\n",
      "\n",
      "2023-01-25 14:46:51,044 INFO sqlalchemy.engine.Engine \n",
      "SELECT profile_gender, AVG(salary_monthly_NETO) as avg_salary, MAX(salary_monthly_NETO), MIN(salary_monthly_NETO), COUNT(1)\n",
      "FROM survey \n",
      "WHERE profile_years_experience > 5\n",
      "GROUP BY profile_gender\n",
      "HAVING COUNT(*) > 100\n",
      "ORDER BY  AVG(salary_monthly_NETO) DESC\n",
      "\n",
      "2023-01-25 14:46:51,044 INFO sqlalchemy.engine.Engine [raw sql] ()\n",
      "\n",
      "SELECT profile_gender, AVG(salary_monthly_NETO) as avg_salary, MAX(salary_monthly_NETO), MIN(salary_monthly_NETO), COUNT(1)\n",
      "FROM survey \n",
      "WHERE profile_years_experience > 5\n",
      "GROUP BY profile_gender\n",
      "HAVING COUNT(*) > 100\n",
      "ORDER BY  AVG(salary_monthly_NETO) DESC\n",
      "\n",
      "('Prefiero no decir', 279991.81444936706, 2000000.0, 37.0, 166)\n",
      "('Varón Cis', 268130.34707884607, 10023000.0, 1.0, 2176)\n",
      "('Mujer Cis', 220533.80393050195, 1600000.0, 64.12, 277)\n",
      "\n",
      "\n",
      "\n"
     ]
    }
   ]
  },
  {
   "cell_type": "code",
   "source": [
    "conn = engine.connect()"
   ],
   "metadata": {
    "id": "DsHMfh3OMRR-"
   },
   "execution_count": 11,
   "outputs": []
  },
  {
   "cell_type": "code",
   "source": [
    "result = conn.execute('SELECT COUNT(1) FROM survey WHERE salary_monthly_NETO > 100000')\n",
    "print(result.all())"
   ],
   "metadata": {
    "colab": {
     "base_uri": "https://localhost:8080/"
    },
    "id": "HRSjKMOuLuMA",
    "outputId": "956b9d3f-c261-408c-fe4d-fe7b7ee197d5"
   },
   "execution_count": 12,
   "outputs": [
    {
     "name": "stdout",
     "output_type": "stream",
     "text": [
      "2023-01-25 14:46:53,281 INFO sqlalchemy.engine.Engine SELECT COUNT(1) FROM survey WHERE salary_monthly_NETO > 100000\n",
      "2023-01-25 14:46:53,281 INFO sqlalchemy.engine.Engine [raw sql] ()\n",
      "[(4016,)]\n"
     ]
    }
   ]
  },
  {
   "cell_type": "code",
   "source": [],
   "metadata": {
    "id": "scpCZUtNNPeg"
   },
   "execution_count": null,
   "outputs": []
  }
 ]
}
