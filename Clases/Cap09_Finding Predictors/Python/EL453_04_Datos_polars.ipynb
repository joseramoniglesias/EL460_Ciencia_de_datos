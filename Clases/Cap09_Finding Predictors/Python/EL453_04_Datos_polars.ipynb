{
 "cells": [
  {
   "cell_type": "markdown",
   "source": [
    "# Implementación de Polars\n",
    "# Ejemplos Varios<a class=\"tocSkip\">\n",
    "## Reconocimiento de Patrones <a class=\"tocSkip\">\n",
    "### Ingenieria Electrónica <a class=\"tocSkip\">\n",
    "### Universidad Popular del Cesar <a class=\"tocSkip\">\n",
    "### Prof.: Jose Ramón Iglesias Gamarra - [https://github.com/joseramoniglesias/](https://github.com/joseramoniglesias/) <a class=\"tocSkip\">\n",
    "  **joseiglesias@unicesar.edu.co**"
   ],
   "metadata": {
    "collapsed": false
   }
  },
  {
   "cell_type": "markdown",
   "source": [
    "# Librerías\n",
    "Estas son las librerías utilizadas en (entorno Python):\n",
    "\n",
    "# Datos\n",
    "Vamos a utilizar datos públicos del sistema nacional de salud de Inglaterra (NHS: National Health Service). El archivo de tipo csv contiene una muestra de datos de prescripciones médicas realizadas en Reino Unido (Deciembre 2014).\n",
    "\n",
    "Polars puede trabajar con distintos formatos de datos (csv, parquet, json, DBs, etc.)."
   ],
   "metadata": {
    "collapsed": false
   }
  },
  {
   "cell_type": "code",
   "execution_count": 1,
   "outputs": [],
   "source": [
    "import polars as pl\n",
    "from datetime import datetime"
   ],
   "metadata": {
    "collapsed": false,
    "ExecuteTime": {
     "end_time": "2023-10-18T18:53:04.031749700Z",
     "start_time": "2023-10-18T18:53:03.862298Z"
    }
   }
  },
  {
   "cell_type": "code",
   "execution_count": 2,
   "outputs": [
    {
     "name": "stdout",
     "output_type": "stream",
     "text": [
      "Tipo de objeto: <class 'polars.dataframe.frame.DataFrame'>\n",
      "Dimensiones de los datos: (50000, 26)\n"
     ]
    },
    {
     "data": {
      "text/plain": "shape: (5, 26)\n┌──────────┬────────────┬────────────┬────────────┬───┬──────────┬───────┬───────────┬────────────┐\n│ YEAR_MON ┆ REGIONAL_O ┆ REGIONAL_O ┆ AREA_TEAM_ ┆ … ┆ ADQUSAGE ┆ NIC   ┆ ACTUAL_CO ┆ UNIDENTIFI │\n│ TH       ┆ FFICE_NAME ┆ FFICE_CODE ┆ NAME       ┆   ┆ ---      ┆ ---   ┆ ST        ┆ ED         │\n│ ---      ┆ ---        ┆ ---        ┆ ---        ┆   ┆ f64      ┆ f64   ┆ ---       ┆ ---        │\n│ i64      ┆ str        ┆ str        ┆ str        ┆   ┆          ┆       ┆ f64       ┆ str        │\n╞══════════╪════════════╪════════════╪════════════╪═══╪══════════╪═══════╪═══════════╪════════════╡\n│ 201412   ┆ NORTH OF   ┆ Y54        ┆ GREATER    ┆ … ┆ 3.0      ┆ 4.5   ┆ 4.16564   ┆ N          │\n│          ┆ ENGLAND    ┆            ┆ MANCHESTER ┆   ┆          ┆       ┆           ┆            │\n│          ┆            ┆            ┆ AREA       ┆   ┆          ┆       ┆           ┆            │\n│ 201412   ┆ NORTH OF   ┆ Y54        ┆ WEST       ┆ … ┆ 0.0      ┆ 8.8   ┆ 8.1839    ┆ N          │\n│          ┆ ENGLAND    ┆            ┆ YORKSHIRE  ┆   ┆          ┆       ┆           ┆            │\n│          ┆            ┆            ┆ AREA       ┆   ┆          ┆       ┆           ┆            │\n│ 201412   ┆ SOUTH OF   ┆ Y57        ┆ SURREY AND ┆ … ┆ 0.0      ┆ 8.97  ┆ 8.3532    ┆ N          │\n│          ┆ ENGLAND    ┆            ┆ SUSSEX     ┆   ┆          ┆       ┆           ┆            │\n│          ┆            ┆            ┆ AREA       ┆   ┆          ┆       ┆           ┆            │\n│ 201412   ┆ LONDON     ┆ Y56        ┆ NORTH EAST ┆ … ┆ 0.0      ┆ 14.0  ┆ 12.9708   ┆ N          │\n│          ┆            ┆            ┆ LONDON     ┆   ┆          ┆       ┆           ┆            │\n│          ┆            ┆            ┆ AREA       ┆   ┆          ┆       ┆           ┆            │\n│ 201412   ┆ SOUTH OF   ┆ Y57        ┆ BRISTOL, N ┆ … ┆ 177.5    ┆ 46.86 ┆ 51.2295   ┆ N          │\n│          ┆ ENGLAND    ┆            ┆ SOM, SOM & ┆   ┆          ┆       ┆           ┆            │\n│          ┆            ┆            ┆ S GLOS     ┆   ┆          ┆       ┆           ┆            │\n│          ┆            ┆            ┆ ARE…       ┆   ┆          ┆       ┆           ┆            │\n└──────────┴────────────┴────────────┴────────────┴───┴──────────┴───────┴───────────┴────────────┘",
      "text/html": "<div><style>\n.dataframe > thead > tr > th,\n.dataframe > tbody > tr > td {\n  text-align: right;\n}\n</style>\n<small>shape: (5, 26)</small><table border=\"1\" class=\"dataframe\"><thead><tr><th>YEAR_MONTH</th><th>REGIONAL_OFFICE_NAME</th><th>REGIONAL_OFFICE_CODE</th><th>AREA_TEAM_NAME</th><th>AREA_TEAM_CODE</th><th>PCO_NAME</th><th>PCO_CODE</th><th>PRACTICE_NAME</th><th>PRACTICE_CODE</th><th>ADDRESS_1</th><th>ADDRESS_2</th><th>ADDRESS_3</th><th>ADDRESS_4</th><th>POSTCODE</th><th>BNF_CHEMICAL_SUBSTANCE</th><th>CHEMICAL_SUBSTANCE_BNF_DESCR</th><th>BNF_CODE</th><th>BNF_DESCRIPTION</th><th>BNF_CHAPTER_PLUS_CODE</th><th>QUANTITY</th><th>ITEMS</th><th>TOTAL_QUANTITY</th><th>ADQUSAGE</th><th>NIC</th><th>ACTUAL_COST</th><th>UNIDENTIFIED</th></tr><tr><td>i64</td><td>str</td><td>str</td><td>str</td><td>str</td><td>str</td><td>str</td><td>str</td><td>str</td><td>str</td><td>str</td><td>str</td><td>str</td><td>str</td><td>str</td><td>str</td><td>str</td><td>str</td><td>str</td><td>f64</td><td>i64</td><td>f64</td><td>f64</td><td>f64</td><td>f64</td><td>str</td></tr></thead><tbody><tr><td>201412</td><td>&quot;NORTH OF ENGLA…</td><td>&quot;Y54&quot;</td><td>&quot;GREATER MANCHE…</td><td>&quot;Q46&quot;</td><td>&quot;OLDHAM CCG&quot;</td><td>&quot;00Y00&quot;</td><td>&quot;ADDY PRACTICE&quot;</td><td>&quot;P85603&quot;</td><td>&quot;BARLEY CLOUGH …</td><td>&quot;NUGGET STREET&quot;</td><td>&quot;OLDHAM&quot;</td><td>null</td><td>&quot;OL4 1BN&quot;</td><td>&quot;0902012H0&quot;</td><td>&quot;Oral rehydrati…</td><td>&quot;0902012H0BBAGA…</td><td>&quot;Dioralyte oral…</td><td>&quot;09: Nutrition …</td><td>12.0</td><td>1</td><td>12.0</td><td>3.0</td><td>4.5</td><td>4.16564</td><td>&quot;N&quot;</td></tr><tr><td>201412</td><td>&quot;NORTH OF ENGLA…</td><td>&quot;Y54&quot;</td><td>&quot;WEST YORKSHIRE…</td><td>&quot;Q52&quot;</td><td>&quot;LEEDS NORTH CC…</td><td>&quot;02V00&quot;</td><td>&quot;ALLERTON MEDIC…</td><td>&quot;B86039&quot;</td><td>&quot;ALLERTON MEDIC…</td><td>&quot;6 MONTREAL AVE…</td><td>&quot;LEEDS&quot;</td><td>&quot;WEST YORKSHIRE…</td><td>&quot;LS7 4LF&quot;</td><td>&quot;1103010C0&quot;</td><td>&quot;Chloramphenico…</td><td>&quot;1103010C0AAADA…</td><td>&quot;Chloramphenico…</td><td>&quot;11: Eye&quot;</td><td>4.0</td><td>5</td><td>20.0</td><td>0.0</td><td>8.8</td><td>8.1839</td><td>&quot;N&quot;</td></tr><tr><td>201412</td><td>&quot;SOUTH OF ENGLA…</td><td>&quot;Y57&quot;</td><td>&quot;SURREY AND SUS…</td><td>&quot;Q68&quot;</td><td>&quot;CRAWLEY CCG&quot;</td><td>&quot;09H00&quot;</td><td>&quot;SAXONBROOK MED…</td><td>&quot;H82026&quot;</td><td>&quot;SAXONBROOK MED…</td><td>&quot;MAIDENBOWER SQ…</td><td>&quot;CRAWLEY&quot;</td><td>&quot;WEST SUSSEX&quot;</td><td>&quot;RH10 7QH&quot;</td><td>&quot;0703010F0&quot;</td><td>&quot;Combined ethin…</td><td>&quot;0703010F0BEABA…</td><td>&quot;Microgynon 30 …</td><td>&quot;07: Obstetrics…</td><td>84.0</td><td>3</td><td>252.0</td><td>0.0</td><td>8.97</td><td>8.3532</td><td>&quot;N&quot;</td></tr><tr><td>201412</td><td>&quot;LONDON&quot;</td><td>&quot;Y56&quot;</td><td>&quot;NORTH EAST LON…</td><td>&quot;Q61&quot;</td><td>&quot;REDBRIDGE CCG&quot;</td><td>&quot;08N00&quot;</td><td>&quot;THE PALMS MEDI…</td><td>&quot;F86009&quot;</td><td>&quot;THE PALMS MEDI…</td><td>&quot;97-101 NETLEY …</td><td>&quot;NEWBURY PARK&quot;</td><td>&quot;ILFORD, ESSEX&quot;</td><td>&quot;IG2 7NW&quot;</td><td>&quot;131002030&quot;</td><td>&quot;Terbinafine hy…</td><td>&quot;131002030AAAAA…</td><td>&quot;Terbinafine 1%…</td><td>&quot;13: Skin&quot;</td><td>30.0</td><td>4</td><td>120.0</td><td>0.0</td><td>14.0</td><td>12.9708</td><td>&quot;N&quot;</td></tr><tr><td>201412</td><td>&quot;SOUTH OF ENGLA…</td><td>&quot;Y57&quot;</td><td>&quot;BRISTOL, N SOM…</td><td>&quot;Q65&quot;</td><td>&quot;BRISTOL CCG&quot;</td><td>&quot;11H00&quot;</td><td>&quot;SOUTHMEAD &amp; HE…</td><td>&quot;L81067&quot;</td><td>&quot;SOUTHMEAD HEAL…</td><td>&quot;ULLSWATER ROAD…</td><td>&quot;BRISTOL&quot;</td><td>null</td><td>&quot;BS10 6DF&quot;</td><td>&quot;0206030N0&quot;</td><td>&quot;Nicorandil&quot;</td><td>&quot;0206030N0AAAAA…</td><td>&quot;Nicorandil 10m…</td><td>&quot;02: Cardiovasc…</td><td>10.0</td><td>71</td><td>710.0</td><td>177.5</td><td>46.86</td><td>51.2295</td><td>&quot;N&quot;</td></tr></tbody></table></div>"
     },
     "metadata": {},
     "output_type": "display_data"
    }
   ],
   "source": [
    "# Lectura de datos (csv)\n",
    "# ==============================================================================\n",
    "nhs_raw_df = pl.read_csv('sample_epd_201412.csv', separator=\";\")\n",
    "print(f\"Tipo de objeto: {type(nhs_raw_df)}\")\n",
    "print(f\"Dimensiones de los datos: {nhs_raw_df.shape}\")\n",
    "display(nhs_raw_df.head())"
   ],
   "metadata": {
    "collapsed": false,
    "ExecuteTime": {
     "end_time": "2023-10-18T18:53:07.128244500Z",
     "start_time": "2023-10-18T18:53:06.398111800Z"
    }
   }
  },
  {
   "cell_type": "code",
   "execution_count": 10,
   "outputs": [
    {
     "name": "stdout",
     "output_type": "stream",
     "text": [
      "==================================================\n",
      "df.columns: listado de columnas de un DataFrame\n",
      "['YEAR_MONTH', 'REGIONAL_OFFICE_NAME', 'REGIONAL_OFFICE_CODE', 'AREA_TEAM_NAME', 'AREA_TEAM_CODE', 'PCO_NAME', 'PCO_CODE', 'PRACTICE_NAME', 'PRACTICE_CODE', 'ADDRESS_1', 'ADDRESS_2', 'ADDRESS_3', 'ADDRESS_4', 'POSTCODE', 'BNF_CHEMICAL_SUBSTANCE', 'CHEMICAL_SUBSTANCE_BNF_DESCR', 'BNF_CODE', 'BNF_DESCRIPTION', 'BNF_CHAPTER_PLUS_CODE', 'QUANTITY', 'ITEMS', 'TOTAL_QUANTITY', 'ADQUSAGE', 'NIC', 'ACTUAL_COST', 'UNIDENTIFIED']\n",
      "\n",
      "==================================================\n",
      "df.types: tipos de datos de las columnas de un DataFrame\n",
      "[Int64, Utf8, Utf8, Utf8, Utf8, Utf8, Utf8, Utf8, Utf8, Utf8, Utf8, Utf8, Utf8, Utf8, Utf8, Utf8, Utf8, Utf8, Utf8, Float64, Int64, Float64, Float64, Float64, Float64, Utf8]\n",
      "Tipos de datos únicos: {Int64, Utf8, Float64}\n",
      "\n",
      "==================================================\n",
      "df.schema: Diccionario con las columnas y sus tipos de datos\n",
      "{'YEAR_MONTH': Int64, 'REGIONAL_OFFICE_NAME': Utf8, 'REGIONAL_OFFICE_CODE': Utf8, 'AREA_TEAM_NAME': Utf8, 'AREA_TEAM_CODE': Utf8, 'PCO_NAME': Utf8, 'PCO_CODE': Utf8, 'PRACTICE_NAME': Utf8, 'PRACTICE_CODE': Utf8, 'ADDRESS_1': Utf8, 'ADDRESS_2': Utf8, 'ADDRESS_3': Utf8, 'ADDRESS_4': Utf8, 'POSTCODE': Utf8, 'BNF_CHEMICAL_SUBSTANCE': Utf8, 'CHEMICAL_SUBSTANCE_BNF_DESCR': Utf8, 'BNF_CODE': Utf8, 'BNF_DESCRIPTION': Utf8, 'BNF_CHAPTER_PLUS_CODE': Utf8, 'QUANTITY': Float64, 'ITEMS': Int64, 'TOTAL_QUANTITY': Float64, 'ADQUSAGE': Float64, 'NIC': Float64, 'ACTUAL_COST': Float64, 'UNIDENTIFIED': Utf8}\n",
      "\n",
      "==================================================\n",
      "df.shape : filas x columnas de un DataFrame\n",
      "(50000, 26)\n",
      "\n",
      "==================================================\n",
      "df.height : número de filas de un DataFrame\n",
      "50000\n",
      "\n",
      "==================================================\n",
      "df.width : número de columnas de un DataFrame\n",
      "26\n"
     ]
    }
   ],
   "source": [
    "n_chars = 50\n",
    "\n",
    "# df.columns\n",
    "# ==============================================================================\n",
    "print(\"=\"*n_chars)\n",
    "print(\"df.columns: listado de columnas de un DataFrame\")\n",
    "print(nhs_raw_df.columns)\n",
    "print(\"\")\n",
    "\n",
    "# df.types\n",
    "# ==============================================================================\n",
    "print(\"=\"*n_chars)\n",
    "print(\"df.types: tipos de datos de las columnas de un DataFrame\")\n",
    "print(nhs_raw_df.dtypes)\n",
    "print(f\"Tipos de datos únicos: {set(nhs_raw_df.dtypes)}\")\n",
    "print(\"\")\n",
    "\n",
    "# df.schema\n",
    "# ==============================================================================\n",
    "print(\"=\"*n_chars)\n",
    "print(\"df.schema: Diccionario con las columnas y sus tipos de datos\")\n",
    "print(nhs_raw_df.schema)\n",
    "print(\"\")\n",
    "\n",
    "# df.shape\n",
    "# ==============================================================================\n",
    "print(\"=\"*n_chars)\n",
    "print(\"df.shape : filas x columnas de un DataFrame\")\n",
    "print(nhs_raw_df.shape)\n",
    "print(\"\")\n",
    "\n",
    "# df.height\n",
    "# ==============================================================================\n",
    "print(\"=\"*n_chars)\n",
    "print(\"df.height : número de filas de un DataFrame\")\n",
    "print(nhs_raw_df.height)\n",
    "print(\"\")\n",
    "\n",
    "# df.width\n",
    "# ==============================================================================\n",
    "print(\"=\"*n_chars)\n",
    "print(\"df.width : número de columnas de un DataFrame\")\n",
    "print(nhs_raw_df.width)\n",
    "print(\"\")"
   ],
   "metadata": {
    "collapsed": false,
    "ExecuteTime": {
     "end_time": "2023-10-18T18:54:47.056070500Z",
     "start_time": "2023-10-18T18:54:47.040473200Z"
    }
   }
  },
  {
   "cell_type": "code",
   "execution_count": 11,
   "outputs": [
    {
     "name": "stdout",
     "output_type": "stream",
     "text": [
      "df.describe(): Summary Stats\n"
     ]
    },
    {
     "data": {
      "text/plain": "shape: (9, 27)\n┌──────────┬──────────┬────────────┬────────────┬───┬──────────┬──────────┬───────────┬────────────┐\n│ describe ┆ YEAR_MON ┆ REGIONAL_O ┆ REGIONAL_O ┆ … ┆ ADQUSAGE ┆ NIC      ┆ ACTUAL_CO ┆ UNIDENTIFI │\n│ ---      ┆ TH       ┆ FFICE_NAME ┆ FFICE_CODE ┆   ┆ ---      ┆ ---      ┆ ST        ┆ ED         │\n│ str      ┆ ---      ┆ ---        ┆ ---        ┆   ┆ f64      ┆ f64      ┆ ---       ┆ ---        │\n│          ┆ f64      ┆ str        ┆ str        ┆   ┆          ┆          ┆ f64       ┆ str        │\n╞══════════╪══════════╪════════════╪════════════╪═══╪══════════╪══════════╪═══════════╪════════════╡\n│ count    ┆ 50000.0  ┆ 50000      ┆ 50000      ┆ … ┆ 50000.0  ┆ 50000.0  ┆ 50000.0   ┆ 50000      │\n│ null_cou ┆ 0.0      ┆ 0          ┆ 0          ┆ … ┆ 0.0      ┆ 0.0      ┆ 0.0       ┆ 0          │\n│ nt       ┆          ┆            ┆            ┆   ┆          ┆          ┆           ┆            │\n│ mean     ┆ 201412.0 ┆ null       ┆ null       ┆ … ┆ 120.4459 ┆ 41.31132 ┆ 38.300054 ┆ null       │\n│          ┆          ┆            ┆            ┆   ┆ 82       ┆ 6        ┆           ┆            │\n│ std      ┆ 0.0      ┆ null       ┆ null       ┆ … ┆ 645.3314 ┆ 112.1813 ┆ 103.60012 ┆ null       │\n│          ┆          ┆            ┆            ┆   ┆ 58       ┆ 17       ┆ 7         ┆            │\n│ min      ┆ 201412.0 ┆ LONDON     ┆ -          ┆ … ┆ 0.0      ┆ 0.01     ┆ 0.06461   ┆ N          │\n│ max      ┆ 201412.0 ┆ UNIDENTIFI ┆ Y57        ┆ … ┆ 43007.99 ┆ 7256.56  ┆ 6698.1467 ┆ Y          │\n│          ┆          ┆ ED         ┆            ┆   ┆ 999      ┆          ┆ 3         ┆            │\n│ median   ┆ 201412.0 ┆ null       ┆ null       ┆ … ┆ 9.33333  ┆ 12.65    ┆ 11.86299  ┆ null       │\n│ 25%      ┆ 201412.0 ┆ null       ┆ null       ┆ … ┆ 0.0      ┆ 4.98     ┆ 4.71941   ┆ null       │\n│ 75%      ┆ 201412.0 ┆ null       ┆ null       ┆ … ┆ 56.0     ┆ 35.97    ┆ 33.23834  ┆ null       │\n└──────────┴──────────┴────────────┴────────────┴───┴──────────┴──────────┴───────────┴────────────┘",
      "text/html": "<div><style>\n.dataframe > thead > tr > th,\n.dataframe > tbody > tr > td {\n  text-align: right;\n}\n</style>\n<small>shape: (9, 27)</small><table border=\"1\" class=\"dataframe\"><thead><tr><th>describe</th><th>YEAR_MONTH</th><th>REGIONAL_OFFICE_NAME</th><th>REGIONAL_OFFICE_CODE</th><th>AREA_TEAM_NAME</th><th>AREA_TEAM_CODE</th><th>PCO_NAME</th><th>PCO_CODE</th><th>PRACTICE_NAME</th><th>PRACTICE_CODE</th><th>ADDRESS_1</th><th>ADDRESS_2</th><th>ADDRESS_3</th><th>ADDRESS_4</th><th>POSTCODE</th><th>BNF_CHEMICAL_SUBSTANCE</th><th>CHEMICAL_SUBSTANCE_BNF_DESCR</th><th>BNF_CODE</th><th>BNF_DESCRIPTION</th><th>BNF_CHAPTER_PLUS_CODE</th><th>QUANTITY</th><th>ITEMS</th><th>TOTAL_QUANTITY</th><th>ADQUSAGE</th><th>NIC</th><th>ACTUAL_COST</th><th>UNIDENTIFIED</th></tr><tr><td>str</td><td>f64</td><td>str</td><td>str</td><td>str</td><td>str</td><td>str</td><td>str</td><td>str</td><td>str</td><td>str</td><td>str</td><td>str</td><td>str</td><td>str</td><td>str</td><td>str</td><td>str</td><td>str</td><td>str</td><td>f64</td><td>f64</td><td>f64</td><td>f64</td><td>f64</td><td>f64</td><td>str</td></tr></thead><tbody><tr><td>&quot;count&quot;</td><td>50000.0</td><td>&quot;50000&quot;</td><td>&quot;50000&quot;</td><td>&quot;50000&quot;</td><td>&quot;50000&quot;</td><td>&quot;50000&quot;</td><td>&quot;50000&quot;</td><td>&quot;50000&quot;</td><td>&quot;50000&quot;</td><td>&quot;50000&quot;</td><td>&quot;50000&quot;</td><td>&quot;50000&quot;</td><td>&quot;50000&quot;</td><td>&quot;50000&quot;</td><td>&quot;50000&quot;</td><td>&quot;50000&quot;</td><td>&quot;50000&quot;</td><td>&quot;50000&quot;</td><td>&quot;50000&quot;</td><td>50000.0</td><td>50000.0</td><td>50000.0</td><td>50000.0</td><td>50000.0</td><td>50000.0</td><td>&quot;50000&quot;</td></tr><tr><td>&quot;null_count&quot;</td><td>0.0</td><td>&quot;0&quot;</td><td>&quot;0&quot;</td><td>&quot;0&quot;</td><td>&quot;0&quot;</td><td>&quot;0&quot;</td><td>&quot;0&quot;</td><td>&quot;0&quot;</td><td>&quot;0&quot;</td><td>&quot;24&quot;</td><td>&quot;2585&quot;</td><td>&quot;1111&quot;</td><td>&quot;7292&quot;</td><td>&quot;22&quot;</td><td>&quot;0&quot;</td><td>&quot;0&quot;</td><td>&quot;0&quot;</td><td>&quot;0&quot;</td><td>&quot;0&quot;</td><td>0.0</td><td>0.0</td><td>0.0</td><td>0.0</td><td>0.0</td><td>0.0</td><td>&quot;0&quot;</td></tr><tr><td>&quot;mean&quot;</td><td>201412.0</td><td>null</td><td>null</td><td>null</td><td>null</td><td>null</td><td>null</td><td>null</td><td>null</td><td>null</td><td>null</td><td>null</td><td>null</td><td>null</td><td>null</td><td>null</td><td>null</td><td>null</td><td>null</td><td>158.800484</td><td>5.0597</td><td>411.319542</td><td>120.445982</td><td>41.311326</td><td>38.300054</td><td>null</td></tr><tr><td>&quot;std&quot;</td><td>0.0</td><td>null</td><td>null</td><td>null</td><td>null</td><td>null</td><td>null</td><td>null</td><td>null</td><td>null</td><td>null</td><td>null</td><td>null</td><td>null</td><td>null</td><td>null</td><td>null</td><td>null</td><td>null</td><td>998.722709</td><td>16.986033</td><td>1836.927548</td><td>645.331458</td><td>112.181317</td><td>103.600127</td><td>null</td></tr><tr><td>&quot;min&quot;</td><td>201412.0</td><td>&quot;LONDON&quot;</td><td>&quot;-&quot;</td><td>&quot;ARDEN,HEREFORD…</td><td>&quot;-&quot;</td><td>&quot;ADDACTION&quot;</td><td>&quot;-&quot;</td><td>&quot;(FRACTURE CLIN…</td><td>&quot;-&quot;</td><td>&quot;-&quot;</td><td>&quot;&amp; WELLBEING,EX…</td><td>&quot;(OFF SOUTH HIL…</td><td>&quot;-&quot;</td><td>&quot;-&quot;</td><td>&quot;0101010G0&quot;</td><td>&quot;Acamprosate ca…</td><td>&quot;0101010G0AAABA…</td><td>&quot;3M Micropore S…</td><td>&quot;01: Gastro-Int…</td><td>0.5</td><td>1.0</td><td>0.5</td><td>0.0</td><td>0.01</td><td>0.06461</td><td>&quot;N&quot;</td></tr><tr><td>&quot;max&quot;</td><td>201412.0</td><td>&quot;UNIDENTIFIED&quot;</td><td>&quot;Y57&quot;</td><td>&quot;WEST YORKSHIRE…</td><td>&quot;Q70&quot;</td><td>&quot;YORK TEACHING …</td><td>&quot;RYY00&quot;</td><td>&quot;ZETLAND MEDICA…</td><td>&quot;Y04837&quot;</td><td>&quot;YPRES ROAD&quot;</td><td>&quot;ZACHARY MERTON…</td><td>&quot;YORKLEY,LYDNEY…</td><td>&quot;YORKSHIRE&quot;</td><td>&quot;YO8 9BX&quot;</td><td>&quot;2396&quot;</td><td>&quot;Zuclopenthixol…</td><td>&quot;23965609646&quot;</td><td>&quot;palmdoc iCare …</td><td>&quot;23: Stoma Appl…</td><td>45000.0</td><td>1152.0</td><td>115200.0</td><td>43007.99999</td><td>7256.56</td><td>6698.14673</td><td>&quot;Y&quot;</td></tr><tr><td>&quot;median&quot;</td><td>201412.0</td><td>null</td><td>null</td><td>null</td><td>null</td><td>null</td><td>null</td><td>null</td><td>null</td><td>null</td><td>null</td><td>null</td><td>null</td><td>null</td><td>null</td><td>null</td><td>null</td><td>null</td><td>null</td><td>56.0</td><td>2.0</td><td>84.0</td><td>9.33333</td><td>12.65</td><td>11.86299</td><td>null</td></tr><tr><td>&quot;25%&quot;</td><td>201412.0</td><td>null</td><td>null</td><td>null</td><td>null</td><td>null</td><td>null</td><td>null</td><td>null</td><td>null</td><td>null</td><td>null</td><td>null</td><td>null</td><td>null</td><td>null</td><td>null</td><td>null</td><td>null</td><td>20.0</td><td>1.0</td><td>30.0</td><td>0.0</td><td>4.98</td><td>4.71941</td><td>null</td></tr><tr><td>&quot;75%&quot;</td><td>201412.0</td><td>null</td><td>null</td><td>null</td><td>null</td><td>null</td><td>null</td><td>null</td><td>null</td><td>null</td><td>null</td><td>null</td><td>null</td><td>null</td><td>null</td><td>null</td><td>null</td><td>null</td><td>null</td><td>100.0</td><td>4.0</td><td>224.0</td><td>56.0</td><td>35.97</td><td>33.23834</td><td>null</td></tr></tbody></table></div>"
     },
     "metadata": {},
     "output_type": "display_data"
    }
   ],
   "source": [
    "# df.describe()\n",
    "# ==============================================================================\n",
    "print(\"df.describe(): Summary Stats\")\n",
    "display(nhs_raw_df.describe())"
   ],
   "metadata": {
    "collapsed": false,
    "ExecuteTime": {
     "end_time": "2023-10-18T18:54:48.259173Z",
     "start_time": "2023-10-18T18:54:48.228008300Z"
    }
   }
  },
  {
   "cell_type": "code",
   "execution_count": 12,
   "outputs": [
    {
     "name": "stdout",
     "output_type": "stream",
     "text": [
      "df.null_count(): Devuelve un DataFrame con el total de valores nulos por columna\n"
     ]
    },
    {
     "data": {
      "text/plain": "shape: (1, 26)\n┌────────────┬────────────┬────────────┬────────────┬───┬──────────┬─────┬───────────┬────────────┐\n│ YEAR_MONTH ┆ REGIONAL_O ┆ REGIONAL_O ┆ AREA_TEAM_ ┆ … ┆ ADQUSAGE ┆ NIC ┆ ACTUAL_CO ┆ UNIDENTIFI │\n│ ---        ┆ FFICE_NAME ┆ FFICE_CODE ┆ NAME       ┆   ┆ ---      ┆ --- ┆ ST        ┆ ED         │\n│ u32        ┆ ---        ┆ ---        ┆ ---        ┆   ┆ u32      ┆ u32 ┆ ---       ┆ ---        │\n│            ┆ u32        ┆ u32        ┆ u32        ┆   ┆          ┆     ┆ u32       ┆ u32        │\n╞════════════╪════════════╪════════════╪════════════╪═══╪══════════╪═════╪═══════════╪════════════╡\n│ 0          ┆ 0          ┆ 0          ┆ 0          ┆ … ┆ 0        ┆ 0   ┆ 0         ┆ 0          │\n└────────────┴────────────┴────────────┴────────────┴───┴──────────┴─────┴───────────┴────────────┘",
      "text/html": "<div><style>\n.dataframe > thead > tr > th,\n.dataframe > tbody > tr > td {\n  text-align: right;\n}\n</style>\n<small>shape: (1, 26)</small><table border=\"1\" class=\"dataframe\"><thead><tr><th>YEAR_MONTH</th><th>REGIONAL_OFFICE_NAME</th><th>REGIONAL_OFFICE_CODE</th><th>AREA_TEAM_NAME</th><th>AREA_TEAM_CODE</th><th>PCO_NAME</th><th>PCO_CODE</th><th>PRACTICE_NAME</th><th>PRACTICE_CODE</th><th>ADDRESS_1</th><th>ADDRESS_2</th><th>ADDRESS_3</th><th>ADDRESS_4</th><th>POSTCODE</th><th>BNF_CHEMICAL_SUBSTANCE</th><th>CHEMICAL_SUBSTANCE_BNF_DESCR</th><th>BNF_CODE</th><th>BNF_DESCRIPTION</th><th>BNF_CHAPTER_PLUS_CODE</th><th>QUANTITY</th><th>ITEMS</th><th>TOTAL_QUANTITY</th><th>ADQUSAGE</th><th>NIC</th><th>ACTUAL_COST</th><th>UNIDENTIFIED</th></tr><tr><td>u32</td><td>u32</td><td>u32</td><td>u32</td><td>u32</td><td>u32</td><td>u32</td><td>u32</td><td>u32</td><td>u32</td><td>u32</td><td>u32</td><td>u32</td><td>u32</td><td>u32</td><td>u32</td><td>u32</td><td>u32</td><td>u32</td><td>u32</td><td>u32</td><td>u32</td><td>u32</td><td>u32</td><td>u32</td><td>u32</td></tr></thead><tbody><tr><td>0</td><td>0</td><td>0</td><td>0</td><td>0</td><td>0</td><td>0</td><td>0</td><td>0</td><td>24</td><td>2585</td><td>1111</td><td>7292</td><td>22</td><td>0</td><td>0</td><td>0</td><td>0</td><td>0</td><td>0</td><td>0</td><td>0</td><td>0</td><td>0</td><td>0</td><td>0</td></tr></tbody></table></div>"
     },
     "metadata": {},
     "output_type": "display_data"
    }
   ],
   "source": [
    "# df.null_count()\n",
    "# ==============================================================================\n",
    "print(\"df.null_count(): Devuelve un DataFrame con el total de valores nulos por columna\")\n",
    "display(nhs_raw_df.null_count())"
   ],
   "metadata": {
    "collapsed": false,
    "ExecuteTime": {
     "end_time": "2023-10-18T18:54:48.983312400Z",
     "start_time": "2023-10-18T18:54:48.961155800Z"
    }
   }
  },
  {
   "cell_type": "code",
   "execution_count": 13,
   "outputs": [
    {
     "data": {
      "text/plain": "shape: (50_000, 1)\n┌──────────────────────┐\n│ REGIONAL_OFFICE_NAME │\n│ ---                  │\n│ str                  │\n╞══════════════════════╡\n│ NORTH OF ENGLAND     │\n│ NORTH OF ENGLAND     │\n│ SOUTH OF ENGLAND     │\n│ LONDON               │\n│ …                    │\n│ LONDON               │\n│ SOUTH OF ENGLAND     │\n│ NORTH OF ENGLAND     │\n│ SOUTH OF ENGLAND     │\n└──────────────────────┘",
      "text/html": "<div><style>\n.dataframe > thead > tr > th,\n.dataframe > tbody > tr > td {\n  text-align: right;\n}\n</style>\n<small>shape: (50_000, 1)</small><table border=\"1\" class=\"dataframe\"><thead><tr><th>REGIONAL_OFFICE_NAME</th></tr><tr><td>str</td></tr></thead><tbody><tr><td>&quot;NORTH OF ENGLA…</td></tr><tr><td>&quot;NORTH OF ENGLA…</td></tr><tr><td>&quot;SOUTH OF ENGLA…</td></tr><tr><td>&quot;LONDON&quot;</td></tr><tr><td>&quot;SOUTH OF ENGLA…</td></tr><tr><td>&quot;SOUTH OF ENGLA…</td></tr><tr><td>&quot;SOUTH OF ENGLA…</td></tr><tr><td>&quot;NORTH OF ENGLA…</td></tr><tr><td>&quot;MIDLANDS AND E…</td></tr><tr><td>&quot;MIDLANDS AND E…</td></tr><tr><td>&quot;SOUTH OF ENGLA…</td></tr><tr><td>&quot;MIDLANDS AND E…</td></tr><tr><td>&hellip;</td></tr><tr><td>&quot;SOUTH OF ENGLA…</td></tr><tr><td>&quot;MIDLANDS AND E…</td></tr><tr><td>&quot;SOUTH OF ENGLA…</td></tr><tr><td>&quot;NORTH OF ENGLA…</td></tr><tr><td>&quot;SOUTH OF ENGLA…</td></tr><tr><td>&quot;LONDON&quot;</td></tr><tr><td>&quot;MIDLANDS AND E…</td></tr><tr><td>&quot;MIDLANDS AND E…</td></tr><tr><td>&quot;LONDON&quot;</td></tr><tr><td>&quot;SOUTH OF ENGLA…</td></tr><tr><td>&quot;NORTH OF ENGLA…</td></tr><tr><td>&quot;SOUTH OF ENGLA…</td></tr></tbody></table></div>"
     },
     "execution_count": 13,
     "metadata": {},
     "output_type": "execute_result"
    }
   ],
   "source": [
    "# .select(): Método utilizado para seleccionar una o más columnas\n",
    "# ==============================================================================\n",
    "nhs_raw_df.select(pl.col(\"REGIONAL_OFFICE_NAME\"))"
   ],
   "metadata": {
    "collapsed": false,
    "ExecuteTime": {
     "end_time": "2023-10-18T18:54:49.700616Z",
     "start_time": "2023-10-18T18:54:49.662626400Z"
    }
   }
  },
  {
   "cell_type": "code",
   "execution_count": 14,
   "outputs": [
    {
     "data": {
      "text/plain": "polars.dataframe.frame.DataFrame"
     },
     "execution_count": 14,
     "metadata": {},
     "output_type": "execute_result"
    }
   ],
   "source": [
    "type(nhs_raw_df.select(pl.col(\"REGIONAL_OFFICE_NAME\")))"
   ],
   "metadata": {
    "collapsed": false,
    "ExecuteTime": {
     "end_time": "2023-10-18T18:54:50.701886100Z",
     "start_time": "2023-10-18T18:54:50.661632600Z"
    }
   }
  },
  {
   "cell_type": "code",
   "execution_count": 15,
   "outputs": [
    {
     "data": {
      "text/plain": "shape: (50_000, 2)\n┌──────────────────────┬──────────────────────┐\n│ REGIONAL_OFFICE_NAME ┆ REGIONAL_OFFICE_CODE │\n│ ---                  ┆ ---                  │\n│ str                  ┆ str                  │\n╞══════════════════════╪══════════════════════╡\n│ NORTH OF ENGLAND     ┆ Y54                  │\n│ NORTH OF ENGLAND     ┆ Y54                  │\n│ SOUTH OF ENGLAND     ┆ Y57                  │\n│ LONDON               ┆ Y56                  │\n│ …                    ┆ …                    │\n│ LONDON               ┆ Y56                  │\n│ SOUTH OF ENGLAND     ┆ Y57                  │\n│ NORTH OF ENGLAND     ┆ Y54                  │\n│ SOUTH OF ENGLAND     ┆ Y57                  │\n└──────────────────────┴──────────────────────┘",
      "text/html": "<div><style>\n.dataframe > thead > tr > th,\n.dataframe > tbody > tr > td {\n  text-align: right;\n}\n</style>\n<small>shape: (50_000, 2)</small><table border=\"1\" class=\"dataframe\"><thead><tr><th>REGIONAL_OFFICE_NAME</th><th>REGIONAL_OFFICE_CODE</th></tr><tr><td>str</td><td>str</td></tr></thead><tbody><tr><td>&quot;NORTH OF ENGLA…</td><td>&quot;Y54&quot;</td></tr><tr><td>&quot;NORTH OF ENGLA…</td><td>&quot;Y54&quot;</td></tr><tr><td>&quot;SOUTH OF ENGLA…</td><td>&quot;Y57&quot;</td></tr><tr><td>&quot;LONDON&quot;</td><td>&quot;Y56&quot;</td></tr><tr><td>&quot;SOUTH OF ENGLA…</td><td>&quot;Y57&quot;</td></tr><tr><td>&quot;SOUTH OF ENGLA…</td><td>&quot;Y57&quot;</td></tr><tr><td>&quot;SOUTH OF ENGLA…</td><td>&quot;Y57&quot;</td></tr><tr><td>&quot;NORTH OF ENGLA…</td><td>&quot;Y54&quot;</td></tr><tr><td>&quot;MIDLANDS AND E…</td><td>&quot;Y55&quot;</td></tr><tr><td>&quot;MIDLANDS AND E…</td><td>&quot;Y55&quot;</td></tr><tr><td>&quot;SOUTH OF ENGLA…</td><td>&quot;Y57&quot;</td></tr><tr><td>&quot;MIDLANDS AND E…</td><td>&quot;Y55&quot;</td></tr><tr><td>&hellip;</td><td>&hellip;</td></tr><tr><td>&quot;SOUTH OF ENGLA…</td><td>&quot;Y57&quot;</td></tr><tr><td>&quot;MIDLANDS AND E…</td><td>&quot;Y55&quot;</td></tr><tr><td>&quot;SOUTH OF ENGLA…</td><td>&quot;Y57&quot;</td></tr><tr><td>&quot;NORTH OF ENGLA…</td><td>&quot;Y54&quot;</td></tr><tr><td>&quot;SOUTH OF ENGLA…</td><td>&quot;Y57&quot;</td></tr><tr><td>&quot;LONDON&quot;</td><td>&quot;Y56&quot;</td></tr><tr><td>&quot;MIDLANDS AND E…</td><td>&quot;Y55&quot;</td></tr><tr><td>&quot;MIDLANDS AND E…</td><td>&quot;Y55&quot;</td></tr><tr><td>&quot;LONDON&quot;</td><td>&quot;Y56&quot;</td></tr><tr><td>&quot;SOUTH OF ENGLA…</td><td>&quot;Y57&quot;</td></tr><tr><td>&quot;NORTH OF ENGLA…</td><td>&quot;Y54&quot;</td></tr><tr><td>&quot;SOUTH OF ENGLA…</td><td>&quot;Y57&quot;</td></tr></tbody></table></div>"
     },
     "execution_count": 15,
     "metadata": {},
     "output_type": "execute_result"
    }
   ],
   "source": [
    "nhs_raw_df.select(\n",
    "    [\n",
    "        pl.col(\"REGIONAL_OFFICE_NAME\"),\n",
    "        pl.col(\"REGIONAL_OFFICE_CODE\"),\n",
    "    ]\n",
    ")"
   ],
   "metadata": {
    "collapsed": false,
    "ExecuteTime": {
     "end_time": "2023-10-18T18:54:51.318533400Z",
     "start_time": "2023-10-18T18:54:51.287283500Z"
    }
   }
  },
  {
   "cell_type": "code",
   "execution_count": 16,
   "outputs": [
    {
     "data": {
      "text/plain": "shape: (5, 1)\n┌──────────────────────┐\n│ REGIONAL_OFFICE_NAME │\n│ ---                  │\n│ str                  │\n╞══════════════════════╡\n│ NORTH OF ENGLAND     │\n│ NORTH OF ENGLAND     │\n│ SOUTH OF ENGLAND     │\n│ LONDON               │\n│ SOUTH OF ENGLAND     │\n└──────────────────────┘",
      "text/html": "<div><style>\n.dataframe > thead > tr > th,\n.dataframe > tbody > tr > td {\n  text-align: right;\n}\n</style>\n<small>shape: (5, 1)</small><table border=\"1\" class=\"dataframe\"><thead><tr><th>REGIONAL_OFFICE_NAME</th></tr><tr><td>str</td></tr></thead><tbody><tr><td>&quot;NORTH OF ENGLA…</td></tr><tr><td>&quot;NORTH OF ENGLA…</td></tr><tr><td>&quot;SOUTH OF ENGLA…</td></tr><tr><td>&quot;LONDON&quot;</td></tr><tr><td>&quot;SOUTH OF ENGLA…</td></tr></tbody></table></div>"
     },
     "metadata": {},
     "output_type": "display_data"
    },
    {
     "data": {
      "text/plain": "shape: (5, 2)\n┌──────────────────────┬──────────────────────┐\n│ REGIONAL_OFFICE_NAME ┆ REGIONAL_OFFICE_CODE │\n│ ---                  ┆ ---                  │\n│ str                  ┆ str                  │\n╞══════════════════════╪══════════════════════╡\n│ NORTH OF ENGLAND     ┆ Y54                  │\n│ NORTH OF ENGLAND     ┆ Y54                  │\n│ SOUTH OF ENGLAND     ┆ Y57                  │\n│ LONDON               ┆ Y56                  │\n│ SOUTH OF ENGLAND     ┆ Y57                  │\n└──────────────────────┴──────────────────────┘",
      "text/html": "<div><style>\n.dataframe > thead > tr > th,\n.dataframe > tbody > tr > td {\n  text-align: right;\n}\n</style>\n<small>shape: (5, 2)</small><table border=\"1\" class=\"dataframe\"><thead><tr><th>REGIONAL_OFFICE_NAME</th><th>REGIONAL_OFFICE_CODE</th></tr><tr><td>str</td><td>str</td></tr></thead><tbody><tr><td>&quot;NORTH OF ENGLA…</td><td>&quot;Y54&quot;</td></tr><tr><td>&quot;NORTH OF ENGLA…</td><td>&quot;Y54&quot;</td></tr><tr><td>&quot;SOUTH OF ENGLA…</td><td>&quot;Y57&quot;</td></tr><tr><td>&quot;LONDON&quot;</td><td>&quot;Y56&quot;</td></tr><tr><td>&quot;SOUTH OF ENGLA…</td><td>&quot;Y57&quot;</td></tr></tbody></table></div>"
     },
     "metadata": {},
     "output_type": "display_data"
    }
   ],
   "source": [
    "# Selección de una única columna\n",
    "# ==============================================================================\n",
    "display(nhs_raw_df.select(\"REGIONAL_OFFICE_NAME\").head())\n",
    "\n",
    "# Selección de múltiples columnas\n",
    "# ==============================================================================\n",
    "display(nhs_raw_df.select([\"REGIONAL_OFFICE_NAME\",\"REGIONAL_OFFICE_CODE\"]).head())"
   ],
   "metadata": {
    "collapsed": false,
    "ExecuteTime": {
     "end_time": "2023-10-18T18:54:52.104896800Z",
     "start_time": "2023-10-18T18:54:52.089271200Z"
    }
   }
  },
  {
   "cell_type": "code",
   "execution_count": 17,
   "outputs": [
    {
     "data": {
      "text/plain": "shape: (5, 5)\n┌──────────────────┬───────────────────────┬──────────────────────┬──────────┬─────────────────────┐\n│ region_name      ┆ area_name             ┆ drug_name            ┆ total_qt ┆ net_ingredient_cost │\n│ ---              ┆ ---                   ┆ ---                  ┆ ---      ┆ ---                 │\n│ str              ┆ str                   ┆ str                  ┆ f64      ┆ f64                 │\n╞══════════════════╪═══════════════════════╪══════════════════════╪══════════╪═════════════════════╡\n│ NORTH OF ENGLAND ┆ GREATER MANCHESTER    ┆ Dioralyte oral       ┆ 12.0     ┆ 4.5                 │\n│                  ┆ AREA                  ┆ powder sachets bl…   ┆          ┆                     │\n│ NORTH OF ENGLAND ┆ WEST YORKSHIRE AREA   ┆ Chloramphenicol 1%   ┆ 20.0     ┆ 8.8                 │\n│                  ┆                       ┆ eye ointment         ┆          ┆                     │\n│ SOUTH OF ENGLAND ┆ SURREY AND SUSSEX     ┆ Microgynon 30 ED     ┆ 252.0    ┆ 8.97                │\n│                  ┆ AREA                  ┆ tablets              ┆          ┆                     │\n│ LONDON           ┆ NORTH EAST LONDON     ┆ Terbinafine 1% cream ┆ 120.0    ┆ 14.0                │\n│                  ┆ AREA                  ┆                      ┆          ┆                     │\n│ SOUTH OF ENGLAND ┆ BRISTOL, N SOM, SOM & ┆ Nicorandil 10mg      ┆ 710.0    ┆ 46.86               │\n│                  ┆ S GLOS ARE…           ┆ tablets              ┆          ┆                     │\n└──────────────────┴───────────────────────┴──────────────────────┴──────────┴─────────────────────┘",
      "text/html": "<div><style>\n.dataframe > thead > tr > th,\n.dataframe > tbody > tr > td {\n  text-align: right;\n}\n</style>\n<small>shape: (5, 5)</small><table border=\"1\" class=\"dataframe\"><thead><tr><th>region_name</th><th>area_name</th><th>drug_name</th><th>total_qt</th><th>net_ingredient_cost</th></tr><tr><td>str</td><td>str</td><td>str</td><td>f64</td><td>f64</td></tr></thead><tbody><tr><td>&quot;NORTH OF ENGLA…</td><td>&quot;GREATER MANCHE…</td><td>&quot;Dioralyte oral…</td><td>12.0</td><td>4.5</td></tr><tr><td>&quot;NORTH OF ENGLA…</td><td>&quot;WEST YORKSHIRE…</td><td>&quot;Chloramphenico…</td><td>20.0</td><td>8.8</td></tr><tr><td>&quot;SOUTH OF ENGLA…</td><td>&quot;SURREY AND SUS…</td><td>&quot;Microgynon 30 …</td><td>252.0</td><td>8.97</td></tr><tr><td>&quot;LONDON&quot;</td><td>&quot;NORTH EAST LON…</td><td>&quot;Terbinafine 1%…</td><td>120.0</td><td>14.0</td></tr><tr><td>&quot;SOUTH OF ENGLA…</td><td>&quot;BRISTOL, N SOM…</td><td>&quot;Nicorandil 10m…</td><td>710.0</td><td>46.86</td></tr></tbody></table></div>"
     },
     "execution_count": 17,
     "metadata": {},
     "output_type": "execute_result"
    }
   ],
   "source": [
    "# 1. Seleccionar y renombrar columnas: \"REGIONAL_OFFICE_NAME\", \"AREA_TEAM_NAME\", \"BNF_DESCRIPTION\", \"TOTAL_QUANTITY\", \"NIC\"\n",
    "# ==============================================================================\n",
    "processed_df = (\n",
    "    nhs_raw_df\n",
    "    .select(\n",
    "        [\n",
    "            pl.col(\"REGIONAL_OFFICE_NAME\").alias(\"region_name\"),\n",
    "            pl.col(\"AREA_TEAM_NAME\").alias(\"area_name\"),\n",
    "            pl.col(\"BNF_DESCRIPTION\").alias(\"drug_name\"),\n",
    "            pl.col(\"TOTAL_QUANTITY\").alias(\"total_qt\"),\n",
    "            pl.col(\"NIC\").alias(\"net_ingredient_cost\"),\n",
    "        ]\n",
    "    )\n",
    ")\n",
    "\n",
    "processed_df.head()"
   ],
   "metadata": {
    "collapsed": false,
    "ExecuteTime": {
     "end_time": "2023-10-18T18:54:52.952467300Z",
     "start_time": "2023-10-18T18:54:52.936821600Z"
    }
   }
  },
  {
   "cell_type": "code",
   "execution_count": 18,
   "outputs": [
    {
     "data": {
      "text/plain": "shape: (5, 7)\n┌───────────────┬──────────────┬──────────────┬──────────┬──────────────┬───────────┬──────────────┐\n│ region_name   ┆ area_name    ┆ drug_name    ┆ total_qt ┆ net_ingredie ┆ unit_cost ┆ execution_da │\n│ ---           ┆ ---          ┆ ---          ┆ ---      ┆ nt_cost      ┆ ---       ┆ te           │\n│ str           ┆ str          ┆ str          ┆ f64      ┆ ---          ┆ f64       ┆ ---          │\n│               ┆              ┆              ┆          ┆ f64          ┆           ┆ date         │\n╞═══════════════╪══════════════╪══════════════╪══════════╪══════════════╪═══════════╪══════════════╡\n│ NORTH OF      ┆ GREATER      ┆ Dioralyte    ┆ 12.0     ┆ 4.5          ┆ 0.375     ┆ 2023-10-18   │\n│ ENGLAND       ┆ MANCHESTER   ┆ oral powder  ┆          ┆              ┆           ┆              │\n│               ┆ AREA         ┆ sachets bl…  ┆          ┆              ┆           ┆              │\n│ NORTH OF      ┆ WEST         ┆ Chlorampheni ┆ 20.0     ┆ 8.8          ┆ 0.44      ┆ 2023-10-18   │\n│ ENGLAND       ┆ YORKSHIRE    ┆ col 1% eye   ┆          ┆              ┆           ┆              │\n│               ┆ AREA         ┆ ointment     ┆          ┆              ┆           ┆              │\n│ SOUTH OF      ┆ SURREY AND   ┆ Microgynon   ┆ 252.0    ┆ 8.97         ┆ 0.035595  ┆ 2023-10-18   │\n│ ENGLAND       ┆ SUSSEX AREA  ┆ 30 ED        ┆          ┆              ┆           ┆              │\n│               ┆              ┆ tablets      ┆          ┆              ┆           ┆              │\n│ LONDON        ┆ NORTH EAST   ┆ Terbinafine  ┆ 120.0    ┆ 14.0         ┆ 0.116667  ┆ 2023-10-18   │\n│               ┆ LONDON AREA  ┆ 1% cream     ┆          ┆              ┆           ┆              │\n│ SOUTH OF      ┆ BRISTOL, N   ┆ Nicorandil   ┆ 710.0    ┆ 46.86        ┆ 0.066     ┆ 2023-10-18   │\n│ ENGLAND       ┆ SOM, SOM & S ┆ 10mg tablets ┆          ┆              ┆           ┆              │\n│               ┆ GLOS ARE…    ┆              ┆          ┆              ┆           ┆              │\n└───────────────┴──────────────┴──────────────┴──────────┴──────────────┴───────────┴──────────────┘",
      "text/html": "<div><style>\n.dataframe > thead > tr > th,\n.dataframe > tbody > tr > td {\n  text-align: right;\n}\n</style>\n<small>shape: (5, 7)</small><table border=\"1\" class=\"dataframe\"><thead><tr><th>region_name</th><th>area_name</th><th>drug_name</th><th>total_qt</th><th>net_ingredient_cost</th><th>unit_cost</th><th>execution_date</th></tr><tr><td>str</td><td>str</td><td>str</td><td>f64</td><td>f64</td><td>f64</td><td>date</td></tr></thead><tbody><tr><td>&quot;NORTH OF ENGLA…</td><td>&quot;GREATER MANCHE…</td><td>&quot;Dioralyte oral…</td><td>12.0</td><td>4.5</td><td>0.375</td><td>2023-10-18</td></tr><tr><td>&quot;NORTH OF ENGLA…</td><td>&quot;WEST YORKSHIRE…</td><td>&quot;Chloramphenico…</td><td>20.0</td><td>8.8</td><td>0.44</td><td>2023-10-18</td></tr><tr><td>&quot;SOUTH OF ENGLA…</td><td>&quot;SURREY AND SUS…</td><td>&quot;Microgynon 30 …</td><td>252.0</td><td>8.97</td><td>0.035595</td><td>2023-10-18</td></tr><tr><td>&quot;LONDON&quot;</td><td>&quot;NORTH EAST LON…</td><td>&quot;Terbinafine 1%…</td><td>120.0</td><td>14.0</td><td>0.116667</td><td>2023-10-18</td></tr><tr><td>&quot;SOUTH OF ENGLA…</td><td>&quot;BRISTOL, N SOM…</td><td>&quot;Nicorandil 10m…</td><td>710.0</td><td>46.86</td><td>0.066</td><td>2023-10-18</td></tr></tbody></table></div>"
     },
     "execution_count": 18,
     "metadata": {},
     "output_type": "execute_result"
    }
   ],
   "source": [
    "# 2. Creación de nuevas columnas: unit_cost, execution_date\n",
    "# ==============================================================================\n",
    "processed_df = (\n",
    "    processed_df\n",
    "    .with_columns([\n",
    "        (pl.col(\"net_ingredient_cost\")/pl.col(\"total_qt\")).alias(\"unit_cost\"),\n",
    "        (pl.lit(datetime.now().date()).alias(\"execution_date\")),\n",
    "    ])\n",
    ")\n",
    "\n",
    "processed_df.head()"
   ],
   "metadata": {
    "collapsed": false,
    "ExecuteTime": {
     "end_time": "2023-10-18T18:54:53.806622200Z",
     "start_time": "2023-10-18T18:54:53.784463200Z"
    }
   }
  },
  {
   "cell_type": "code",
   "execution_count": 19,
   "outputs": [
    {
     "data": {
      "text/plain": "shape: (5, 7)\n┌───────────────┬──────────────┬──────────────┬──────────┬──────────────┬───────────┬──────────────┐\n│ region_name   ┆ area_name    ┆ drug_name    ┆ total_qt ┆ net_ingredie ┆ unit_cost ┆ execution_da │\n│ ---           ┆ ---          ┆ ---          ┆ ---      ┆ nt_cost      ┆ ---       ┆ te           │\n│ str           ┆ str          ┆ str          ┆ f64      ┆ ---          ┆ f64       ┆ ---          │\n│               ┆              ┆              ┆          ┆ f64          ┆           ┆ date         │\n╞═══════════════╪══════════════╪══════════════╪══════════╪══════════════╪═══════════╪══════════════╡\n│ SOUTH OF      ┆ SURREY AND   ┆ Microgynon   ┆ 252.0    ┆ 8.97         ┆ 0.035595  ┆ 2023-10-18   │\n│ ENGLAND       ┆ SUSSEX AREA  ┆ 30 ED        ┆          ┆              ┆           ┆              │\n│               ┆              ┆ tablets      ┆          ┆              ┆           ┆              │\n│ LONDON        ┆ NORTH EAST   ┆ Terbinafine  ┆ 120.0    ┆ 14.0         ┆ 0.116667  ┆ 2023-10-18   │\n│               ┆ LONDON AREA  ┆ 1% cream     ┆          ┆              ┆           ┆              │\n│ SOUTH OF      ┆ BRISTOL, N   ┆ Nicorandil   ┆ 710.0    ┆ 46.86        ┆ 0.066     ┆ 2023-10-18   │\n│ ENGLAND       ┆ SOM, SOM & S ┆ 10mg tablets ┆          ┆              ┆           ┆              │\n│               ┆ GLOS ARE…    ┆              ┆          ┆              ┆           ┆              │\n│ SOUTH OF      ┆ DEVON,CORNWA ┆ Bisoprolol   ┆ 1568.0   ┆ 55.44        ┆ 0.035357  ┆ 2023-10-18   │\n│ ENGLAND       ┆ LL&ISLES OF  ┆ 5mg tablets  ┆          ┆              ┆           ┆              │\n│               ┆ SCILLY A…    ┆              ┆          ┆              ┆           ┆              │\n│ SOUTH OF      ┆ WESSEX AREA  ┆ Enalapril    ┆ 168.0    ┆ 6.96         ┆ 0.041429  ┆ 2023-10-18   │\n│ ENGLAND       ┆              ┆ 20mg tablets ┆          ┆              ┆           ┆              │\n└───────────────┴──────────────┴──────────────┴──────────┴──────────────┴───────────┴──────────────┘",
      "text/html": "<div><style>\n.dataframe > thead > tr > th,\n.dataframe > tbody > tr > td {\n  text-align: right;\n}\n</style>\n<small>shape: (5, 7)</small><table border=\"1\" class=\"dataframe\"><thead><tr><th>region_name</th><th>area_name</th><th>drug_name</th><th>total_qt</th><th>net_ingredient_cost</th><th>unit_cost</th><th>execution_date</th></tr><tr><td>str</td><td>str</td><td>str</td><td>f64</td><td>f64</td><td>f64</td><td>date</td></tr></thead><tbody><tr><td>&quot;SOUTH OF ENGLA…</td><td>&quot;SURREY AND SUS…</td><td>&quot;Microgynon 30 …</td><td>252.0</td><td>8.97</td><td>0.035595</td><td>2023-10-18</td></tr><tr><td>&quot;LONDON&quot;</td><td>&quot;NORTH EAST LON…</td><td>&quot;Terbinafine 1%…</td><td>120.0</td><td>14.0</td><td>0.116667</td><td>2023-10-18</td></tr><tr><td>&quot;SOUTH OF ENGLA…</td><td>&quot;BRISTOL, N SOM…</td><td>&quot;Nicorandil 10m…</td><td>710.0</td><td>46.86</td><td>0.066</td><td>2023-10-18</td></tr><tr><td>&quot;SOUTH OF ENGLA…</td><td>&quot;DEVON,CORNWALL…</td><td>&quot;Bisoprolol 5mg…</td><td>1568.0</td><td>55.44</td><td>0.035357</td><td>2023-10-18</td></tr><tr><td>&quot;SOUTH OF ENGLA…</td><td>&quot;WESSEX AREA&quot;</td><td>&quot;Enalapril 20mg…</td><td>168.0</td><td>6.96</td><td>0.041429</td><td>2023-10-18</td></tr></tbody></table></div>"
     },
     "execution_count": 19,
     "metadata": {},
     "output_type": "execute_result"
    }
   ],
   "source": [
    "# 3. Filtrar filas: region_name = 'LONDON' or  'SOUTH OF ENGLAND'\n",
    "# ==============================================================================\n",
    "processed_df = (\n",
    "    processed_df\n",
    "    .filter(\n",
    "        (pl.col(\"region_name\") == \"LONDON\") | (pl.col(\"region_name\") == \"SOUTH OF ENGLAND\")\n",
    "    )\n",
    ")\n",
    "\n",
    "processed_df.head()"
   ],
   "metadata": {
    "collapsed": false,
    "ExecuteTime": {
     "end_time": "2023-10-18T18:54:54.708143Z",
     "start_time": "2023-10-18T18:54:54.639283300Z"
    }
   }
  },
  {
   "cell_type": "code",
   "execution_count": 20,
   "outputs": [
    {
     "data": {
      "text/plain": "shape: (5, 7)\n┌───────────────┬──────────────┬──────────────┬──────────┬──────────────┬───────────┬──────────────┐\n│ region_name   ┆ area_name    ┆ drug_name    ┆ total_qt ┆ net_ingredie ┆ unit_cost ┆ execution_da │\n│ ---           ┆ ---          ┆ ---          ┆ ---      ┆ nt_cost      ┆ ---       ┆ te           │\n│ str           ┆ str          ┆ str          ┆ f64      ┆ ---          ┆ f64       ┆ ---          │\n│               ┆              ┆              ┆          ┆ f64          ┆           ┆ date         │\n╞═══════════════╪══════════════╪══════════════╪══════════╪══════════════╪═══════════╪══════════════╡\n│ SOUTH OF      ┆ THAMES       ┆ Prevenar 13  ┆ 77.0     ┆ 3780.7       ┆ 49.1      ┆ 2023-10-18   │\n│ ENGLAND       ┆ VALLEY AREA  ┆ vacc inj     ┆          ┆              ┆           ┆              │\n│               ┆              ┆ 0.5ml pre-f… ┆          ┆              ┆           ┆              │\n│ LONDON        ┆ NORTH WEST   ┆ Influenza    ┆ 492.0    ┆ 3242.28      ┆ 6.59      ┆ 2023-10-18   │\n│               ┆ LONDON AREA  ┆ vaccine      ┆          ┆              ┆           ┆              │\n│               ┆              ┆ (split       ┆          ┆              ┆           ┆              │\n│               ┆              ┆ virion,…     ┆          ┆              ┆           ┆              │\n│ SOUTH OF      ┆ THAMES       ┆ Tiotropium   ┆ 2340.0   ┆ 2613.0       ┆ 1.116667  ┆ 2023-10-18   │\n│ ENGLAND       ┆ VALLEY AREA  ┆ bromide      ┆          ┆              ┆           ┆              │\n│               ┆              ┆ 18microgram  ┆          ┆              ┆           ┆              │\n│               ┆              ┆ i…           ┆          ┆              ┆           ┆              │\n│ SOUTH OF      ┆ BATH,GLOS,SW ┆ Seretide 500 ┆ 62.0     ┆ 2537.04      ┆ 40.92     ┆ 2023-10-18   │\n│ ENGLAND       ┆ INDON &      ┆ Accuhaler    ┆          ┆              ┆           ┆              │\n│               ┆ WILTSHIRE    ┆              ┆          ┆              ┆           ┆              │\n│               ┆ AR…          ┆              ┆          ┆              ┆           ┆              │\n│ SOUTH OF      ┆ WESSEX AREA  ┆ Fluticasone  ┆ 42.0     ┆ 2498.16      ┆ 59.48     ┆ 2023-10-18   │\n│ ENGLAND       ┆              ┆ 250mcg/dose  ┆          ┆              ┆           ┆              │\n│               ┆              ┆ / Salmet…    ┆          ┆              ┆           ┆              │\n└───────────────┴──────────────┴──────────────┴──────────┴──────────────┴───────────┴──────────────┘",
      "text/html": "<div><style>\n.dataframe > thead > tr > th,\n.dataframe > tbody > tr > td {\n  text-align: right;\n}\n</style>\n<small>shape: (5, 7)</small><table border=\"1\" class=\"dataframe\"><thead><tr><th>region_name</th><th>area_name</th><th>drug_name</th><th>total_qt</th><th>net_ingredient_cost</th><th>unit_cost</th><th>execution_date</th></tr><tr><td>str</td><td>str</td><td>str</td><td>f64</td><td>f64</td><td>f64</td><td>date</td></tr></thead><tbody><tr><td>&quot;SOUTH OF ENGLA…</td><td>&quot;THAMES VALLEY …</td><td>&quot;Prevenar 13 va…</td><td>77.0</td><td>3780.7</td><td>49.1</td><td>2023-10-18</td></tr><tr><td>&quot;LONDON&quot;</td><td>&quot;NORTH WEST LON…</td><td>&quot;Influenza vacc…</td><td>492.0</td><td>3242.28</td><td>6.59</td><td>2023-10-18</td></tr><tr><td>&quot;SOUTH OF ENGLA…</td><td>&quot;THAMES VALLEY …</td><td>&quot;Tiotropium bro…</td><td>2340.0</td><td>2613.0</td><td>1.116667</td><td>2023-10-18</td></tr><tr><td>&quot;SOUTH OF ENGLA…</td><td>&quot;BATH,GLOS,SWIN…</td><td>&quot;Seretide 500 A…</td><td>62.0</td><td>2537.04</td><td>40.92</td><td>2023-10-18</td></tr><tr><td>&quot;SOUTH OF ENGLA…</td><td>&quot;WESSEX AREA&quot;</td><td>&quot;Fluticasone 25…</td><td>42.0</td><td>2498.16</td><td>59.48</td><td>2023-10-18</td></tr></tbody></table></div>"
     },
     "execution_count": 20,
     "metadata": {},
     "output_type": "execute_result"
    }
   ],
   "source": [
    "# 4. Ordenar resultados: net_ingredient_cost desc\n",
    "# ==============================================================================\n",
    "processed_df = (processed_df.sort(\"net_ingredient_cost\", descending=True))\n",
    "\n",
    "processed_df.head()"
   ],
   "metadata": {
    "collapsed": false,
    "ExecuteTime": {
     "end_time": "2023-10-18T18:54:55.541219100Z",
     "start_time": "2023-10-18T18:54:55.525598500Z"
    }
   }
  },
  {
   "cell_type": "code",
   "execution_count": 21,
   "outputs": [
    {
     "name": "stdout",
     "output_type": "stream",
     "text": [
      "(19181, 7)\n"
     ]
    },
    {
     "data": {
      "text/plain": "shape: (5, 7)\n┌───────────────┬──────────────┬──────────────┬──────────┬──────────────┬───────────┬──────────────┐\n│ region_name   ┆ area_name    ┆ drug_name    ┆ total_qt ┆ net_ingredie ┆ unit_cost ┆ execution_da │\n│ ---           ┆ ---          ┆ ---          ┆ ---      ┆ nt_cost      ┆ ---       ┆ te           │\n│ str           ┆ str          ┆ str          ┆ f64      ┆ ---          ┆ f64       ┆ ---          │\n│               ┆              ┆              ┆          ┆ f64          ┆           ┆ date         │\n╞═══════════════╪══════════════╪══════════════╪══════════╪══════════════╪═══════════╪══════════════╡\n│ SOUTH OF      ┆ THAMES       ┆ Prevenar 13  ┆ 77.0     ┆ 3780.7       ┆ 49.1      ┆ 2023-10-18   │\n│ ENGLAND       ┆ VALLEY AREA  ┆ vacc inj     ┆          ┆              ┆           ┆              │\n│               ┆              ┆ 0.5ml pre-f… ┆          ┆              ┆           ┆              │\n│ LONDON        ┆ NORTH WEST   ┆ Influenza    ┆ 492.0    ┆ 3242.28      ┆ 6.59      ┆ 2023-10-18   │\n│               ┆ LONDON AREA  ┆ vaccine      ┆          ┆              ┆           ┆              │\n│               ┆              ┆ (split       ┆          ┆              ┆           ┆              │\n│               ┆              ┆ virion,…     ┆          ┆              ┆           ┆              │\n│ SOUTH OF      ┆ THAMES       ┆ Tiotropium   ┆ 2340.0   ┆ 2613.0       ┆ 1.116667  ┆ 2023-10-18   │\n│ ENGLAND       ┆ VALLEY AREA  ┆ bromide      ┆          ┆              ┆           ┆              │\n│               ┆              ┆ 18microgram  ┆          ┆              ┆           ┆              │\n│               ┆              ┆ i…           ┆          ┆              ┆           ┆              │\n│ SOUTH OF      ┆ BATH,GLOS,SW ┆ Seretide 500 ┆ 62.0     ┆ 2537.04      ┆ 40.92     ┆ 2023-10-18   │\n│ ENGLAND       ┆ INDON &      ┆ Accuhaler    ┆          ┆              ┆           ┆              │\n│               ┆ WILTSHIRE    ┆              ┆          ┆              ┆           ┆              │\n│               ┆ AR…          ┆              ┆          ┆              ┆           ┆              │\n│ SOUTH OF      ┆ WESSEX AREA  ┆ Fluticasone  ┆ 42.0     ┆ 2498.16      ┆ 59.48     ┆ 2023-10-18   │\n│ ENGLAND       ┆              ┆ 250mcg/dose  ┆          ┆              ┆           ┆              │\n│               ┆              ┆ / Salmet…    ┆          ┆              ┆           ┆              │\n└───────────────┴──────────────┴──────────────┴──────────┴──────────────┴───────────┴──────────────┘",
      "text/html": "<div><style>\n.dataframe > thead > tr > th,\n.dataframe > tbody > tr > td {\n  text-align: right;\n}\n</style>\n<small>shape: (5, 7)</small><table border=\"1\" class=\"dataframe\"><thead><tr><th>region_name</th><th>area_name</th><th>drug_name</th><th>total_qt</th><th>net_ingredient_cost</th><th>unit_cost</th><th>execution_date</th></tr><tr><td>str</td><td>str</td><td>str</td><td>f64</td><td>f64</td><td>f64</td><td>date</td></tr></thead><tbody><tr><td>&quot;SOUTH OF ENGLA…</td><td>&quot;THAMES VALLEY …</td><td>&quot;Prevenar 13 va…</td><td>77.0</td><td>3780.7</td><td>49.1</td><td>2023-10-18</td></tr><tr><td>&quot;LONDON&quot;</td><td>&quot;NORTH WEST LON…</td><td>&quot;Influenza vacc…</td><td>492.0</td><td>3242.28</td><td>6.59</td><td>2023-10-18</td></tr><tr><td>&quot;SOUTH OF ENGLA…</td><td>&quot;THAMES VALLEY …</td><td>&quot;Tiotropium bro…</td><td>2340.0</td><td>2613.0</td><td>1.116667</td><td>2023-10-18</td></tr><tr><td>&quot;SOUTH OF ENGLA…</td><td>&quot;BATH,GLOS,SWIN…</td><td>&quot;Seretide 500 A…</td><td>62.0</td><td>2537.04</td><td>40.92</td><td>2023-10-18</td></tr><tr><td>&quot;SOUTH OF ENGLA…</td><td>&quot;WESSEX AREA&quot;</td><td>&quot;Fluticasone 25…</td><td>42.0</td><td>2498.16</td><td>59.48</td><td>2023-10-18</td></tr></tbody></table></div>"
     },
     "metadata": {},
     "output_type": "display_data"
    }
   ],
   "source": [
    "# Función de preprocesado\n",
    "# ==============================================================================\n",
    "def preprocess_raw_data(raw_data):\n",
    "\n",
    "    df = (\n",
    "        raw_data\n",
    "        .select(\n",
    "            [\n",
    "                pl.col(\"REGIONAL_OFFICE_NAME\").alias(\"region_name\"),\n",
    "                pl.col(\"AREA_TEAM_NAME\").alias(\"area_name\"),\n",
    "                pl.col(\"BNF_DESCRIPTION\").alias(\"drug_name\"),\n",
    "                pl.col(\"TOTAL_QUANTITY\").alias(\"total_qt\"),\n",
    "                pl.col(\"NIC\").alias(\"net_ingredient_cost\"),\n",
    "            ]\n",
    "        )\n",
    "        .with_columns([\n",
    "            (pl.col(\"net_ingredient_cost\")/pl.col(\"total_qt\")).alias(\"unit_cost\"),\n",
    "            (pl.lit(datetime.now().date()).alias(\"execution_date\")),\n",
    "        ])\n",
    "        .filter(\n",
    "            (pl.col(\"region_name\") == \"LONDON\") | (pl.col(\"region_name\") == \"SOUTH OF ENGLAND\")\n",
    "        )\n",
    "        .sort(\"net_ingredient_cost\", descending=True)\n",
    "    )\n",
    "\n",
    "    return df\n",
    "\n",
    "nhs_processed_df = preprocess_raw_data(raw_data=nhs_raw_df)\n",
    "\n",
    "print(nhs_processed_df.shape)\n",
    "display(nhs_processed_df.head())"
   ],
   "metadata": {
    "collapsed": false,
    "ExecuteTime": {
     "end_time": "2023-10-18T18:54:56.860312Z",
     "start_time": "2023-10-18T18:54:56.813436100Z"
    }
   }
  },
  {
   "cell_type": "code",
   "execution_count": 22,
   "outputs": [
    {
     "name": "stdout",
     "output_type": "stream",
     "text": [
      "Object type: <class 'polars.lazyframe.frame.LazyFrame'>\n"
     ]
    }
   ],
   "source": [
    "lazy_nhs_raw_df = nhs_raw_df.lazy()\n",
    "print(f\"Object type: {type(lazy_nhs_raw_df)}\")"
   ],
   "metadata": {
    "collapsed": false,
    "ExecuteTime": {
     "end_time": "2023-10-18T18:54:58.416708100Z",
     "start_time": "2023-10-18T18:54:58.401082400Z"
    }
   }
  },
  {
   "cell_type": "code",
   "execution_count": 23,
   "outputs": [
    {
     "name": "stdout",
     "output_type": "stream",
     "text": [
      "naive plan: (run LazyFrame.explain(optimized=True) to see the optimized plan)\n",
      "\n",
      "DF [\"YEAR_MONTH\", \"REGIONAL_OFFICE_NAME\", \"REGIONAL_OFFICE_CODE\", \"AREA_TEAM_NAME\"]; PROJECT */26 COLUMNS; SELECTION: \"None\"\n"
     ]
    }
   ],
   "source": [
    "print(lazy_nhs_raw_df)"
   ],
   "metadata": {
    "collapsed": false,
    "ExecuteTime": {
     "end_time": "2023-10-18T18:54:59.805124100Z",
     "start_time": "2023-10-18T18:54:59.782937100Z"
    }
   }
  },
  {
   "cell_type": "code",
   "execution_count": 24,
   "outputs": [
    {
     "data": {
      "text/plain": "<polars.LazyFrame object at 0x1F17D41BA00>",
      "text/html": "<i>naive plan: (run <b>LazyFrame.explain(optimized=True)</b> to see the optimized plan)</i>\n    <p></p>\n    <div>SORT BY [col(\"net_ingredient_cost\")]<p></p>  FILTER [([(col(\"region_name\")) == (Utf8(LONDON))]) | ([(col(\"region_name\")) == (Utf8(SOUTH OF ENGLAND))])] FROM<p></p>   WITH_COLUMNS:<p></p>   [[(col(\"net_ingredient_cost\")) / (col(\"total_qt\"))].alias(\"unit_cost\"), 1697587200000000.strict_cast(Datetime(Microseconds, None)).strict_cast(Date).alias(\"execution_date\")]<p></p>     SELECT [col(\"REGIONAL_OFFICE_NAME\").alias(\"region_name\"), col(\"AREA_TEAM_NAME\").alias(\"area_name\"), col(\"BNF_DESCRIPTION\").alias(\"drug_name\"), col(\"TOTAL_QUANTITY\").alias(\"total_qt\"), col(\"NIC\").alias(\"net_ingredient_cost\")] FROM<p></p>      DF [\"YEAR_MONTH\", \"REGIONAL_OFFICE_NAME\", \"REGIONAL_OFFICE_CODE\", \"AREA_TEAM_NAME\"]; PROJECT */26 COLUMNS; SELECTION: \"None\"</div>"
     },
     "execution_count": 24,
     "metadata": {},
     "output_type": "execute_result"
    }
   ],
   "source": [
    "lazy_nhs_processed_df = preprocess_raw_data(raw_data=lazy_nhs_raw_df)\n",
    "lazy_nhs_processed_df"
   ],
   "metadata": {
    "collapsed": false,
    "ExecuteTime": {
     "end_time": "2023-10-18T18:55:00.738043Z",
     "start_time": "2023-10-18T18:55:00.706563700Z"
    }
   }
  },
  {
   "cell_type": "code",
   "execution_count": 25,
   "outputs": [
    {
     "ename": "ImportError",
     "evalue": "Graphviz dot binary should be on your PATH",
     "output_type": "error",
     "traceback": [
      "\u001B[1;31m---------------------------------------------------------------------------\u001B[0m",
      "\u001B[1;31mImportError\u001B[0m                               Traceback (most recent call last)",
      "\u001B[1;32m~\\AppData\\Local\\Temp\\ipykernel_13824\\3129174823.py\u001B[0m in \u001B[0;36m<module>\u001B[1;34m\u001B[0m\n\u001B[1;32m----> 1\u001B[1;33m \u001B[0mlazy_nhs_processed_df\u001B[0m\u001B[1;33m.\u001B[0m\u001B[0mshow_graph\u001B[0m\u001B[1;33m(\u001B[0m\u001B[0moptimized\u001B[0m\u001B[1;33m=\u001B[0m\u001B[1;32mTrue\u001B[0m\u001B[1;33m)\u001B[0m\u001B[1;33m\u001B[0m\u001B[1;33m\u001B[0m\u001B[0m\n\u001B[0m",
      "\u001B[1;32m~\\anaconda3\\Lib\\site-packages\\polars\\lazyframe\\frame.py\u001B[0m in \u001B[0;36mshow_graph\u001B[1;34m(self, optimized, show, output_path, raw_output, figsize, type_coercion, predicate_pushdown, projection_pushdown, simplify_expression, slice_pushdown, common_subplan_elimination, streaming)\u001B[0m\n\u001B[0;32m   1065\u001B[0m             )\n\u001B[0;32m   1066\u001B[0m         \u001B[1;32mexcept\u001B[0m \u001B[1;33m(\u001B[0m\u001B[0mImportError\u001B[0m\u001B[1;33m,\u001B[0m \u001B[0mFileNotFoundError\u001B[0m\u001B[1;33m)\u001B[0m\u001B[1;33m:\u001B[0m\u001B[1;33m\u001B[0m\u001B[1;33m\u001B[0m\u001B[0m\n\u001B[1;32m-> 1067\u001B[1;33m             \u001B[1;32mraise\u001B[0m \u001B[0mImportError\u001B[0m\u001B[1;33m(\u001B[0m\u001B[1;34m\"Graphviz dot binary should be on your PATH\"\u001B[0m\u001B[1;33m)\u001B[0m \u001B[1;32mfrom\u001B[0m \u001B[1;32mNone\u001B[0m\u001B[1;33m\u001B[0m\u001B[1;33m\u001B[0m\u001B[0m\n\u001B[0m\u001B[0;32m   1068\u001B[0m \u001B[1;33m\u001B[0m\u001B[0m\n\u001B[0;32m   1069\u001B[0m         \u001B[1;32mif\u001B[0m \u001B[0moutput_path\u001B[0m\u001B[1;33m:\u001B[0m\u001B[1;33m\u001B[0m\u001B[1;33m\u001B[0m\u001B[0m\n",
      "\u001B[1;31mImportError\u001B[0m: Graphviz dot binary should be on your PATH"
     ]
    }
   ],
   "source": [
    "lazy_nhs_processed_df.show_graph(optimized=True)"
   ],
   "metadata": {
    "collapsed": false,
    "ExecuteTime": {
     "end_time": "2023-10-18T18:55:02.636085500Z",
     "start_time": "2023-10-18T18:55:02.425588100Z"
    }
   }
  },
  {
   "cell_type": "code",
   "execution_count": 37,
   "outputs": [
    {
     "name": "stdout",
     "output_type": "stream",
     "text": [
      "<class 'polars.dataframe.frame.DataFrame'>\n"
     ]
    },
    {
     "data": {
      "text/plain": "shape: (8, 7)\n┌───────────────┬──────────────┬──────────────┬──────────┬──────────────┬───────────┬──────────────┐\n│ region_name   ┆ area_name    ┆ drug_name    ┆ total_qt ┆ net_ingredie ┆ unit_cost ┆ execution_da │\n│ ---           ┆ ---          ┆ ---          ┆ ---      ┆ nt_cost      ┆ ---       ┆ te           │\n│ str           ┆ str          ┆ str          ┆ f64      ┆ ---          ┆ f64       ┆ ---          │\n│               ┆              ┆              ┆          ┆ f64          ┆           ┆ date         │\n╞═══════════════╪══════════════╪══════════════╪══════════╪══════════════╪═══════════╪══════════════╡\n│ SOUTH OF      ┆ DEVON,CORNWA ┆ Bisoprolol   ┆ 1568.0   ┆ 55.44        ┆ 0.035357  ┆ 2023-05-10   │\n│ ENGLAND       ┆ LL&ISLES OF  ┆ 5mg tablets  ┆          ┆              ┆           ┆              │\n│               ┆ SCILLY A…    ┆              ┆          ┆              ┆           ┆              │\n│ SOUTH OF      ┆ THAMES       ┆ Co-codamol   ┆ 672.0    ┆ 48.72        ┆ 0.0725    ┆ 2023-05-10   │\n│ ENGLAND       ┆ VALLEY AREA  ┆ 15mg/500mg   ┆          ┆              ┆           ┆              │\n│               ┆              ┆ capsules     ┆          ┆              ┆           ┆              │\n│ SOUTH OF      ┆ BRISTOL, N   ┆ Nicorandil   ┆ 710.0    ┆ 46.86        ┆ 0.066     ┆ 2023-05-10   │\n│ ENGLAND       ┆ SOM, SOM & S ┆ 10mg tablets ┆          ┆              ┆           ┆              │\n│               ┆ GLOS ARE…    ┆              ┆          ┆              ┆           ┆              │\n│ LONDON        ┆ NORTH EAST   ┆ Terbinafine  ┆ 120.0    ┆ 14.0         ┆ 0.116667  ┆ 2023-05-10   │\n│               ┆ LONDON AREA  ┆ 1% cream     ┆          ┆              ┆           ┆              │\n│ SOUTH OF      ┆ BATH,GLOS,SW ┆ Moxonidine   ┆ 112.0    ┆ 9.68         ┆ 0.086429  ┆ 2023-05-10   │\n│ ENGLAND       ┆ INDON &      ┆ 200microgram ┆          ┆              ┆           ┆              │\n│               ┆ WILTSHIRE    ┆ tablets      ┆          ┆              ┆           ┆              │\n│               ┆ AR…          ┆              ┆          ┆              ┆           ┆              │\n│ SOUTH OF      ┆ SURREY AND   ┆ Microgynon   ┆ 252.0    ┆ 8.97         ┆ 0.035595  ┆ 2023-05-10   │\n│ ENGLAND       ┆ SUSSEX AREA  ┆ 30 ED        ┆          ┆              ┆           ┆              │\n│               ┆              ┆ tablets      ┆          ┆              ┆           ┆              │\n│ SOUTH OF      ┆ WESSEX AREA  ┆ Enalapril    ┆ 168.0    ┆ 6.96         ┆ 0.041429  ┆ 2023-05-10   │\n│ ENGLAND       ┆              ┆ 20mg tablets ┆          ┆              ┆           ┆              │\n│ SOUTH OF      ┆ KENT AND     ┆ Verapamil    ┆ 56.0     ┆ 1.38         ┆ 0.024643  ┆ 2023-05-10   │\n│ ENGLAND       ┆ MEDWAY AREA  ┆ 40mg tablets ┆          ┆              ┆           ┆              │\n└───────────────┴──────────────┴──────────────┴──────────┴──────────────┴───────────┴──────────────┘",
      "text/html": "<div><style>\n.dataframe > thead > tr > th,\n.dataframe > tbody > tr > td {\n  text-align: right;\n}\n</style>\n<small>shape: (8, 7)</small><table border=\"1\" class=\"dataframe\"><thead><tr><th>region_name</th><th>area_name</th><th>drug_name</th><th>total_qt</th><th>net_ingredient_cost</th><th>unit_cost</th><th>execution_date</th></tr><tr><td>str</td><td>str</td><td>str</td><td>f64</td><td>f64</td><td>f64</td><td>date</td></tr></thead><tbody><tr><td>&quot;SOUTH OF ENGLA…</td><td>&quot;DEVON,CORNWALL…</td><td>&quot;Bisoprolol 5mg…</td><td>1568.0</td><td>55.44</td><td>0.035357</td><td>2023-05-10</td></tr><tr><td>&quot;SOUTH OF ENGLA…</td><td>&quot;THAMES VALLEY …</td><td>&quot;Co-codamol 15m…</td><td>672.0</td><td>48.72</td><td>0.0725</td><td>2023-05-10</td></tr><tr><td>&quot;SOUTH OF ENGLA…</td><td>&quot;BRISTOL, N SOM…</td><td>&quot;Nicorandil 10m…</td><td>710.0</td><td>46.86</td><td>0.066</td><td>2023-05-10</td></tr><tr><td>&quot;LONDON&quot;</td><td>&quot;NORTH EAST LON…</td><td>&quot;Terbinafine 1%…</td><td>120.0</td><td>14.0</td><td>0.116667</td><td>2023-05-10</td></tr><tr><td>&quot;SOUTH OF ENGLA…</td><td>&quot;BATH,GLOS,SWIN…</td><td>&quot;Moxonidine 200…</td><td>112.0</td><td>9.68</td><td>0.086429</td><td>2023-05-10</td></tr><tr><td>&quot;SOUTH OF ENGLA…</td><td>&quot;SURREY AND SUS…</td><td>&quot;Microgynon 30 …</td><td>252.0</td><td>8.97</td><td>0.035595</td><td>2023-05-10</td></tr><tr><td>&quot;SOUTH OF ENGLA…</td><td>&quot;WESSEX AREA&quot;</td><td>&quot;Enalapril 20mg…</td><td>168.0</td><td>6.96</td><td>0.041429</td><td>2023-05-10</td></tr><tr><td>&quot;SOUTH OF ENGLA…</td><td>&quot;KENT AND MEDWA…</td><td>&quot;Verapamil 40mg…</td><td>56.0</td><td>1.38</td><td>0.024643</td><td>2023-05-10</td></tr></tbody></table></div>"
     },
     "execution_count": 37,
     "metadata": {},
     "output_type": "execute_result"
    }
   ],
   "source": [
    "# .fetch(): devuelve un número limitado de líneas para hacer debugging\n",
    "# ==============================================================================\n",
    "print(type(lazy_nhs_processed_df.fetch(20)))\n",
    "lazy_nhs_processed_df.fetch(20)"
   ],
   "metadata": {
    "collapsed": false
   }
  },
  {
   "cell_type": "code",
   "execution_count": 38,
   "outputs": [
    {
     "name": "stdout",
     "output_type": "stream",
     "text": [
      "<class 'polars.dataframe.frame.DataFrame'>\n"
     ]
    },
    {
     "data": {
      "text/plain": "shape: (19_181, 7)\n┌───────────────┬──────────────┬──────────────┬──────────┬──────────────┬───────────┬──────────────┐\n│ region_name   ┆ area_name    ┆ drug_name    ┆ total_qt ┆ net_ingredie ┆ unit_cost ┆ execution_da │\n│ ---           ┆ ---          ┆ ---          ┆ ---      ┆ nt_cost      ┆ ---       ┆ te           │\n│ str           ┆ str          ┆ str          ┆ f64      ┆ ---          ┆ f64       ┆ ---          │\n│               ┆              ┆              ┆          ┆ f64          ┆           ┆ date         │\n╞═══════════════╪══════════════╪══════════════╪══════════╪══════════════╪═══════════╪══════════════╡\n│ SOUTH OF      ┆ THAMES       ┆ Prevenar 13  ┆ 77.0     ┆ 3780.7       ┆ 49.1      ┆ 2023-05-10   │\n│ ENGLAND       ┆ VALLEY AREA  ┆ vacc inj     ┆          ┆              ┆           ┆              │\n│               ┆              ┆ 0.5ml pre-f… ┆          ┆              ┆           ┆              │\n│ LONDON        ┆ NORTH WEST   ┆ Influenza    ┆ 492.0    ┆ 3242.28      ┆ 6.59      ┆ 2023-05-10   │\n│               ┆ LONDON AREA  ┆ vaccine      ┆          ┆              ┆           ┆              │\n│               ┆              ┆ (split       ┆          ┆              ┆           ┆              │\n│               ┆              ┆ virion,…     ┆          ┆              ┆           ┆              │\n│ SOUTH OF      ┆ THAMES       ┆ Tiotropium   ┆ 2340.0   ┆ 2613.0       ┆ 1.116667  ┆ 2023-05-10   │\n│ ENGLAND       ┆ VALLEY AREA  ┆ bromide      ┆          ┆              ┆           ┆              │\n│               ┆              ┆ 18microgram  ┆          ┆              ┆           ┆              │\n│               ┆              ┆ i…           ┆          ┆              ┆           ┆              │\n│ SOUTH OF      ┆ BATH,GLOS,SW ┆ Seretide 500 ┆ 62.0     ┆ 2537.04      ┆ 40.92     ┆ 2023-05-10   │\n│ ENGLAND       ┆ INDON &      ┆ Accuhaler    ┆          ┆              ┆           ┆              │\n│               ┆ WILTSHIRE    ┆              ┆          ┆              ┆           ┆              │\n│               ┆ AR…          ┆              ┆          ┆              ┆           ┆              │\n│ …             ┆ …            ┆ …            ┆ …        ┆ …            ┆ …         ┆ …            │\n│ SOUTH OF      ┆ SURREY AND   ┆ Folic acid   ┆ 1.0      ┆ 0.04         ┆ 0.04      ┆ 2023-05-10   │\n│ ENGLAND       ┆ SUSSEX AREA  ┆ 5mg tablets  ┆          ┆              ┆           ┆              │\n│ SOUTH OF      ┆ DEVON,CORNWA ┆ Lisinopril   ┆ 1.0      ┆ 0.04         ┆ 0.04      ┆ 2023-05-10   │\n│ ENGLAND       ┆ LL&ISLES OF  ┆ 20mg tablets ┆          ┆              ┆           ┆              │\n│               ┆ SCILLY A…    ┆              ┆          ┆              ┆           ┆              │\n│ SOUTH OF      ┆ THAMES       ┆ Metformin    ┆ 1.0      ┆ 0.03         ┆ 0.03      ┆ 2023-05-10   │\n│ ENGLAND       ┆ VALLEY AREA  ┆ 850mg        ┆          ┆              ┆           ┆              │\n│               ┆              ┆ tablets      ┆          ┆              ┆           ┆              │\n│ SOUTH OF      ┆ THAMES       ┆ Metocloprami ┆ 1.0      ┆ 0.03         ┆ 0.03      ┆ 2023-05-10   │\n│ ENGLAND       ┆ VALLEY AREA  ┆ de 10mg      ┆          ┆              ┆           ┆              │\n│               ┆              ┆ tablets      ┆          ┆              ┆           ┆              │\n└───────────────┴──────────────┴──────────────┴──────────┴──────────────┴───────────┴──────────────┘",
      "text/html": "<div><style>\n.dataframe > thead > tr > th,\n.dataframe > tbody > tr > td {\n  text-align: right;\n}\n</style>\n<small>shape: (19_181, 7)</small><table border=\"1\" class=\"dataframe\"><thead><tr><th>region_name</th><th>area_name</th><th>drug_name</th><th>total_qt</th><th>net_ingredient_cost</th><th>unit_cost</th><th>execution_date</th></tr><tr><td>str</td><td>str</td><td>str</td><td>f64</td><td>f64</td><td>f64</td><td>date</td></tr></thead><tbody><tr><td>&quot;SOUTH OF ENGLA…</td><td>&quot;THAMES VALLEY …</td><td>&quot;Prevenar 13 va…</td><td>77.0</td><td>3780.7</td><td>49.1</td><td>2023-05-10</td></tr><tr><td>&quot;LONDON&quot;</td><td>&quot;NORTH WEST LON…</td><td>&quot;Influenza vacc…</td><td>492.0</td><td>3242.28</td><td>6.59</td><td>2023-05-10</td></tr><tr><td>&quot;SOUTH OF ENGLA…</td><td>&quot;THAMES VALLEY …</td><td>&quot;Tiotropium bro…</td><td>2340.0</td><td>2613.0</td><td>1.116667</td><td>2023-05-10</td></tr><tr><td>&quot;SOUTH OF ENGLA…</td><td>&quot;BATH,GLOS,SWIN…</td><td>&quot;Seretide 500 A…</td><td>62.0</td><td>2537.04</td><td>40.92</td><td>2023-05-10</td></tr><tr><td>&quot;SOUTH OF ENGLA…</td><td>&quot;WESSEX AREA&quot;</td><td>&quot;Fluticasone 25…</td><td>42.0</td><td>2498.16</td><td>59.48</td><td>2023-05-10</td></tr><tr><td>&quot;SOUTH OF ENGLA…</td><td>&quot;BRISTOL, N SOM…</td><td>&quot;Rivaroxaban 20…</td><td>1092.0</td><td>2293.2</td><td>2.1</td><td>2023-05-10</td></tr><tr><td>&quot;SOUTH OF ENGLA…</td><td>&quot;WESSEX AREA&quot;</td><td>&quot;Budesonide 400…</td><td>52.0</td><td>1976.0</td><td>38.0</td><td>2023-05-10</td></tr><tr><td>&quot;LONDON&quot;</td><td>&quot;NORTH WEST LON…</td><td>&quot;Influenza vacc…</td><td>274.0</td><td>1805.66</td><td>6.59</td><td>2023-05-10</td></tr><tr><td>&quot;SOUTH OF ENGLA…</td><td>&quot;THAMES VALLEY …</td><td>&quot;Ethinylestradi…</td><td>189.0</td><td>1800.0</td><td>9.52381</td><td>2023-05-10</td></tr><tr><td>&quot;SOUTH OF ENGLA…</td><td>&quot;BRISTOL, N SOM…</td><td>&quot;Symbicort 200/…</td><td>46.0</td><td>1748.0</td><td>38.0</td><td>2023-05-10</td></tr><tr><td>&quot;SOUTH OF ENGLA…</td><td>&quot;BRISTOL, N SOM…</td><td>&quot;Prostap 3 DCS …</td><td>7.0</td><td>1580.04</td><td>225.72</td><td>2023-05-10</td></tr><tr><td>&quot;SOUTH OF ENGLA…</td><td>&quot;KENT AND MEDWA…</td><td>&quot;Symbicort 200/…</td><td>40.0</td><td>1520.0</td><td>38.0</td><td>2023-05-10</td></tr><tr><td>&hellip;</td><td>&hellip;</td><td>&hellip;</td><td>&hellip;</td><td>&hellip;</td><td>&hellip;</td><td>&hellip;</td></tr><tr><td>&quot;SOUTH OF ENGLA…</td><td>&quot;DEVON,CORNWALL…</td><td>&quot;Tegretol Prolo…</td><td>1.0</td><td>0.09</td><td>0.09</td><td>2023-05-10</td></tr><tr><td>&quot;SOUTH OF ENGLA…</td><td>&quot;BATH,GLOS,SWIN…</td><td>&quot;Warfarin 1mg t…</td><td>2.0</td><td>0.08</td><td>0.04</td><td>2023-05-10</td></tr><tr><td>&quot;SOUTH OF ENGLA…</td><td>&quot;DEVON,CORNWALL…</td><td>&quot;Warfarin 5mg t…</td><td>2.0</td><td>0.08</td><td>0.04</td><td>2023-05-10</td></tr><tr><td>&quot;SOUTH OF ENGLA…</td><td>&quot;KENT AND MEDWA…</td><td>&quot;Zetuvit E non-…</td><td>1.0</td><td>0.07</td><td>0.07</td><td>2023-05-10</td></tr><tr><td>&quot;SOUTH OF ENGLA…</td><td>&quot;THAMES VALLEY …</td><td>&quot;Diazepam 5mg t…</td><td>2.0</td><td>0.07</td><td>0.035</td><td>2023-05-10</td></tr><tr><td>&quot;SOUTH OF ENGLA…</td><td>&quot;WESSEX AREA&quot;</td><td>&quot;Zopiclone 3.75…</td><td>1.0</td><td>0.05</td><td>0.05</td><td>2023-05-10</td></tr><tr><td>&quot;LONDON&quot;</td><td>&quot;NORTH WEST LON…</td><td>&quot;Senna 7.5mg/5m…</td><td>10.0</td><td>0.05</td><td>0.005</td><td>2023-05-10</td></tr><tr><td>&quot;SOUTH OF ENGLA…</td><td>&quot;BATH,GLOS,SWIN…</td><td>&quot;Amlodipine 10m…</td><td>1.0</td><td>0.04</td><td>0.04</td><td>2023-05-10</td></tr><tr><td>&quot;SOUTH OF ENGLA…</td><td>&quot;SURREY AND SUS…</td><td>&quot;Folic acid 5mg…</td><td>1.0</td><td>0.04</td><td>0.04</td><td>2023-05-10</td></tr><tr><td>&quot;SOUTH OF ENGLA…</td><td>&quot;DEVON,CORNWALL…</td><td>&quot;Lisinopril 20m…</td><td>1.0</td><td>0.04</td><td>0.04</td><td>2023-05-10</td></tr><tr><td>&quot;SOUTH OF ENGLA…</td><td>&quot;THAMES VALLEY …</td><td>&quot;Metformin 850m…</td><td>1.0</td><td>0.03</td><td>0.03</td><td>2023-05-10</td></tr><tr><td>&quot;SOUTH OF ENGLA…</td><td>&quot;THAMES VALLEY …</td><td>&quot;Metoclopramide…</td><td>1.0</td><td>0.03</td><td>0.03</td><td>2023-05-10</td></tr></tbody></table></div>"
     },
     "execution_count": 38,
     "metadata": {},
     "output_type": "execute_result"
    }
   ],
   "source": [
    "# .collect(): devuelve todo el DataFrame\n",
    "# ==============================================================================\n",
    "print(type(lazy_nhs_processed_df.collect()))\n",
    "lazy_nhs_processed_df.collect()"
   ],
   "metadata": {
    "collapsed": false
   }
  },
  {
   "cell_type": "code",
   "execution_count": 41,
   "outputs": [
    {
     "data": {
      "text/plain": "shape: (2, 3)\n┌──────────────────┬─────────────┬────────────┐\n│ region_name      ┆ total_sales ┆ avg_qt     │\n│ ---              ┆ ---         ┆ ---        │\n│ str              ┆ f64         ┆ f64        │\n╞══════════════════╪═════════════╪════════════╡\n│ SOUTH OF ENGLAND ┆ 523946.91   ┆ 427.324624 │\n│ LONDON           ┆ 250269.3    ┆ 351.671161 │\n└──────────────────┴─────────────┴────────────┘",
      "text/html": "<div><style>\n.dataframe > thead > tr > th,\n.dataframe > tbody > tr > td {\n  text-align: right;\n}\n</style>\n<small>shape: (2, 3)</small><table border=\"1\" class=\"dataframe\"><thead><tr><th>region_name</th><th>total_sales</th><th>avg_qt</th></tr><tr><td>str</td><td>f64</td><td>f64</td></tr></thead><tbody><tr><td>&quot;SOUTH OF ENGLA…</td><td>523946.91</td><td>427.324624</td></tr><tr><td>&quot;LONDON&quot;</td><td>250269.3</td><td>351.671161</td></tr></tbody></table></div>"
     },
     "execution_count": 41,
     "metadata": {},
     "output_type": "execute_result"
    }
   ],
   "source": [
    "# Group by Operation\n",
    "# ==============================================================================\n",
    "agg_df = (\n",
    "    lazy_nhs_processed_df\n",
    "    .groupby([\"region_name\"])\n",
    "    .agg(\n",
    "        [\n",
    "            pl.col(\"net_ingredient_cost\").sum().alias(\"total_sales\"),\n",
    "            pl.col(\"total_qt\").mean().alias(\"avg_qt\"),\n",
    "        ]\n",
    "    )\n",
    "    .sort(\"total_sales\", descending=True)\n",
    "\n",
    ").collect()\n",
    "\n",
    "agg_df"
   ],
   "metadata": {
    "collapsed": false
   }
  },
  {
   "cell_type": "markdown",
   "source": [
    "**Copyright**\n",
    "\n",
    "The notebooks are provided as [Open Educational Resource](https://de.wikipedia.org/wiki/Open_Educational_Resources). Feel free to use the notebooks for your own educational purposes. The text is licensed under [Creative Commons Attribution 4.0](https://creativecommons.org/licenses/by/4.0/), the code of the IPython examples under the [MIT license](https://opensource.org/licenses/MIT)."
   ],
   "metadata": {
    "collapsed": false
   }
  },
  {
   "cell_type": "code",
   "execution_count": null,
   "outputs": [],
   "source": [],
   "metadata": {
    "collapsed": false
   }
  }
 ],
 "metadata": {
  "kernelspec": {
   "display_name": "Python 3",
   "language": "python",
   "name": "python3"
  },
  "language_info": {
   "codemirror_mode": {
    "name": "ipython",
    "version": 2
   },
   "file_extension": ".py",
   "mimetype": "text/x-python",
   "name": "python",
   "nbconvert_exporter": "python",
   "pygments_lexer": "ipython2",
   "version": "2.7.6"
  }
 },
 "nbformat": 4,
 "nbformat_minor": 0
}
