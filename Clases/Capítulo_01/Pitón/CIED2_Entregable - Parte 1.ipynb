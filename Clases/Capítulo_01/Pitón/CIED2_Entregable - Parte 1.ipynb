{
 "nbformat": 4,
 "nbformat_minor": 0,
 "metadata": {
  "colab": {
   "name": "Entregable - Parte 1.ipynb",
   "provenance": [
    {
     "file_id": "1OZLULlr-RkXwyhar7ED5fcXmPdgc6tGb",
     "timestamp": 1617224538047
    },
    {
     "file_id": "1xPL68eVaR0UF7XTcLU1rCMfpzuS7r6s0",
     "timestamp": 1617223947184
    },
    {
     "file_id": "1bChseZSrdGJSXfa-D2_lS0dx98wplQtD",
     "timestamp": 1614968149245
    }
   ],
   "collapsed_sections": []
  },
  "kernelspec": {
   "name": "python3",
   "display_name": "Python 3"
  }
 },
 "cells": [
  {
   "cell_type": "markdown",
   "metadata": {
    "id": "LYvAOR2VzHmW"
   },
   "source": [
    "## TRABAJO PRACTICO<a class=\"tocSkip\">\n",
    "## EL460 ELECTIVA I - CIENCIA DE DATOS II <a class=\"tocSkip\">\n",
    "### Ingenieria Electrónica <a class=\"tocSkip\">\n",
    "### Universidad Popular del Cesar <a class=\"tocSkip\">\n",
    "### Prof.: Jose Ramón Iglesias Gamarra - [https://github.com/joseramoniglesias/](https://github.com/joseramoniglesias/) <a class=\"tocSkip\">\n",
    "  **joseiglesias@unicesar.edu.co**\n",
    "\n",
    "---\n",
    "## Trabajo práctico entregable - Parte 1"
   ]
  },
  {
   "cell_type": "code",
   "metadata": {
    "id": "Xwdfo7z20TUK"
   },
   "source": [
    "import io\n",
    "import matplotlib\n",
    "import matplotlib.pyplot as plt\n",
    "import numpy\n",
    "import pandas as pd\n",
    "import seaborn\n",
    "\n",
    "seaborn.set_context('talk')"
   ],
   "execution_count": 1,
   "outputs": []
  },
  {
   "cell_type": "markdown",
   "metadata": {
    "id": "XY2Hl-Ma07Nn"
   },
   "source": [
    "## Lectura del dataset\n",
    "\n",
    "En la notebook 00 se explican los detalles de la siguiente sección."
   ]
  },
  {
   "cell_type": "code",
   "metadata": {
    "id": "Vviv_sqXdR5W"
   },
   "source": [
    "url = 'https://github.com/joseramoniglesias/EL460_Ciencia_de_datos_2/blob/main/Clases/Cap%C3%ADtulo_01/Pit%C3%B3n/survey_2022_processed.csv'\n",
    "df = pd.read_csv(url)"
   ],
   "execution_count": 1,
   "outputs": [
    {
     "ename": "NameError",
     "evalue": "name 'pd' is not defined",
     "output_type": "error",
     "traceback": [
      "\u001B[1;31m---------------------------------------------------------------------------\u001B[0m",
      "\u001B[1;31mNameError\u001B[0m                                 Traceback (most recent call last)",
      "\u001B[1;32mC:\\Users\\Public\\Documents\\Wondershare\\CreatorTemp\\ipykernel_7732\\443272123.py\u001B[0m in \u001B[0;36m<module>\u001B[1;34m\u001B[0m\n\u001B[0;32m      1\u001B[0m \u001B[0murl\u001B[0m \u001B[1;33m=\u001B[0m \u001B[1;34m'https://github.com/joseramoniglesias/EL460_Ciencia_de_datos_2/blob/main/Clases/Cap%C3%ADtulo_01/Pit%C3%B3n/survey_2022_processed.csv'\u001B[0m\u001B[1;33m\u001B[0m\u001B[1;33m\u001B[0m\u001B[0m\n\u001B[1;32m----> 2\u001B[1;33m \u001B[0mdf\u001B[0m \u001B[1;33m=\u001B[0m \u001B[0mpd\u001B[0m\u001B[1;33m.\u001B[0m\u001B[0mread_csv\u001B[0m\u001B[1;33m(\u001B[0m\u001B[0murl\u001B[0m\u001B[1;33m)\u001B[0m\u001B[1;33m\u001B[0m\u001B[1;33m\u001B[0m\u001B[0m\n\u001B[0m",
      "\u001B[1;31mNameError\u001B[0m: name 'pd' is not defined"
     ]
    }
   ]
  },
  {
   "cell_type": "code",
   "metadata": {
    "id": "gckNHXXLktJ4",
    "colab": {
     "base_uri": "https://localhost:8080/",
     "height": 297
    },
    "executionInfo": {
     "status": "ok",
     "timestamp": 1618353580374,
     "user_tz": 180,
     "elapsed": 5819,
     "user": {
      "displayName": "Milagro Teruel",
      "photoUrl": "https://lh3.googleusercontent.com/a-/AOh14Gj5Cl9j0p5Ont2qFoH4hE2P4Pws7ek_gATkrdVJ=s64",
      "userId": "13159704290090351697"
     }
    },
    "outputId": "66c64637-de04-4239-a158-ce88d604511d"
   },
   "source": [
    "df[:3]"
   ],
   "execution_count": 3,
   "outputs": [
    {
     "data": {
      "text/plain": "  work_province                                 work_contract_type  \\\n0     Catamarca  Tercerizado (trabajo a través de consultora o ...   \n1     Catamarca                                          Full-Time   \n2     Catamarca                                          Full-Time   \n\n  salary_monthly_BRUTO  salary_monthly_NETO  \\\n0               207000             150000.0   \n1               130000              99000.0   \n2               185000             145000.0   \n\n                                       salary_in_usd salary_last_dollar_value  \\\n0                                                NaN                      NaN   \n1                                                NaN                      NaN   \n2  Mi sueldo está dolarizado (pero cobro en moned...                      100   \n\n   salary_satisfaction  salary_comparison_last_semester  \\\n0                    2                                1   \n1                    3                                4   \n2                    2                                2   \n\n        salary_has_bonus        salary_bonus_tied_to  ...  \\\n0                     No              No recibo bono  ...   \n1              Un sueldo  Performance de la compañía  ...   \n2  De uno a tres sueldos          Performance grupal  ...   \n\n  work_listen_more_men  profile_has_disabilities  \\\n0                  NaN                       NaN   \n1                  NaN                       NaN   \n2                  NaN                       NaN   \n\n   profile_has_disabilities_hiring_difficulties work_lastyear_discrimination  \\\n0                                           NaN                          NaN   \n1                                           NaN                          NaN   \n2                                           NaN                          NaN   \n\n   ¿Salir o seguir contestando?.3  company_days_in_the_office  \\\n0                             NaN                         NaN   \n1                             NaN                         NaN   \n2                             NaN                         NaN   \n\n   company_pandemic_support  company_new_benefits profile_age profile_gender  \n0                       NaN                   NaN          34      Varón Cis  \n1                       NaN                   NaN          35      Varón Cis  \n2                       NaN                   NaN          26    Varón Trans  \n\n[3 rows x 56 columns]",
      "text/html": "<div>\n<style scoped>\n    .dataframe tbody tr th:only-of-type {\n        vertical-align: middle;\n    }\n\n    .dataframe tbody tr th {\n        vertical-align: top;\n    }\n\n    .dataframe thead th {\n        text-align: right;\n    }\n</style>\n<table border=\"1\" class=\"dataframe\">\n  <thead>\n    <tr style=\"text-align: right;\">\n      <th></th>\n      <th>work_province</th>\n      <th>work_contract_type</th>\n      <th>salary_monthly_BRUTO</th>\n      <th>salary_monthly_NETO</th>\n      <th>salary_in_usd</th>\n      <th>salary_last_dollar_value</th>\n      <th>salary_satisfaction</th>\n      <th>salary_comparison_last_semester</th>\n      <th>salary_has_bonus</th>\n      <th>salary_bonus_tied_to</th>\n      <th>...</th>\n      <th>work_listen_more_men</th>\n      <th>profile_has_disabilities</th>\n      <th>profile_has_disabilities_hiring_difficulties</th>\n      <th>work_lastyear_discrimination</th>\n      <th>¿Salir o seguir contestando?.3</th>\n      <th>company_days_in_the_office</th>\n      <th>company_pandemic_support</th>\n      <th>company_new_benefits</th>\n      <th>profile_age</th>\n      <th>profile_gender</th>\n    </tr>\n  </thead>\n  <tbody>\n    <tr>\n      <th>0</th>\n      <td>Catamarca</td>\n      <td>Tercerizado (trabajo a través de consultora o ...</td>\n      <td>207000</td>\n      <td>150000.0</td>\n      <td>NaN</td>\n      <td>NaN</td>\n      <td>2</td>\n      <td>1</td>\n      <td>No</td>\n      <td>No recibo bono</td>\n      <td>...</td>\n      <td>NaN</td>\n      <td>NaN</td>\n      <td>NaN</td>\n      <td>NaN</td>\n      <td>NaN</td>\n      <td>NaN</td>\n      <td>NaN</td>\n      <td>NaN</td>\n      <td>34</td>\n      <td>Varón Cis</td>\n    </tr>\n    <tr>\n      <th>1</th>\n      <td>Catamarca</td>\n      <td>Full-Time</td>\n      <td>130000</td>\n      <td>99000.0</td>\n      <td>NaN</td>\n      <td>NaN</td>\n      <td>3</td>\n      <td>4</td>\n      <td>Un sueldo</td>\n      <td>Performance de la compañía</td>\n      <td>...</td>\n      <td>NaN</td>\n      <td>NaN</td>\n      <td>NaN</td>\n      <td>NaN</td>\n      <td>NaN</td>\n      <td>NaN</td>\n      <td>NaN</td>\n      <td>NaN</td>\n      <td>35</td>\n      <td>Varón Cis</td>\n    </tr>\n    <tr>\n      <th>2</th>\n      <td>Catamarca</td>\n      <td>Full-Time</td>\n      <td>185000</td>\n      <td>145000.0</td>\n      <td>Mi sueldo está dolarizado (pero cobro en moned...</td>\n      <td>100</td>\n      <td>2</td>\n      <td>2</td>\n      <td>De uno a tres sueldos</td>\n      <td>Performance grupal</td>\n      <td>...</td>\n      <td>NaN</td>\n      <td>NaN</td>\n      <td>NaN</td>\n      <td>NaN</td>\n      <td>NaN</td>\n      <td>NaN</td>\n      <td>NaN</td>\n      <td>NaN</td>\n      <td>26</td>\n      <td>Varón Trans</td>\n    </tr>\n  </tbody>\n</table>\n<p>3 rows × 56 columns</p>\n</div>"
     },
     "execution_count": 3,
     "metadata": {},
     "output_type": "execute_result"
    }
   ]
  },
  {
   "cell_type": "markdown",
   "metadata": {
    "id": "-ZSQYANFHHgV"
   },
   "source": [
    "# Ejercicio 1 - Análisis descriptivo\n",
    "\n",
    "Responder a la pregunta: **¿Cuáles son los lenguajes de programación asociados a los mejores salarios?**\n",
    "\n",
    "Para ello:\n",
    "1. Seleccionar las columnas relevantes para analizar.\n",
    "2. Seleccionar las filas relevantes para analizar. Esto incluye la eliminación de valores extremos y erróneos, pero también puede enfocar el análisis en una sub-población. Por ejemplo, se pueden limitar a personas con un salario mayor que 10000 pesos, o a las personas que trabajan sólo en \"Data Science\", pero deben justificar su elección y reformular la pregunta inicial de ser necesario.\n",
    "  * Obtener una lista de los lenguajes de programación más populares. Decidir cuántos y cuáles seleccionan para incluir en el análisis.\n",
    "  * Para cada una de las otras columnas del punto anterior, elegir los rangos o valores seleccionan para incluir en el análisis.\n",
    "3. Seleccionar métricas que ayuden a responder la pregunta, y los métodos para analizarlas. Elegir UNA de las siguientes opciones:\n",
    "  * Comparar las distribuciones de salario para cada lenguaje utilizando visualizaciones. Como la visualización es el producto final, debe ser clara y mostrar información relevante.\n",
    "  * Comparar medidas de estadística descriptiva sobre la distribución de salario para cada lenguaje. Sean creativos, la estadística descriptiva nos permite decir cosas como: \"el 10% de los mejores sueldos los ganan, en su mayoría, programadores que saben kotlin!\" (donde *mayoría* es un término medio engañoso que sólo significa más del 50%). Para comparar múltiples lenguajes, les recomendamos usar también visualizaciones.\n",
    "  * Comparar probabilidades. Por ejemplo: \"Si sabés Python o Java, tenés un 30% más de chances de ganar arriba de 100K\".\n",
    "\n",
    "Si lo consideran necesario, realicen varias iteraciones. Es decir, si encuentran que las distribuciones de los lenguajes de programación que seleccionaron inicialmente no son muy diferentes, pueden re-hacer el análisis usando sólo los lenguajes de programación que son diferentes."
   ]
  },
  {
   "cell_type": "code",
   "metadata": {
    "id": "6dqTEr7cZgvl"
   },
   "source": [
    "# complete here if you want to include more columns\n",
    "relevant_columns = ['tools_data_bases', 'salary_monthly_NETO']"
   ],
   "execution_count": 9,
   "outputs": []
  },
  {
   "cell_type": "markdown",
   "metadata": {
    "id": "OoGgzMvuEocM"
   },
   "source": [
    "### Conteo de frecuencias de los lenguajes de programación\n",
    "\n",
    "La columna que contiene información sobre los lenguajes de programación utilizados es `tools_programming_languages`. Sus valores son strings con los lenguajes seleccionados separados por comas.\n",
    "\n"
   ]
  },
  {
   "cell_type": "code",
   "metadata": {
    "colab": {
     "base_uri": "https://localhost:8080/"
    },
    "id": "J7AB2Ty8SvNl",
    "executionInfo": {
     "status": "ok",
     "timestamp": 1618353580377,
     "user_tz": 180,
     "elapsed": 5808,
     "user": {
      "displayName": "Milagro Teruel",
      "photoUrl": "https://lh3.googleusercontent.com/a-/AOh14Gj5Cl9j0p5Ont2qFoH4hE2P4Pws7ek_gATkrdVJ=s64",
      "userId": "13159704290090351697"
     }
    },
    "outputId": "cb0ee28d-5c7f-4ed5-cf32-f4fddce64eb7"
   },
   "source": [
    "df.tools_data_bases[:3]"
   ],
   "execution_count": 10,
   "outputs": [
    {
     "data": {
      "text/plain": "0    Ninguna de las anteriores\n1                     Informix\n2       Amazon DynamoDB, MySQL\nName: tools_data_bases, dtype: object"
     },
     "execution_count": 10,
     "metadata": {},
     "output_type": "execute_result"
    }
   ]
  },
  {
   "cell_type": "markdown",
   "metadata": {
    "id": "l8bYmvMhSroH"
   },
   "source": [
    "Las siguientes celdas de código separan estos lenguajes de programación y cuentan la frecuencia con la que aparecen.\n",
    "\n",
    "No es necesario entender este código en profundidad, aunque sí es un buen ejercicio."
   ]
  },
  {
   "cell_type": "code",
   "metadata": {
    "colab": {
     "base_uri": "https://localhost:8080/",
     "height": 223
    },
    "id": "PAQ81x3iUP_N",
    "executionInfo": {
     "status": "ok",
     "timestamp": 1618353581516,
     "user_tz": 180,
     "elapsed": 6939,
     "user": {
      "displayName": "Milagro Teruel",
      "photoUrl": "https://lh3.googleusercontent.com/a-/AOh14Gj5Cl9j0p5Ont2qFoH4hE2P4Pws7ek_gATkrdVJ=s64",
      "userId": "13159704290090351697"
     }
    },
    "outputId": "690186ea-5c29-4fb8-b06c-2ff8c3de7c71"
   },
   "source": [
    "# Convert the comma-separated string of languages to a list of string.\n",
    "# Remove 'ninguno de los anteriores' option, spaces and training commas.\n",
    "def split_languages(languages_str):\n",
    "  if not isinstance(languages_str, str):\n",
    "    return []\n",
    "  # Remove 'other' option\n",
    "  languages_str = languages_str.lower()\\\n",
    "    .replace('ninguno de los anteriores', '')\n",
    "  # Split string into list of items\n",
    "  # Remove spaces and commas for each item\n",
    "  return [lang.strip().replace(',', '')\n",
    "          for lang in languages_str.split()]\n",
    "\n",
    "# Create a new column with the list of languages\n",
    "df.loc[:, 'cured_programming_languages'] = df.tools_data_bases\\\n",
    "    .apply(split_languages)\n",
    "if 'cured_programming_languages' not in relevant_columns:\n",
    "    relevant_columns.append('cured_programming_languages') \n",
    "\n",
    "# Duplicate each row of df for each programming language\n",
    "# mentioned in the response.\n",
    "# We only include in df_lang the columns we are going to analyze later, so we\n",
    "# don't duplicate innecesary information.\n",
    "df_lang = df.cured_programming_languages\\\n",
    "    .apply(pd.Series).stack()\\\n",
    "    .reset_index(level=-1, drop=True).to_frame()\\\n",
    "    .join(df[relevant_columns])\\\n",
    "    .rename(columns={0: 'programming_language'})\n",
    "# Horrible programming style! But a lot of data science code can be written with\n",
    "# as concatenations of functions (pipelines), and there's no elegant way of\n",
    "# doing that on Python.\n",
    "df_lang[:5]"
   ],
   "execution_count": 12,
   "outputs": [
    {
     "data": {
      "text/plain": "  programming_language           tools_data_bases  salary_monthly_NETO  \\\n0              ninguna  Ninguna de las anteriores             150000.0   \n0                   de  Ninguna de las anteriores             150000.0   \n0                  las  Ninguna de las anteriores             150000.0   \n0           anteriores  Ninguna de las anteriores             150000.0   \n1             informix                   Informix              99000.0   \n\n      cured_programming_languages  \n0  [ninguna, de, las, anteriores]  \n0  [ninguna, de, las, anteriores]  \n0  [ninguna, de, las, anteriores]  \n0  [ninguna, de, las, anteriores]  \n1                      [informix]  ",
      "text/html": "<div>\n<style scoped>\n    .dataframe tbody tr th:only-of-type {\n        vertical-align: middle;\n    }\n\n    .dataframe tbody tr th {\n        vertical-align: top;\n    }\n\n    .dataframe thead th {\n        text-align: right;\n    }\n</style>\n<table border=\"1\" class=\"dataframe\">\n  <thead>\n    <tr style=\"text-align: right;\">\n      <th></th>\n      <th>programming_language</th>\n      <th>tools_data_bases</th>\n      <th>salary_monthly_NETO</th>\n      <th>cured_programming_languages</th>\n    </tr>\n  </thead>\n  <tbody>\n    <tr>\n      <th>0</th>\n      <td>ninguna</td>\n      <td>Ninguna de las anteriores</td>\n      <td>150000.0</td>\n      <td>[ninguna, de, las, anteriores]</td>\n    </tr>\n    <tr>\n      <th>0</th>\n      <td>de</td>\n      <td>Ninguna de las anteriores</td>\n      <td>150000.0</td>\n      <td>[ninguna, de, las, anteriores]</td>\n    </tr>\n    <tr>\n      <th>0</th>\n      <td>las</td>\n      <td>Ninguna de las anteriores</td>\n      <td>150000.0</td>\n      <td>[ninguna, de, las, anteriores]</td>\n    </tr>\n    <tr>\n      <th>0</th>\n      <td>anteriores</td>\n      <td>Ninguna de las anteriores</td>\n      <td>150000.0</td>\n      <td>[ninguna, de, las, anteriores]</td>\n    </tr>\n    <tr>\n      <th>1</th>\n      <td>informix</td>\n      <td>Informix</td>\n      <td>99000.0</td>\n      <td>[informix]</td>\n    </tr>\n  </tbody>\n</table>\n</div>"
     },
     "execution_count": 12,
     "metadata": {},
     "output_type": "execute_result"
    }
   ]
  },
  {
   "cell_type": "markdown",
   "metadata": {
    "id": "qm8NUg-7UEue"
   },
   "source": [
    "En la columna `programming_language` se encuentra cada lenguaje por separado. Notar que si una respuesta contenía 3 lenguajes, como `\"HTML, Javascript, Python\"`, la fila ha sido replicada 3 veces. Por ello, hay tres filas con índice 1."
   ]
  },
  {
   "cell_type": "code",
   "metadata": {
    "colab": {
     "base_uri": "https://localhost:8080/",
     "height": 357
    },
    "id": "lNPb4tTvWCwv",
    "executionInfo": {
     "status": "ok",
     "timestamp": 1618353581518,
     "user_tz": 180,
     "elapsed": 6932,
     "user": {
      "displayName": "Milagro Teruel",
      "photoUrl": "https://lh3.googleusercontent.com/a-/AOh14Gj5Cl9j0p5Ont2qFoH4hE2P4Pws7ek_gATkrdVJ=s64",
      "userId": "13159704290090351697"
     }
    },
    "outputId": "02efa4bd-7d00-49c1-efee-d5d68f3eaf9f"
   },
   "source": [
    "language_count = df_lang.programming_language.value_counts()\\\n",
    "    .reset_index()\\\n",
    "    .rename(columns={'index': 'language', 'programming_language': 'frequency'})\n",
    "language_count[:10]"
   ],
   "execution_count": 13,
   "outputs": [
    {
     "data": {
      "text/plain": "     language  frequency\n0       mysql       1848\n1         sql       1795\n2   microsoft       1788\n3      server       1444\n4     ninguna       1406\n5          de       1402\n6  anteriores       1400\n7         las       1400\n8  postgresql       1229\n9      amazon        933",
      "text/html": "<div>\n<style scoped>\n    .dataframe tbody tr th:only-of-type {\n        vertical-align: middle;\n    }\n\n    .dataframe tbody tr th {\n        vertical-align: top;\n    }\n\n    .dataframe thead th {\n        text-align: right;\n    }\n</style>\n<table border=\"1\" class=\"dataframe\">\n  <thead>\n    <tr style=\"text-align: right;\">\n      <th></th>\n      <th>language</th>\n      <th>frequency</th>\n    </tr>\n  </thead>\n  <tbody>\n    <tr>\n      <th>0</th>\n      <td>mysql</td>\n      <td>1848</td>\n    </tr>\n    <tr>\n      <th>1</th>\n      <td>sql</td>\n      <td>1795</td>\n    </tr>\n    <tr>\n      <th>2</th>\n      <td>microsoft</td>\n      <td>1788</td>\n    </tr>\n    <tr>\n      <th>3</th>\n      <td>server</td>\n      <td>1444</td>\n    </tr>\n    <tr>\n      <th>4</th>\n      <td>ninguna</td>\n      <td>1406</td>\n    </tr>\n    <tr>\n      <th>5</th>\n      <td>de</td>\n      <td>1402</td>\n    </tr>\n    <tr>\n      <th>6</th>\n      <td>anteriores</td>\n      <td>1400</td>\n    </tr>\n    <tr>\n      <th>7</th>\n      <td>las</td>\n      <td>1400</td>\n    </tr>\n    <tr>\n      <th>8</th>\n      <td>postgresql</td>\n      <td>1229</td>\n    </tr>\n    <tr>\n      <th>9</th>\n      <td>amazon</td>\n      <td>933</td>\n    </tr>\n  </tbody>\n</table>\n</div>"
     },
     "execution_count": 13,
     "metadata": {},
     "output_type": "execute_result"
    }
   ]
  },
  {
   "cell_type": "markdown",
   "metadata": {
    "id": "nThbJ1KeUgDo"
   },
   "source": [
    "## Filtrado de lenguajes relevantes\n",
    "\n",
    "El siguiente código permite seleccionar sólo las filas donde el valor de la columna `programming_language` se encuentre en la lista `interesting_languages`."
   ]
  },
  {
   "cell_type": "code",
   "metadata": {
    "colab": {
     "base_uri": "https://localhost:8080/",
     "height": 223
    },
    "id": "DEpVptnLZUQU",
    "executionInfo": {
     "status": "ok",
     "timestamp": 1618336377729,
     "user_tz": 180,
     "elapsed": 983,
     "user": {
      "displayName": "Milagro Teruel",
      "photoUrl": "https://lh3.googleusercontent.com/a-/AOh14Gj5Cl9j0p5Ont2qFoH4hE2P4Pws7ek_gATkrdVJ=s64",
      "userId": "13159704290090351697"
     }
    },
    "outputId": "dc2bdb53-1fe2-4f1d-b5ba-42a53efe6d4c"
   },
   "source": [
    "# Filter out languages that we want to exclude\n",
    "# Complete here with your selected list.\n",
    "interesting_languages = [\"Python\"]\n",
    "filtered_df_lang = df_lang[df_lang.programming_language.isin(interesting_languages)]\n",
    "filtered_df_lang[:5]"
   ],
   "execution_count": 14,
   "outputs": [
    {
     "data": {
      "text/plain": "Empty DataFrame\nColumns: [programming_language, tools_data_bases, salary_monthly_NETO, cured_programming_languages]\nIndex: []",
      "text/html": "<div>\n<style scoped>\n    .dataframe tbody tr th:only-of-type {\n        vertical-align: middle;\n    }\n\n    .dataframe tbody tr th {\n        vertical-align: top;\n    }\n\n    .dataframe thead th {\n        text-align: right;\n    }\n</style>\n<table border=\"1\" class=\"dataframe\">\n  <thead>\n    <tr style=\"text-align: right;\">\n      <th></th>\n      <th>programming_language</th>\n      <th>tools_data_bases</th>\n      <th>salary_monthly_NETO</th>\n      <th>cured_programming_languages</th>\n    </tr>\n  </thead>\n  <tbody>\n  </tbody>\n</table>\n</div>"
     },
     "execution_count": 14,
     "metadata": {},
     "output_type": "execute_result"
    }
   ]
  },
  {
   "cell_type": "markdown",
   "metadata": {
    "id": "tWo8SmmC9FAk"
   },
   "source": [
    "# Ejercicio 2 - Densidades y varias variables\n",
    "\n",
    "Responder a la pregunta general: **¿Que herramientas (prácticas y teóricas) són útiles para explorar la base, descubrir patrones, asociaciones?**\n",
    "\n",
    "Para ello considere (igual al ejercicio Anterior):\n",
    "1. Seleccionar las columnas relevantes para analizar.\n",
    "2. Seleccionar las filas relevantes para analizar. Esto incluye la eliminación de valores extremos y erróneos, pero también puede enfocar el análisis en sub-poblaciones. "
   ]
  },
  {
   "cell_type": "markdown",
   "metadata": {
    "id": "5baYhH0XHM3S"
   },
   "source": [
    "## a) Densidad conjunta\n",
    "\n",
    "Que herramientas visuales y modelos puede utilizar para estudiar la distribución y comportamiento de sus datos? \n",
    "\n",
    "Elija tres variables numéricas y 2 variables categóricas. Visualice la base según varias de las variables elegidas. Puede describir de alguna forma el comportamiento de sus datos? Que herramientas utilizaría? Describa\n",
    "\n",
    "\n"
   ]
  },
  {
   "cell_type": "markdown",
   "metadata": {
    "id": "lkuHE2aZGHMO"
   },
   "source": [
    "## b) Asociación\n",
    "\n",
    "* Necesitamos decidir si sacar o no la columna de salario bruto. Para hacer la encuesta más simple.\n",
    "¿Existe una correlación entre el salario bruto y el neto? Que abordaje y medidas usaría\n",
    "\n"
   ]
  },
  {
   "cell_type": "markdown",
   "metadata": {
    "id": "7MZrbRJCm-ae"
   },
   "source": [
    "## c) Densidad condicional \n",
    "\n",
    "Estudie la distribución del salario según el nivel de estudio.\n",
    "\n",
    "Separe la población según el nivel de estudio (elija dos subpoblaciones numerosas) y grafique de manera comparativa ambos histogramas de la variable `'salary_monthly_NETO'`\n",
    "¿Considera que ambas variables son independientes?\n",
    "¿Qué analizaría al respecto?\n",
    "\n",
    "Calcule medidas de centralización y dispersión para cada subpoblación\n",
    "\n",
    "\n",
    "\n",
    "\n"
   ]
  },
  {
   "cell_type": "markdown",
   "metadata": {
    "id": "u8wgYxNiqVpE"
   },
   "source": [
    "## d) Densidad Conjunta condicional\n",
    "\n",
    "Elija dos variables numéricas y una categórica. \n",
    "Estudie la dispersión (scatterplot) de las dos variables discriminando en color por la variable categórica (ayuda: hue en seaborn)\n"
   ]
  }
 ]
}
