{
 "nbformat": 4,
 "nbformat_minor": 0,
 "metadata": {
  "colab": {
   "name": "00 Inicios en Python.ipynb",
   "provenance": [
    {
     "file_id": "1bChseZSrdGJSXfa-D2_lS0dx98wplQtD",
     "timestamp": 1647959291704
    }
   ],
   "collapsed_sections": []
  },
  "kernelspec": {
   "name": "python3",
   "display_name": "Python 3"
  }
 },
 "cells": [
  {
   "cell_type": "markdown",
   "metadata": {
    "id": "LYvAOR2VzHmW"
   },
   "source": [
    "\n",
    "## DISTRIBUCIONES<a class=\"tocSkip\">\n",
    "## EL460 ELECTIVA I - CIENCIA DE DATOS II <a class=\"tocSkip\">\n",
    "### Ingenieria Electrónica <a class=\"tocSkip\">\n",
    "### Universidad Popular del Cesar <a class=\"tocSkip\">\n",
    "### Prof.: Jose Ramón Iglesias Gamarra - [https://github.com/joseramoniglesias/](https://github.com/joseramoniglesias/) <a class=\"tocSkip\">\n",
    "**joseiglesias@unicesar.edu.co**\n",
    "\n",
    "---\n",
    "# Aplicaciones en Python\n",
    "\n",
    "La idea de esta notebook es poder introducir algunos conceptos básicos de estadistica descriptiva y sus aplicaciones en Python. Intentaremos familiarizarnos con algunos \n",
    "conceptos (librerias, paquetes y funciones) que nos facilitaran el camino hacia la manipulacion y procesamiento de los datos. "
   ]
  },
  {
   "cell_type": "markdown",
   "source": [
    "## Herramientas de trabajo \n",
    "En esta oportunidad vamos a utilizar el lenguaje de programación Python junto con DataSpell para realizar nuestro primer analisis de la encuesta de sueldos. Hay que recordar que todas las librerías instaladas en Anaconda funcionan en DataSpell y también funcionan los Notebooks de Jupyter, por lo tanto es necesario cargar todas las librerías a utilizar en Anaconda o desde DataSpell.\n",
    "\n"
   ],
   "metadata": {
    "id": "mScAXU4Fd9re"
   }
  },
  {
   "cell_type": "markdown",
   "source": [
    "## ¿Que es \"EDA\"? \n",
    "\n",
    "En sus siglas en inglés hace referencia al **Análisis Exploratorio de Datos**. Este es el primer paso que debemos realizar como Data Scientists y consta de una primera revisión del estado de los datos y los consecuentes pasos necesarios para una correcta transformación.\n",
    "\n",
    "La ciencia de datos es una disciplina que te permite convertir datos crudos en entendimiento, comprensión y conocimiento.\n",
    "\n",
    "<center>\n",
    "<img src=\"https://i.imgur.com/jclXnDS.png\" height=\"200\" />\n",
    "</center>\n",
    "\n",
    "\n",
    "En este sentido, el primer objetivo radica en preguntarnos **¿De qué se trata este dataset?**"
   ],
   "metadata": {
    "id": "MwB8UHuie9Qh"
   }
  },
  {
   "cell_type": "markdown",
   "source": [
    "## Importación de librerías\n",
    "\n",
    "El concepto correcto en español es \"biblioteca\". Una biblioteca es básicamente un componente de software que nos brinda acceso a distintas funcionalidades.\n",
    "Existen librerías con funciones para leer un archivo excel o csv y trabajar los datos como tablas (librería Pandas, por ejemplo), otras con funciones para graficar nuestros datos (como Seaborn), para trabajar con cálculo numérico (como Numpy).\n",
    "Cualquiera sea el lenguaje con el que se decida programar, será útil conocer mediante la página oficial del lenguaje cuáles son las librerías disponibles, que nos facilitarán, en éste caso, el análisis de datos."
   ],
   "metadata": {
    "id": "tqGTauDXerBG"
   }
  },
  {
   "cell_type": "code",
   "source": [
    "import matplotlib\n",
    "import matplotlib.pyplot as plt\n",
    "import numpy as np\n",
    "import pandas as pd\n",
    "import seaborn as sns\n",
    "\n",
    "sns.set(rc={'figure.figsize':(10,6)})"
   ],
   "metadata": {
    "id": "mlMM0JkSeqkw",
    "executionInfo": {
     "status": "ok",
     "timestamp": 1648246229143,
     "user_tz": 180,
     "elapsed": 1004,
     "user": {
      "displayName": "Valeria S RULLONI",
      "photoUrl": "https://lh3.googleusercontent.com/a/default-user=s64",
      "userId": "09936144167370803067"
     }
    }
   },
   "execution_count": 7,
   "outputs": []
  },
  {
   "cell_type": "markdown",
   "source": [
    "# Leer dataset Encuesta Sysarmy en formato csv\n",
    "\n",
    "En esta primera notebook, aprendemos cómo cargar un conjunto de datos utilizando pandas y cómo ver su contenido.\n",
    "\n",
    "Durante la materia, se trabajará con la Encuesta Sysarmy del año 2022 versión 1. Se trata de una encuesta personal y voluntaria que busca relevar información sobre salarios y condiciones de trabajo de programadores, que se realiza anualmente.\n",
    "\n",
    "Se analizarán sólo los datos provenientes de Argentina\n"
   ],
   "metadata": {
    "id": "szPK4onQdemj"
   }
  },
  {
   "cell_type": "markdown",
   "metadata": {
    "id": "XY2Hl-Ma07Nn"
   },
   "source": [
    "## ¿Cómo leer datos desde un archivo utilizando pandas?\n"
   ]
  },
  {
   "cell_type": "code",
   "metadata": {
    "id": "Xwdfo7z20TUK",
    "executionInfo": {
     "status": "ok",
     "timestamp": 1648246229146,
     "user_tz": 180,
     "elapsed": 17,
     "user": {
      "displayName": "Valeria S RULLONI",
      "photoUrl": "https://lh3.googleusercontent.com/a/default-user=s64",
      "userId": "09936144167370803067"
     }
    }
   },
   "source": [
    "import io\n",
    "import pandas as pd\n",
    "\n",
    "pd.set_option('display.max_rows', 4)"
   ],
   "execution_count": 8,
   "outputs": []
  },
  {
   "cell_type": "markdown",
   "metadata": {
    "id": "2K03a1xA1Jfv"
   },
   "source": [
    "### Leyendo el archivo"
   ]
  },
  {
   "cell_type": "code",
   "metadata": {
    "id": "__ECd-9myy6k",
    "executionInfo": {
     "status": "ok",
     "timestamp": 1648246638187,
     "user_tz": 180,
     "elapsed": 858,
     "user": {
      "displayName": "Valeria S RULLONI",
      "photoUrl": "https://lh3.googleusercontent.com/a/default-user=s64",
      "userId": "09936144167370803067"
     }
    }
   },
   "source": [
    "df = pd.read_csv(\"2020_2_Encuesta_de_remuneracion_salarial_Argentina.csv\")\n"
   ],
   "execution_count": 10,
   "outputs": [
    {
     "ename": "ParserError",
     "evalue": "Error tokenizing data. C error: Expected 1 fields in line 107, saw 48\n",
     "output_type": "error",
     "traceback": [
      "\u001B[1;31m---------------------------------------------------------------------------\u001B[0m",
      "\u001B[1;31mParserError\u001B[0m                               Traceback (most recent call last)",
      "\u001B[1;32mC:\\Users\\Public\\Documents\\Wondershare\\CreatorTemp/ipykernel_11600/487935691.py\u001B[0m in \u001B[0;36m<module>\u001B[1;34m\u001B[0m\n\u001B[1;32m----> 1\u001B[1;33m \u001B[0mdf\u001B[0m \u001B[1;33m=\u001B[0m \u001B[0mpd\u001B[0m\u001B[1;33m.\u001B[0m\u001B[0mread_csv\u001B[0m\u001B[1;33m(\u001B[0m\u001B[1;34m\"2020_2_Encuesta_de_remuneracion_salarial_Argentina.csv\"\u001B[0m\u001B[1;33m)\u001B[0m\u001B[1;33m\u001B[0m\u001B[1;33m\u001B[0m\u001B[0m\n\u001B[0m\u001B[0;32m      2\u001B[0m \u001B[1;33m\u001B[0m\u001B[0m\n",
      "\u001B[1;32m~\\anaconda3\\lib\\site-packages\\pandas\\util\\_decorators.py\u001B[0m in \u001B[0;36mwrapper\u001B[1;34m(*args, **kwargs)\u001B[0m\n\u001B[0;32m    309\u001B[0m                     \u001B[0mstacklevel\u001B[0m\u001B[1;33m=\u001B[0m\u001B[0mstacklevel\u001B[0m\u001B[1;33m,\u001B[0m\u001B[1;33m\u001B[0m\u001B[1;33m\u001B[0m\u001B[0m\n\u001B[0;32m    310\u001B[0m                 )\n\u001B[1;32m--> 311\u001B[1;33m             \u001B[1;32mreturn\u001B[0m \u001B[0mfunc\u001B[0m\u001B[1;33m(\u001B[0m\u001B[1;33m*\u001B[0m\u001B[0margs\u001B[0m\u001B[1;33m,\u001B[0m \u001B[1;33m**\u001B[0m\u001B[0mkwargs\u001B[0m\u001B[1;33m)\u001B[0m\u001B[1;33m\u001B[0m\u001B[1;33m\u001B[0m\u001B[0m\n\u001B[0m\u001B[0;32m    312\u001B[0m \u001B[1;33m\u001B[0m\u001B[0m\n\u001B[0;32m    313\u001B[0m         \u001B[1;32mreturn\u001B[0m \u001B[0mwrapper\u001B[0m\u001B[1;33m\u001B[0m\u001B[1;33m\u001B[0m\u001B[0m\n",
      "\u001B[1;32m~\\anaconda3\\lib\\site-packages\\pandas\\io\\parsers\\readers.py\u001B[0m in \u001B[0;36mread_csv\u001B[1;34m(filepath_or_buffer, sep, delimiter, header, names, index_col, usecols, squeeze, prefix, mangle_dupe_cols, dtype, engine, converters, true_values, false_values, skipinitialspace, skiprows, skipfooter, nrows, na_values, keep_default_na, na_filter, verbose, skip_blank_lines, parse_dates, infer_datetime_format, keep_date_col, date_parser, dayfirst, cache_dates, iterator, chunksize, compression, thousands, decimal, lineterminator, quotechar, quoting, doublequote, escapechar, comment, encoding, encoding_errors, dialect, error_bad_lines, warn_bad_lines, on_bad_lines, delim_whitespace, low_memory, memory_map, float_precision, storage_options)\u001B[0m\n\u001B[0;32m    584\u001B[0m     \u001B[0mkwds\u001B[0m\u001B[1;33m.\u001B[0m\u001B[0mupdate\u001B[0m\u001B[1;33m(\u001B[0m\u001B[0mkwds_defaults\u001B[0m\u001B[1;33m)\u001B[0m\u001B[1;33m\u001B[0m\u001B[1;33m\u001B[0m\u001B[0m\n\u001B[0;32m    585\u001B[0m \u001B[1;33m\u001B[0m\u001B[0m\n\u001B[1;32m--> 586\u001B[1;33m     \u001B[1;32mreturn\u001B[0m \u001B[0m_read\u001B[0m\u001B[1;33m(\u001B[0m\u001B[0mfilepath_or_buffer\u001B[0m\u001B[1;33m,\u001B[0m \u001B[0mkwds\u001B[0m\u001B[1;33m)\u001B[0m\u001B[1;33m\u001B[0m\u001B[1;33m\u001B[0m\u001B[0m\n\u001B[0m\u001B[0;32m    587\u001B[0m \u001B[1;33m\u001B[0m\u001B[0m\n\u001B[0;32m    588\u001B[0m \u001B[1;33m\u001B[0m\u001B[0m\n",
      "\u001B[1;32m~\\anaconda3\\lib\\site-packages\\pandas\\io\\parsers\\readers.py\u001B[0m in \u001B[0;36m_read\u001B[1;34m(filepath_or_buffer, kwds)\u001B[0m\n\u001B[0;32m    486\u001B[0m \u001B[1;33m\u001B[0m\u001B[0m\n\u001B[0;32m    487\u001B[0m     \u001B[1;32mwith\u001B[0m \u001B[0mparser\u001B[0m\u001B[1;33m:\u001B[0m\u001B[1;33m\u001B[0m\u001B[1;33m\u001B[0m\u001B[0m\n\u001B[1;32m--> 488\u001B[1;33m         \u001B[1;32mreturn\u001B[0m \u001B[0mparser\u001B[0m\u001B[1;33m.\u001B[0m\u001B[0mread\u001B[0m\u001B[1;33m(\u001B[0m\u001B[0mnrows\u001B[0m\u001B[1;33m)\u001B[0m\u001B[1;33m\u001B[0m\u001B[1;33m\u001B[0m\u001B[0m\n\u001B[0m\u001B[0;32m    489\u001B[0m \u001B[1;33m\u001B[0m\u001B[0m\n\u001B[0;32m    490\u001B[0m \u001B[1;33m\u001B[0m\u001B[0m\n",
      "\u001B[1;32m~\\anaconda3\\lib\\site-packages\\pandas\\io\\parsers\\readers.py\u001B[0m in \u001B[0;36mread\u001B[1;34m(self, nrows)\u001B[0m\n\u001B[0;32m   1045\u001B[0m     \u001B[1;32mdef\u001B[0m \u001B[0mread\u001B[0m\u001B[1;33m(\u001B[0m\u001B[0mself\u001B[0m\u001B[1;33m,\u001B[0m \u001B[0mnrows\u001B[0m\u001B[1;33m=\u001B[0m\u001B[1;32mNone\u001B[0m\u001B[1;33m)\u001B[0m\u001B[1;33m:\u001B[0m\u001B[1;33m\u001B[0m\u001B[1;33m\u001B[0m\u001B[0m\n\u001B[0;32m   1046\u001B[0m         \u001B[0mnrows\u001B[0m \u001B[1;33m=\u001B[0m \u001B[0mvalidate_integer\u001B[0m\u001B[1;33m(\u001B[0m\u001B[1;34m\"nrows\"\u001B[0m\u001B[1;33m,\u001B[0m \u001B[0mnrows\u001B[0m\u001B[1;33m)\u001B[0m\u001B[1;33m\u001B[0m\u001B[1;33m\u001B[0m\u001B[0m\n\u001B[1;32m-> 1047\u001B[1;33m         \u001B[0mindex\u001B[0m\u001B[1;33m,\u001B[0m \u001B[0mcolumns\u001B[0m\u001B[1;33m,\u001B[0m \u001B[0mcol_dict\u001B[0m \u001B[1;33m=\u001B[0m \u001B[0mself\u001B[0m\u001B[1;33m.\u001B[0m\u001B[0m_engine\u001B[0m\u001B[1;33m.\u001B[0m\u001B[0mread\u001B[0m\u001B[1;33m(\u001B[0m\u001B[0mnrows\u001B[0m\u001B[1;33m)\u001B[0m\u001B[1;33m\u001B[0m\u001B[1;33m\u001B[0m\u001B[0m\n\u001B[0m\u001B[0;32m   1048\u001B[0m \u001B[1;33m\u001B[0m\u001B[0m\n\u001B[0;32m   1049\u001B[0m         \u001B[1;32mif\u001B[0m \u001B[0mindex\u001B[0m \u001B[1;32mis\u001B[0m \u001B[1;32mNone\u001B[0m\u001B[1;33m:\u001B[0m\u001B[1;33m\u001B[0m\u001B[1;33m\u001B[0m\u001B[0m\n",
      "\u001B[1;32m~\\anaconda3\\lib\\site-packages\\pandas\\io\\parsers\\c_parser_wrapper.py\u001B[0m in \u001B[0;36mread\u001B[1;34m(self, nrows)\u001B[0m\n\u001B[0;32m    221\u001B[0m         \u001B[1;32mtry\u001B[0m\u001B[1;33m:\u001B[0m\u001B[1;33m\u001B[0m\u001B[1;33m\u001B[0m\u001B[0m\n\u001B[0;32m    222\u001B[0m             \u001B[1;32mif\u001B[0m \u001B[0mself\u001B[0m\u001B[1;33m.\u001B[0m\u001B[0mlow_memory\u001B[0m\u001B[1;33m:\u001B[0m\u001B[1;33m\u001B[0m\u001B[1;33m\u001B[0m\u001B[0m\n\u001B[1;32m--> 223\u001B[1;33m                 \u001B[0mchunks\u001B[0m \u001B[1;33m=\u001B[0m \u001B[0mself\u001B[0m\u001B[1;33m.\u001B[0m\u001B[0m_reader\u001B[0m\u001B[1;33m.\u001B[0m\u001B[0mread_low_memory\u001B[0m\u001B[1;33m(\u001B[0m\u001B[0mnrows\u001B[0m\u001B[1;33m)\u001B[0m\u001B[1;33m\u001B[0m\u001B[1;33m\u001B[0m\u001B[0m\n\u001B[0m\u001B[0;32m    224\u001B[0m                 \u001B[1;31m# destructive to chunks\u001B[0m\u001B[1;33m\u001B[0m\u001B[1;33m\u001B[0m\u001B[0m\n\u001B[0;32m    225\u001B[0m                 \u001B[0mdata\u001B[0m \u001B[1;33m=\u001B[0m \u001B[0m_concatenate_chunks\u001B[0m\u001B[1;33m(\u001B[0m\u001B[0mchunks\u001B[0m\u001B[1;33m)\u001B[0m\u001B[1;33m\u001B[0m\u001B[1;33m\u001B[0m\u001B[0m\n",
      "\u001B[1;32m~\\anaconda3\\lib\\site-packages\\pandas\\_libs\\parsers.pyx\u001B[0m in \u001B[0;36mpandas._libs.parsers.TextReader.read_low_memory\u001B[1;34m()\u001B[0m\n",
      "\u001B[1;32m~\\anaconda3\\lib\\site-packages\\pandas\\_libs\\parsers.pyx\u001B[0m in \u001B[0;36mpandas._libs.parsers.TextReader._read_rows\u001B[1;34m()\u001B[0m\n",
      "\u001B[1;32m~\\anaconda3\\lib\\site-packages\\pandas\\_libs\\parsers.pyx\u001B[0m in \u001B[0;36mpandas._libs.parsers.TextReader._tokenize_rows\u001B[1;34m()\u001B[0m\n",
      "\u001B[1;32m~\\anaconda3\\lib\\site-packages\\pandas\\_libs\\parsers.pyx\u001B[0m in \u001B[0;36mpandas._libs.parsers.raise_parser_error\u001B[1;34m()\u001B[0m\n",
      "\u001B[1;31mParserError\u001B[0m: Error tokenizing data. C error: Expected 1 fields in line 107, saw 48\n"
     ]
    }
   ]
  },
  {
   "cell_type": "markdown",
   "metadata": {
    "id": "vo0-WxeI16h3"
   },
   "source": [
    "Con esta operación, hemos creado un DataFrame de pandas en base al archivo de respuestas. Un DataFrame no es más que una tabla sobre la cual podemos aplicar un montón de operaciones similares a las de Excel o a las SQL. En esta notebook no pretendemos hacer un tutorial de pandas, el Internet está lleno de ellos, pero sí iremos explicando cómo implementar determinadas operaciones necesarias para el análisis de este conjunto de datos.\n",
    "\n",
    "Veamos qué valoir tiene la variable `df`."
   ]
  },
  {
   "cell_type": "code",
   "metadata": {
    "colab": {
     "base_uri": "https://localhost:8080/",
     "height": 629
    },
    "id": "V5k7IUmG0ptW",
    "executionInfo": {
     "status": "ok",
     "timestamp": 1648246676520,
     "user_tz": 180,
     "elapsed": 655,
     "user": {
      "displayName": "Valeria S RULLONI",
      "photoUrl": "https://lh3.googleusercontent.com/a/default-user=s64",
      "userId": "09936144167370803067"
     }
    },
    "outputId": "4e6ccdc9-e7ac-45f5-e6b2-b77c3cee7cff"
   },
   "source": [
    "df[:10]"
   ],
   "execution_count": 4,
   "outputs": [
    {
     "ename": "NameError",
     "evalue": "name 'df' is not defined",
     "output_type": "error",
     "traceback": [
      "\u001B[1;31m---------------------------------------------------------------------------\u001B[0m",
      "\u001B[1;31mNameError\u001B[0m                                 Traceback (most recent call last)",
      "\u001B[1;32mC:\\Users\\Public\\Documents\\Wondershare\\CreatorTemp/ipykernel_11600/2126985190.py\u001B[0m in \u001B[0;36m<module>\u001B[1;34m\u001B[0m\n\u001B[1;32m----> 1\u001B[1;33m \u001B[0mdf\u001B[0m\u001B[1;33m[\u001B[0m\u001B[1;33m:\u001B[0m\u001B[1;36m10\u001B[0m\u001B[1;33m]\u001B[0m\u001B[1;33m\u001B[0m\u001B[1;33m\u001B[0m\u001B[0m\n\u001B[0m",
      "\u001B[1;31mNameError\u001B[0m: name 'df' is not defined"
     ]
    }
   ]
  },
  {
   "cell_type": "markdown",
   "metadata": {
    "id": "LE_XEAA02Fro"
   },
   "source": [
    "## Selección de filas\n",
    "\n",
    "¡No es lo que esperamos! Si vemos el conjunto de datos, efectivamente tiene celdas en blanco en la parte superior, y el nombre de las columnas aparece en la fila 9. Con Pandas podemos manejar estas situaciones pasando argumentos específicos a la función `pd.read_csv`"
   ]
  },
  {
   "cell_type": "code",
   "metadata": {
    "id": "qlUQleaS2cYL",
    "executionInfo": {
     "status": "ok",
     "timestamp": 1648246720878,
     "user_tz": 180,
     "elapsed": 270,
     "user": {
      "displayName": "Valeria S RULLONI",
      "photoUrl": "https://lh3.googleusercontent.com/a/default-user=s64",
      "userId": "09936144167370803067"
     }
    }
   },
   "source": [
    "df_fixed = pd.read_csv(\n",
    "    \"2022.1 - sysarmy - Encuesta de remuneración salarial Argentina - Argentina.csv\",\n",
    "    skiprows=range(9), header=1)"
   ],
   "execution_count": 11,
   "outputs": []
  },
  {
   "cell_type": "code",
   "metadata": {
    "colab": {
     "base_uri": "https://localhost:8080/",
     "height": 601
    },
    "id": "mxS1Zwnn3uC4",
    "executionInfo": {
     "status": "ok",
     "timestamp": 1648246732482,
     "user_tz": 180,
     "elapsed": 353,
     "user": {
      "displayName": "Valeria S RULLONI",
      "photoUrl": "https://lh3.googleusercontent.com/a/default-user=s64",
      "userId": "09936144167370803067"
     }
    },
    "outputId": "5b4eca1a-7ce3-4d82-fe99-f6b08a166ee1"
   },
   "source": [
    "df_fixed[:3]"
   ],
   "execution_count": 12,
   "outputs": [
    {
     "data": {
      "text/plain": "  Dónde estás trabajando                                   Tipo de contrato  \\\n0              Catamarca  Tercerizado (trabajo a través de consultora o ...   \n1              Catamarca                                          Full-Time   \n2              Catamarca                                          Full-Time   \n\n  Salario mensual o retiro BRUTO (en tu moneda local)  \\\n0                                             207000    \n1                                             130000    \n2                                             185000    \n\n   Salario mensual o retiro NETO (en tu moneda local)  \\\n0                                           150000.0    \n1                                            99000.0    \n2                                           145000.0    \n\n                                    Pagos en dólares  \\\n0                                                NaN   \n1                                                NaN   \n2  Mi sueldo está dolarizado (pero cobro en moned...   \n\n  ¿Cuál fue el último valor de dólar que tomaron?  \\\n0                                             NaN   \n1                                             NaN   \n2                                             100   \n\n   ¿Qué tan conforme estás con tu sueldo?  \\\n0                                       2   \n1                                       3   \n2                                       2   \n\n   Cómo creés que está tu sueldo con respecto al último semestre  \\\n0                                                  1               \n1                                                  4               \n2                                                  2               \n\n  Recibís algún tipo de bono    A qué está atado el bono  ...  \\\n0                         No              No recibo bono  ...   \n1                  Un sueldo  Performance de la compañía  ...   \n2      De uno a tres sueldos          Performance grupal  ...   \n\n  ¿Considerás que tenés oportunidades de crecimiento siendo quien sos dentro de tu organización?  \\\n0                                                NaN                                               \n1                                                NaN                                               \n2                                                NaN                                               \n\n   ¿Tenés algún tipo de discapacidad?  \\\n0                                 NaN   \n1                                 NaN   \n2                                 NaN   \n\n   ¿Sentís que alguna vez los prejuicios culturales/sociales sobre tu orientación, género, etnia o discapacidad pudieron obstaculizar el que consigas un trabajo?  \\\n0                                                NaN                                                                                                                \n1                                                NaN                                                                                                                \n2                                                NaN                                                                                                                \n\n  En el último año, en tu trabajo ¿recibiste o escuchaste comentarios que considerás inapropiados, subidos de tono y/o discriminatorios?  \\\n0                                                NaN                                                                                       \n1                                                NaN                                                                                       \n2                                                NaN                                                                                       \n\n   ¿Salir o seguir contestando?.3  \\\n0                             NaN   \n1                             NaN   \n2                             NaN   \n\n   ¿Cuántas veces a la semana vas a trabajar a la oficina?  \\\n0                                                NaN         \n1                                                NaN         \n2                                                NaN         \n\n   ¿Qué tanto sentís que te está apoyando tu empresa/organización durante la pandemia?  \\\n0                                                NaN                                     \n1                                                NaN                                     \n2                                                NaN                                     \n\n   ¿Instauraron algún beneficio nuevo? Tengo (edad) Me identifico (género)  \n0                                  NaN           34              Varón Cis  \n1                                  NaN           35              Varón Cis  \n2                                  NaN           26            Varón Trans  \n\n[3 rows x 56 columns]",
      "text/html": "<div>\n<style scoped>\n    .dataframe tbody tr th:only-of-type {\n        vertical-align: middle;\n    }\n\n    .dataframe tbody tr th {\n        vertical-align: top;\n    }\n\n    .dataframe thead th {\n        text-align: right;\n    }\n</style>\n<table border=\"1\" class=\"dataframe\">\n  <thead>\n    <tr style=\"text-align: right;\">\n      <th></th>\n      <th>Dónde estás trabajando</th>\n      <th>Tipo de contrato</th>\n      <th>Salario mensual o retiro BRUTO (en tu moneda local)</th>\n      <th>Salario mensual o retiro NETO (en tu moneda local)</th>\n      <th>Pagos en dólares</th>\n      <th>¿Cuál fue el último valor de dólar que tomaron?</th>\n      <th>¿Qué tan conforme estás con tu sueldo?</th>\n      <th>Cómo creés que está tu sueldo con respecto al último semestre</th>\n      <th>Recibís algún tipo de bono</th>\n      <th>A qué está atado el bono</th>\n      <th>...</th>\n      <th>¿Considerás que tenés oportunidades de crecimiento siendo quien sos dentro de tu organización?</th>\n      <th>¿Tenés algún tipo de discapacidad?</th>\n      <th>¿Sentís que alguna vez los prejuicios culturales/sociales sobre tu orientación, género, etnia o discapacidad pudieron obstaculizar el que consigas un trabajo?</th>\n      <th>En el último año, en tu trabajo ¿recibiste o escuchaste comentarios que considerás inapropiados, subidos de tono y/o discriminatorios?</th>\n      <th>¿Salir o seguir contestando?.3</th>\n      <th>¿Cuántas veces a la semana vas a trabajar a la oficina?</th>\n      <th>¿Qué tanto sentís que te está apoyando tu empresa/organización durante la pandemia?</th>\n      <th>¿Instauraron algún beneficio nuevo?</th>\n      <th>Tengo (edad)</th>\n      <th>Me identifico (género)</th>\n    </tr>\n  </thead>\n  <tbody>\n    <tr>\n      <th>0</th>\n      <td>Catamarca</td>\n      <td>Tercerizado (trabajo a través de consultora o ...</td>\n      <td>207000</td>\n      <td>150000.0</td>\n      <td>NaN</td>\n      <td>NaN</td>\n      <td>2</td>\n      <td>1</td>\n      <td>No</td>\n      <td>No recibo bono</td>\n      <td>...</td>\n      <td>NaN</td>\n      <td>NaN</td>\n      <td>NaN</td>\n      <td>NaN</td>\n      <td>NaN</td>\n      <td>NaN</td>\n      <td>NaN</td>\n      <td>NaN</td>\n      <td>34</td>\n      <td>Varón Cis</td>\n    </tr>\n    <tr>\n      <th>1</th>\n      <td>Catamarca</td>\n      <td>Full-Time</td>\n      <td>130000</td>\n      <td>99000.0</td>\n      <td>NaN</td>\n      <td>NaN</td>\n      <td>3</td>\n      <td>4</td>\n      <td>Un sueldo</td>\n      <td>Performance de la compañía</td>\n      <td>...</td>\n      <td>NaN</td>\n      <td>NaN</td>\n      <td>NaN</td>\n      <td>NaN</td>\n      <td>NaN</td>\n      <td>NaN</td>\n      <td>NaN</td>\n      <td>NaN</td>\n      <td>35</td>\n      <td>Varón Cis</td>\n    </tr>\n    <tr>\n      <th>2</th>\n      <td>Catamarca</td>\n      <td>Full-Time</td>\n      <td>185000</td>\n      <td>145000.0</td>\n      <td>Mi sueldo está dolarizado (pero cobro en moned...</td>\n      <td>100</td>\n      <td>2</td>\n      <td>2</td>\n      <td>De uno a tres sueldos</td>\n      <td>Performance grupal</td>\n      <td>...</td>\n      <td>NaN</td>\n      <td>NaN</td>\n      <td>NaN</td>\n      <td>NaN</td>\n      <td>NaN</td>\n      <td>NaN</td>\n      <td>NaN</td>\n      <td>NaN</td>\n      <td>26</td>\n      <td>Varón Trans</td>\n    </tr>\n  </tbody>\n</table>\n<p>3 rows × 56 columns</p>\n</div>"
     },
     "execution_count": 12,
     "metadata": {},
     "output_type": "execute_result"
    }
   ]
  },
  {
   "cell_type": "markdown",
   "metadata": {
    "id": "7hPqJAun2h5A"
   },
   "source": [
    "## Renombrar columnas"
   ]
  },
  {
   "cell_type": "markdown",
   "metadata": {
    "id": "sO9wLpYI0l64"
   },
   "source": [
    "Para trabajar más cómodamente, renombraremos las columnas de DataFrame. Tengan cuidado de que el orden de los nombres nuevos se corresponda con el contenido de cada columna.\n"
   ]
  },
  {
   "cell_type": "code",
   "metadata": {
    "colab": {
     "base_uri": "https://localhost:8080/"
    },
    "id": "K_G1sEljywQ3",
    "executionInfo": {
     "status": "ok",
     "timestamp": 1648246782998,
     "user_tz": 180,
     "elapsed": 327,
     "user": {
      "displayName": "Valeria S RULLONI",
      "photoUrl": "https://lh3.googleusercontent.com/a/default-user=s64",
      "userId": "09936144167370803067"
     }
    },
    "outputId": "64cd19e1-8f0f-42e4-f268-255653e5b630"
   },
   "source": [
    "df_fixed.columns"
   ],
   "execution_count": 13,
   "outputs": [
    {
     "data": {
      "text/plain": "Index(['Dónde estás trabajando', 'Tipo de contrato',\n       'Salario mensual o retiro BRUTO (en tu moneda local)',\n       'Salario mensual o retiro NETO (en tu moneda local)',\n       'Pagos en dólares', '¿Cuál fue el último valor de dólar que tomaron?',\n       '¿Qué tan conforme estás con tu sueldo?',\n       'Cómo creés que está tu sueldo con respecto al último semestre',\n       'Recibís algún tipo de bono', 'A qué está atado el bono',\n       '¿Tuviste ajustes por inflación durante 2021?',\n       '¿De qué % fue el ajuste total?', '¿En qué mes fue el último ajuste?',\n       'Trabajo de', 'Años de experiencia', 'Años en la empresa actual',\n       'Años en el puesto actual', '¿Gente a cargo?', 'Plataformas',\n       'Lenguajes de programación o tecnologías.',\n       'Frameworks, herramientas y librerías', 'Bases de datos',\n       'QA / Testing', 'IDEs', 'Cantidad de personas en tu organización',\n       'Trabajo para una empresa que no tiene oficina en mi ciudad',\n       'Actividad principal',\n       '¿La recomendás como un buen lugar para trabajar?', 'Beneficios extra',\n       '¿Cuál es el compromiso que tiene tu empresa con la diversidad, la equidad y la inclusión?',\n       '¿Salir o seguir contestando?', 'Nivel de estudios alcanzado', 'Estado',\n       'Carrera', 'Universidad', 'Realizaste cursos de especialización',\n       '¿Contribuís a proyectos open source?', '¿Programás como hobbie?',\n       '¿Salir o seguir contestando?.1', '¿Tenés guardias?',\n       'Cuánto cobrás por guardia', '¿Porcentaje, bruto o neto?',\n       '¿Salir o seguir contestando?.2',\n       'Sufriste o presenciaste situaciones de violencia y/o acoso por motivo de',\n       '¿Considerás que en tu empresa/organización hay una marcada tendencia a escuchar más a los hombres?',\n       '¿Sentís que podés ser vos en tu trabajo?',\n       '¿Considerás que tenés oportunidades de crecimiento siendo quien sos dentro de tu organización?',\n       '¿Tenés algún tipo de discapacidad?',\n       '¿Sentís que alguna vez los prejuicios culturales/sociales sobre tu orientación, género, etnia o discapacidad pudieron obstaculizar el que consigas un trabajo?',\n       'En el último año, en tu trabajo ¿recibiste o escuchaste comentarios que considerás inapropiados, subidos de tono y/o discriminatorios?',\n       '¿Salir o seguir contestando?.3',\n       '¿Cuántas veces a la semana vas a trabajar a la oficina?',\n       '¿Qué tanto sentís que te está apoyando tu empresa/organización durante la pandemia?',\n       '¿Instauraron algún beneficio nuevo?', 'Tengo (edad)',\n       'Me identifico (género)'],\n      dtype='object')"
     },
     "execution_count": 13,
     "metadata": {},
     "output_type": "execute_result"
    }
   ]
  },
  {
   "cell_type": "code",
   "metadata": {
    "id": "mhhPGu3L6N75",
    "executionInfo": {
     "status": "ok",
     "timestamp": 1648246842904,
     "user_tz": 180,
     "elapsed": 512,
     "user": {
      "displayName": "Valeria S RULLONI",
      "photoUrl": "https://lh3.googleusercontent.com/a/default-user=s64",
      "userId": "09936144167370803067"
     }
    }
   },
   "source": [
    "new_columns = {\n",
    "    'profile': {\n",
    "      'Me identifico (género)': 'gender', 'Tengo (edad)': 'age', 'Años de experiencia': 'years_experience',\n",
    "      'Nivel de estudios alcanzado': 'studies_level',\n",
    "      'Estado': 'studies_level_state', 'Carrera': 'career', 'Universidad': 'university',\n",
    "      'Realizaste cursos de especialización': 'specialization_courses',\n",
    "      '¿Contribuís a proyectos open source?': 'open_source_contributions',\n",
    "      '¿Programás como hobbie?': 'programming_as_hobby',\n",
    "      'Orientación sexual': 'sexual_orientation',\n",
    "      '¿Tenés algún tipo de discapacidad?': 'has_disabilities',\n",
    "      '¿Sentís que alguna vez los prejuicios culturales/sociales sobre tu orientación, género, etnia o discapacidad pudieron obstaculizar el que consigas un trabajo?': 'has_disabilities_hiring_difficulties',\n",
    "  },\n",
    "  'work' : {\n",
    "      'Estoy trabajando en': 'country',\n",
    "      'Dónde estás trabajando': 'province', 'Años en la empresa actual': 'years_in_company',\n",
    "      'Años en el puesto actual': 'years_in_current_position', '¿Gente a cargo?': 'people_in_charge_of',\n",
    "      'Trabajo de': 'role', '¿Tenés guardias?': 'on_call_duty',\n",
    "      '¿Porcentaje, bruto o neto?': 'on_call_duty_charge_type', 'Tipo de contrato': 'contract_type',\n",
    "      'Sufriste o presenciaste situaciones de violencia y/o acoso por motivo de': 'has_violence_situations',\n",
    "      '¿Considerás que tenés oportunidades de crecimiento siendo quien sos dentro de tu organización?':'listen_more_men',\n",
    "      '¿Sentís que podés ser vos en tu trabajo?': 'yourself_in_your_work',\n",
    "      'En el último año, en tu trabajo ¿recibiste o escuchaste comentarios que considerás inapropiados, subidos de tono y/o discriminatorios?':'lastyear_discrimination',\n",
    "  },\n",
    "  'tools': {\n",
    "      'Plataformas': 'platform', 'Lenguajes de programación': 'programming_languages',\n",
    "      'Frameworks, herramientas y librerías': 'frameworks', 'Bases de datos': 'data_bases',\n",
    "      'QA / Testing': 'qa_testing', 'IDEs': 'IDEs',\n",
    "      '¿Qué SO usás en tu laptop/PC para trabajar?': 'work_pc_os', '¿Y en tu celular?': 'cellphone_os'\n",
    "  },\n",
    "  'salary': {\n",
    "      'Cuánto cobrás por guardia': 'on_call_duty_charge',\n",
    "      'Salario mensual o retiro BRUTO (en tu moneda local)': 'monthly_BRUTO',\n",
    "      'Salario mensual o retiro NETO (en tu moneda local)': 'monthly_NETO',\n",
    "      'Pagos en dólares': 'in_usd', '¿Cuál fue el último valor de dólar que tomaron?':'last_dollar_value','¿Qué tan conforme estás con tu sueldo?': 'satisfaction',\n",
    "      'Cómo creés que está tu sueldo con respecto al último semestre': 'comparison_last_semester',\n",
    "      'Recibís algún tipo de bono': 'has_bonus', 'A qué está atado el bono': 'bonus_tied_to',\n",
    "      '¿Tuviste ajustes por inflación durante 2021?': 'inflation_adjustment_2021',\n",
    "      '¿De qué % fue el ajuste total?': 'percentage_inflation_adjustment_2021',\n",
    "      '¿En qué mes fue el último ajuste?': 'month_last_inflation_adjustment',\n",
    "  },\n",
    "  'company' : {\n",
    "      'Cantidad de empleados': 'employee_number', 'Actividad principal': 'main_activity',\n",
    "      '¿La recomendás como un buen lugar para trabajar?': 'recommended',\n",
    "      '¿Cuál es el compromiso que tiene tu empresa con la diversidad, la equidad y la inclusión?': 'diversity_policies',\n",
    "      'Beneficios extra': 'extra_benefits', '¿Instauraron algún beneficio nuevo?': 'new_benefits',\n",
    "      '¿Qué tanto sentís que te está apoyando tu empresa/organización durante la pandemia?': 'pandemic_support',\n",
    "      '¿Cuántas veces a la semana vas a trabajar a la oficina?':'days_in_the_office',\n",
    "  }\n",
    "}\n"
   ],
   "execution_count": 14,
   "outputs": []
  },
  {
   "cell_type": "code",
   "metadata": {
    "id": "r0xlsKaBk0RL",
    "executionInfo": {
     "status": "ok",
     "timestamp": 1648246852380,
     "user_tz": 180,
     "elapsed": 406,
     "user": {
      "displayName": "Valeria S RULLONI",
      "photoUrl": "https://lh3.googleusercontent.com/a/default-user=s64",
      "userId": "09936144167370803067"
     }
    }
   },
   "source": [
    "def replace_columns(df, new_columns):\n",
    "  new_col_names = {\n",
    "    original_name: category + '_' + new_name\n",
    "    for category, cols in new_columns.items()\n",
    "    for original_name, new_name in cols.items()\n",
    "  }\n",
    "  return df.rename(columns=new_col_names)"
   ],
   "execution_count": 15,
   "outputs": []
  },
  {
   "cell_type": "code",
   "metadata": {
    "colab": {
     "base_uri": "https://localhost:8080/",
     "height": 292
    },
    "id": "Vviv_sqXdR5W",
    "executionInfo": {
     "status": "ok",
     "timestamp": 1648246858115,
     "user_tz": 180,
     "elapsed": 575,
     "user": {
      "displayName": "Valeria S RULLONI",
      "photoUrl": "https://lh3.googleusercontent.com/a/default-user=s64",
      "userId": "09936144167370803067"
     }
    },
    "outputId": "0393616c-a9e6-4baf-9972-937210be4a22"
   },
   "source": [
    "df_renamed = replace_columns(df_fixed, new_columns)\n",
    "df_renamed[:2]"
   ],
   "execution_count": 16,
   "outputs": [
    {
     "data": {
      "text/plain": "  work_province                                 work_contract_type  \\\n0     Catamarca  Tercerizado (trabajo a través de consultora o ...   \n1     Catamarca                                          Full-Time   \n\n  salary_monthly_BRUTO  salary_monthly_NETO salary_in_usd  \\\n0               207000             150000.0           NaN   \n1               130000              99000.0           NaN   \n\n  salary_last_dollar_value  salary_satisfaction  \\\n0                      NaN                    2   \n1                      NaN                    3   \n\n   salary_comparison_last_semester salary_has_bonus  \\\n0                                1               No   \n1                                4        Un sueldo   \n\n         salary_bonus_tied_to  ... work_listen_more_men  \\\n0              No recibo bono  ...                  NaN   \n1  Performance de la compañía  ...                  NaN   \n\n   profile_has_disabilities  profile_has_disabilities_hiring_difficulties  \\\n0                       NaN                                           NaN   \n1                       NaN                                           NaN   \n\n  work_lastyear_discrimination  ¿Salir o seguir contestando?.3  \\\n0                          NaN                             NaN   \n1                          NaN                             NaN   \n\n   company_days_in_the_office  company_pandemic_support  company_new_benefits  \\\n0                         NaN                       NaN                   NaN   \n1                         NaN                       NaN                   NaN   \n\n  profile_age profile_gender  \n0          34      Varón Cis  \n1          35      Varón Cis  \n\n[2 rows x 56 columns]",
      "text/html": "<div>\n<style scoped>\n    .dataframe tbody tr th:only-of-type {\n        vertical-align: middle;\n    }\n\n    .dataframe tbody tr th {\n        vertical-align: top;\n    }\n\n    .dataframe thead th {\n        text-align: right;\n    }\n</style>\n<table border=\"1\" class=\"dataframe\">\n  <thead>\n    <tr style=\"text-align: right;\">\n      <th></th>\n      <th>work_province</th>\n      <th>work_contract_type</th>\n      <th>salary_monthly_BRUTO</th>\n      <th>salary_monthly_NETO</th>\n      <th>salary_in_usd</th>\n      <th>salary_last_dollar_value</th>\n      <th>salary_satisfaction</th>\n      <th>salary_comparison_last_semester</th>\n      <th>salary_has_bonus</th>\n      <th>salary_bonus_tied_to</th>\n      <th>...</th>\n      <th>work_listen_more_men</th>\n      <th>profile_has_disabilities</th>\n      <th>profile_has_disabilities_hiring_difficulties</th>\n      <th>work_lastyear_discrimination</th>\n      <th>¿Salir o seguir contestando?.3</th>\n      <th>company_days_in_the_office</th>\n      <th>company_pandemic_support</th>\n      <th>company_new_benefits</th>\n      <th>profile_age</th>\n      <th>profile_gender</th>\n    </tr>\n  </thead>\n  <tbody>\n    <tr>\n      <th>0</th>\n      <td>Catamarca</td>\n      <td>Tercerizado (trabajo a través de consultora o ...</td>\n      <td>207000</td>\n      <td>150000.0</td>\n      <td>NaN</td>\n      <td>NaN</td>\n      <td>2</td>\n      <td>1</td>\n      <td>No</td>\n      <td>No recibo bono</td>\n      <td>...</td>\n      <td>NaN</td>\n      <td>NaN</td>\n      <td>NaN</td>\n      <td>NaN</td>\n      <td>NaN</td>\n      <td>NaN</td>\n      <td>NaN</td>\n      <td>NaN</td>\n      <td>34</td>\n      <td>Varón Cis</td>\n    </tr>\n    <tr>\n      <th>1</th>\n      <td>Catamarca</td>\n      <td>Full-Time</td>\n      <td>130000</td>\n      <td>99000.0</td>\n      <td>NaN</td>\n      <td>NaN</td>\n      <td>3</td>\n      <td>4</td>\n      <td>Un sueldo</td>\n      <td>Performance de la compañía</td>\n      <td>...</td>\n      <td>NaN</td>\n      <td>NaN</td>\n      <td>NaN</td>\n      <td>NaN</td>\n      <td>NaN</td>\n      <td>NaN</td>\n      <td>NaN</td>\n      <td>NaN</td>\n      <td>35</td>\n      <td>Varón Cis</td>\n    </tr>\n  </tbody>\n</table>\n<p>2 rows × 56 columns</p>\n</div>"
     },
     "execution_count": 16,
     "metadata": {},
     "output_type": "execute_result"
    }
   ]
  },
  {
   "cell_type": "code",
   "execution_count": null,
   "outputs": [],
   "source": [
    "### Leer archivo desde URL\n",
    "\n",
    "Para poder accederlos directamente a través de consultas HTTP (por ejemplo, desde un navegador).\n",
    "he preparado el conjunto de datos creando un archivo en mi repositorio de github."
   ],
   "metadata": {
    "collapsed": false
   }
  },
  {
   "cell_type": "code",
   "execution_count": 18,
   "outputs": [],
   "source": [
    "df_renamed.to_csv(\"survey_2022_processed.csv\", index=False)"
   ],
   "metadata": {
    "collapsed": false
   }
  },
  {
   "cell_type": "markdown",
   "source": [
    "Pandas permite leer archivos `.csv` desde una URL, sin necesidad de descargarlos en el sistema de archivos local. La siguiente celda funcionará tanto en Colaboratory como en Jupyter, y será el método por defecto de acceder a los datos en las notebooks siguientes."
   ],
   "metadata": {
    "collapsed": false
   }
  },
  {
   "cell_type": "code",
   "metadata": {
    "id": "UR_7-Sm_r3Oa",
    "executionInfo": {
     "status": "ok",
     "timestamp": 1648247160208,
     "user_tz": 180,
     "elapsed": 2206,
     "user": {
      "displayName": "Valeria S RULLONI",
      "photoUrl": "https://lh3.googleusercontent.com/a/default-user=s64",
      "userId": "09936144167370803067"
     }
    }
   },
   "source": [
    "url = 'https://raw.githubusercontent.com/joseramoniglesias/EL460_Ciencia_de_datos_2/main/Ejercicios/2020_2_Encuesta_de_remuneracion_salarial_Argentina.csv'\n",
    "df2 = pd.read_csv(url)"
   ],
   "execution_count": 29,
   "outputs": []
  },
  {
   "cell_type": "code",
   "metadata": {
    "id": "gckNHXXLktJ4",
    "colab": {
     "base_uri": "https://localhost:8080/",
     "height": 324
    },
    "executionInfo": {
     "status": "ok",
     "timestamp": 1647967417831,
     "user_tz": 180,
     "elapsed": 7,
     "user": {
      "displayName": "Laura Minuet",
      "photoUrl": "https://lh3.googleusercontent.com/a-/AOh14GgjD6WGbjVH_VdmTUE0ZhzXry5ziOkFBKoc6YOafE0=s64",
      "userId": "00787725849952937741"
     }
    },
    "outputId": "e3e53c60-eac0-4b15-b362-a20a24f397e8"
   },
   "source": [
    "df2[:3]"
   ],
   "execution_count": 30,
   "outputs": [
    {
     "data": {
      "text/plain": "  Para analizar los resultados podés hacer una copia (Archivo > Crear una copia) o bajar el .csv (Archivo > Descargar como)  \\\n0                                                NaN                                                                          \n1  Recordá calificar a la empresa donde estás tra...                                                                          \n2                                                NaN                                                                          \n\n  Unnamed: 1 Unnamed: 2 Unnamed: 3 Unnamed: 4 Unnamed: 5 Unnamed: 6  \\\n0        NaN        NaN        NaN        NaN        NaN        NaN   \n1        NaN        NaN        NaN        NaN        NaN        NaN   \n2        NaN        NaN        NaN        NaN        NaN        NaN   \n\n  Unnamed: 7 Unnamed: 8 Unnamed: 9  ... Unnamed: 38 Unnamed: 39 Unnamed: 40  \\\n0        NaN        NaN        NaN  ...         NaN         NaN         NaN   \n1        NaN        NaN        NaN  ...         NaN         NaN         NaN   \n2        NaN        NaN        NaN  ...         NaN         NaN         NaN   \n\n  Unnamed: 41 Unnamed: 42 Unnamed: 43 Unnamed: 44 Unnamed: 45 Unnamed: 46  \\\n0         NaN         NaN         NaN         NaN         NaN         NaN   \n1         NaN         NaN         NaN         NaN         NaN         NaN   \n2         NaN         NaN         NaN         NaN         NaN         NaN   \n\n  Unnamed: 47  \n0         NaN  \n1         NaN  \n2         NaN  \n\n[3 rows x 48 columns]",
      "text/html": "<div>\n<style scoped>\n    .dataframe tbody tr th:only-of-type {\n        vertical-align: middle;\n    }\n\n    .dataframe tbody tr th {\n        vertical-align: top;\n    }\n\n    .dataframe thead th {\n        text-align: right;\n    }\n</style>\n<table border=\"1\" class=\"dataframe\">\n  <thead>\n    <tr style=\"text-align: right;\">\n      <th></th>\n      <th>Para analizar los resultados podés hacer una copia (Archivo &gt; Crear una copia) o bajar el .csv (Archivo &gt; Descargar como)</th>\n      <th>Unnamed: 1</th>\n      <th>Unnamed: 2</th>\n      <th>Unnamed: 3</th>\n      <th>Unnamed: 4</th>\n      <th>Unnamed: 5</th>\n      <th>Unnamed: 6</th>\n      <th>Unnamed: 7</th>\n      <th>Unnamed: 8</th>\n      <th>Unnamed: 9</th>\n      <th>...</th>\n      <th>Unnamed: 38</th>\n      <th>Unnamed: 39</th>\n      <th>Unnamed: 40</th>\n      <th>Unnamed: 41</th>\n      <th>Unnamed: 42</th>\n      <th>Unnamed: 43</th>\n      <th>Unnamed: 44</th>\n      <th>Unnamed: 45</th>\n      <th>Unnamed: 46</th>\n      <th>Unnamed: 47</th>\n    </tr>\n  </thead>\n  <tbody>\n    <tr>\n      <th>0</th>\n      <td>NaN</td>\n      <td>NaN</td>\n      <td>NaN</td>\n      <td>NaN</td>\n      <td>NaN</td>\n      <td>NaN</td>\n      <td>NaN</td>\n      <td>NaN</td>\n      <td>NaN</td>\n      <td>NaN</td>\n      <td>...</td>\n      <td>NaN</td>\n      <td>NaN</td>\n      <td>NaN</td>\n      <td>NaN</td>\n      <td>NaN</td>\n      <td>NaN</td>\n      <td>NaN</td>\n      <td>NaN</td>\n      <td>NaN</td>\n      <td>NaN</td>\n    </tr>\n    <tr>\n      <th>1</th>\n      <td>Recordá calificar a la empresa donde estás tra...</td>\n      <td>NaN</td>\n      <td>NaN</td>\n      <td>NaN</td>\n      <td>NaN</td>\n      <td>NaN</td>\n      <td>NaN</td>\n      <td>NaN</td>\n      <td>NaN</td>\n      <td>NaN</td>\n      <td>...</td>\n      <td>NaN</td>\n      <td>NaN</td>\n      <td>NaN</td>\n      <td>NaN</td>\n      <td>NaN</td>\n      <td>NaN</td>\n      <td>NaN</td>\n      <td>NaN</td>\n      <td>NaN</td>\n      <td>NaN</td>\n    </tr>\n    <tr>\n      <th>2</th>\n      <td>NaN</td>\n      <td>NaN</td>\n      <td>NaN</td>\n      <td>NaN</td>\n      <td>NaN</td>\n      <td>NaN</td>\n      <td>NaN</td>\n      <td>NaN</td>\n      <td>NaN</td>\n      <td>NaN</td>\n      <td>...</td>\n      <td>NaN</td>\n      <td>NaN</td>\n      <td>NaN</td>\n      <td>NaN</td>\n      <td>NaN</td>\n      <td>NaN</td>\n      <td>NaN</td>\n      <td>NaN</td>\n      <td>NaN</td>\n      <td>NaN</td>\n    </tr>\n  </tbody>\n</table>\n<p>3 rows × 48 columns</p>\n</div>"
     },
     "execution_count": 30,
     "metadata": {},
     "output_type": "execute_result"
    }
   ]
  },
  {
   "cell_type": "code",
   "metadata": {
    "id": "gWNM-P_y7PbR"
   },
   "source": [],
   "execution_count": null,
   "outputs": []
  }
 ]
}
