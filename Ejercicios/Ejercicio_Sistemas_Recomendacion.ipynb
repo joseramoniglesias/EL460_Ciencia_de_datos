{
 "cells": [
  {
   "cell_type": "markdown",
   "metadata": {},
   "source": [
    "# Recommendation Engine / System\n",
    "## Proyecto: Recomendador de Repositorios de Github\n",
    "### Usaremos Collaborative Filtering\n"
   ]
  },
  {
   "cell_type": "code",
   "execution_count": null,
   "metadata": {
    "ExecuteTime": {
     "end_time": "2019-08-24T11:17:20.006503Z",
     "start_time": "2019-08-24T11:17:09.176829Z"
    }
   },
   "outputs": [],
   "source": [
    "import pandas as pd\n",
    "import numpy as np\n",
    "from sklearn.metrics import mean_squared_error\n",
    "from sklearn.model_selection import train_test_split\n",
    "from sklearn.neighbors import NearestNeighbors\n",
    "import matplotlib.pyplot as plt\n",
    "import sklearn"
   ]
  },
  {
   "cell_type": "code",
   "execution_count": null,
   "metadata": {
    "ExecuteTime": {
     "end_time": "2019-08-24T11:17:20.022820Z",
     "start_time": "2019-08-24T11:17:20.009253Z"
    }
   },
   "outputs": [],
   "source": [
    "df_users = pd.read_csv(\"users.csv\")\n",
    "df_repos = pd.read_csv(\"repos.csv\")\n",
    "df_ratings = pd.read_csv(\"ratings.csv\")"
   ]
  },
  {
   "cell_type": "code",
   "execution_count": null,
   "metadata": {
    "ExecuteTime": {
     "end_time": "2019-08-24T11:17:20.039228Z",
     "start_time": "2019-08-24T11:17:20.026564Z"
    }
   },
   "outputs": [],
   "source": [
    "df_users.head()"
   ]
  },
  {
   "cell_type": "code",
   "execution_count": null,
   "metadata": {
    "ExecuteTime": {
     "end_time": "2019-08-24T11:17:20.051589Z",
     "start_time": "2019-08-24T11:17:20.041546Z"
    }
   },
   "outputs": [],
   "source": [
    "df_repos.head()"
   ]
  },
  {
   "cell_type": "code",
   "execution_count": null,
   "metadata": {
    "ExecuteTime": {
     "end_time": "2019-08-24T11:17:20.063652Z",
     "start_time": "2019-08-24T11:17:20.054058Z"
    }
   },
   "outputs": [],
   "source": [
    "df_ratings.head()"
   ]
  },
  {
   "cell_type": "code",
   "execution_count": null,
   "metadata": {
    "ExecuteTime": {
     "end_time": "2019-08-24T11:17:20.071557Z",
     "start_time": "2019-08-24T11:17:20.065997Z"
    }
   },
   "outputs": [],
   "source": [
    "n_users = df_ratings.userId.unique().shape[0]\n",
    "n_items = df_ratings.repoId.unique().shape[0]\n",
    "print (str(n_users) + ' users')\n",
    "print (str(n_items) + ' items')"
   ]
  },
  {
   "cell_type": "code",
   "execution_count": null,
   "metadata": {
    "ExecuteTime": {
     "end_time": "2019-08-24T11:17:20.297814Z",
     "start_time": "2019-08-24T11:17:20.074222Z"
    }
   },
   "outputs": [],
   "source": [
    "plt.hist(df_ratings.rating,bins=8)"
   ]
  },
  {
   "cell_type": "code",
   "execution_count": null,
   "metadata": {
    "ExecuteTime": {
     "end_time": "2019-08-24T11:17:20.309486Z",
     "start_time": "2019-08-24T11:17:20.300762Z"
    },
    "scrolled": true
   },
   "outputs": [],
   "source": [
    "df_ratings.groupby([\"rating\"])[\"userId\"].count()"
   ]
  },
  {
   "cell_type": "code",
   "execution_count": null,
   "metadata": {
    "ExecuteTime": {
     "end_time": "2019-08-24T11:17:20.476113Z",
     "start_time": "2019-08-24T11:17:20.312575Z"
    },
    "scrolled": true
   },
   "outputs": [],
   "source": [
    "plt.hist(df_ratings.groupby([\"repoId\"])[\"repoId\"].count(),bins=8)"
   ]
  },
  {
   "cell_type": "markdown",
   "metadata": {},
   "source": [
    "# Método 1: User-Based"
   ]
  },
  {
   "cell_type": "code",
   "execution_count": null,
   "metadata": {
    "ExecuteTime": {
     "end_time": "2019-08-24T11:17:20.546851Z",
     "start_time": "2019-08-24T11:17:20.479056Z"
    }
   },
   "outputs": [],
   "source": [
    "df_matrix = pd.pivot_table(df_ratings, values='rating', index='userId', columns='repoId').fillna(0)\n",
    "df_matrix"
   ]
  },
  {
   "cell_type": "code",
   "execution_count": null,
   "metadata": {
    "ExecuteTime": {
     "end_time": "2019-08-24T11:17:20.556202Z",
     "start_time": "2019-08-24T11:17:20.549811Z"
    }
   },
   "outputs": [],
   "source": [
    "ratings = df_matrix.values\n",
    "sparsity = float(len(ratings.nonzero()[0]))\n",
    "sparsity /= (ratings.shape[0] * ratings.shape[1])\n",
    "sparsity *= 100\n",
    "print('Sparsity: {:4.2f}%'.format(sparsity))"
   ]
  },
  {
   "cell_type": "code",
   "execution_count": null,
   "metadata": {
    "ExecuteTime": {
     "end_time": "2019-08-24T11:17:20.563450Z",
     "start_time": "2019-08-24T11:17:20.559194Z"
    }
   },
   "outputs": [],
   "source": [
    "ratings_train, ratings_test = train_test_split(ratings, test_size = 0.2, shuffle=False, random_state=42)"
   ]
  },
  {
   "cell_type": "code",
   "execution_count": null,
   "metadata": {
    "ExecuteTime": {
     "end_time": "2019-08-24T11:17:20.572537Z",
     "start_time": "2019-08-24T11:17:20.566581Z"
    }
   },
   "outputs": [],
   "source": [
    "ratings_train.shape"
   ]
  },
  {
   "cell_type": "code",
   "execution_count": null,
   "metadata": {
    "ExecuteTime": {
     "end_time": "2019-08-24T11:17:20.581343Z",
     "start_time": "2019-08-24T11:17:20.575533Z"
    }
   },
   "outputs": [],
   "source": [
    "ratings_test.shape"
   ]
  },
  {
   "cell_type": "markdown",
   "metadata": {},
   "source": [
    "<ul>\n",
    "<li>Matriz de similitud entre los usuarios (distancia del coseno -vectores-).</li>\n",
    "<li>Predecir la valoración desconocida de un ítem i para un usuario activo u basandonos en la suma ponderada de todas las valoraciones del resto de usuarios para dicho ítem.</li>\n",
    "<li>Recomendaremos los nuevos ítems a los usuarios según lo establecido en los pasos anteriores.</li>\n",
    "</ul>"
   ]
  },
  {
   "cell_type": "code",
   "execution_count": null,
   "metadata": {
    "ExecuteTime": {
     "end_time": "2019-08-24T11:17:20.590966Z",
     "start_time": "2019-08-24T11:17:20.584226Z"
    }
   },
   "outputs": [],
   "source": [
    "sim_matrix = 1 - sklearn.metrics.pairwise.cosine_distances(ratings)"
   ]
  },
  {
   "cell_type": "code",
   "execution_count": null,
   "metadata": {
    "ExecuteTime": {
     "end_time": "2019-08-24T11:17:20.606259Z",
     "start_time": "2019-08-24T11:17:20.594409Z"
    }
   },
   "outputs": [],
   "source": [
    "sim_matrix.shape"
   ]
  },
  {
   "cell_type": "code",
   "execution_count": null,
   "metadata": {
    "ExecuteTime": {
     "end_time": "2019-08-24T11:17:20.619099Z",
     "start_time": "2019-08-24T11:17:20.610504Z"
    }
   },
   "outputs": [],
   "source": [
    "# sim_matrix"
   ]
  },
  {
   "cell_type": "code",
   "execution_count": null,
   "metadata": {
    "ExecuteTime": {
     "end_time": "2019-08-24T11:17:20.961669Z",
     "start_time": "2019-08-24T11:17:20.626832Z"
    }
   },
   "outputs": [],
   "source": [
    "plt.rcParams['figure.figsize'] = (20.0, 5.0)\n",
    "plt.imshow(sim_matrix);\n",
    "plt.colorbar()\n",
    "plt.show()"
   ]
  },
  {
   "cell_type": "code",
   "execution_count": null,
   "metadata": {
    "ExecuteTime": {
     "end_time": "2019-08-24T11:17:20.973503Z",
     "start_time": "2019-08-24T11:17:20.967091Z"
    }
   },
   "outputs": [],
   "source": [
    "#separar las filas y columnas de train y test\n",
    "sim_matrix_train = sim_matrix[0:24,0:24]\n",
    "sim_matrix_test = sim_matrix[24:30,24:30]\n",
    "print(sim_matrix_train.shape)\n",
    "print(sim_matrix_test.shape)"
   ]
  },
  {
   "cell_type": "markdown",
   "metadata": {},
   "source": [
    "## Predicciones (las recomendaciones!)"
   ]
  },
  {
   "cell_type": "code",
   "execution_count": null,
   "metadata": {
    "ExecuteTime": {
     "end_time": "2019-08-24T11:17:20.984488Z",
     "start_time": "2019-08-24T11:17:20.976334Z"
    }
   },
   "outputs": [],
   "source": [
    "users_predictions = sim_matrix_train.dot(ratings_train) / np.array([np.abs(sim_matrix_train).sum(axis=1)]).T"
   ]
  },
  {
   "cell_type": "code",
   "execution_count": null,
   "metadata": {
    "ExecuteTime": {
     "end_time": "2019-08-24T11:17:20.995708Z",
     "start_time": "2019-08-24T11:17:20.988423Z"
    }
   },
   "outputs": [],
   "source": [
    "users_predictions.shape"
   ]
  },
  {
   "cell_type": "code",
   "execution_count": null,
   "metadata": {
    "ExecuteTime": {
     "end_time": "2019-08-24T11:17:21.552006Z",
     "start_time": "2019-08-24T11:17:21.001562Z"
    }
   },
   "outputs": [],
   "source": [
    "plt.rcParams['figure.figsize'] = (20.0, 5.0)\n",
    "plt.imshow(users_predictions);\n",
    "plt.colorbar()\n",
    "plt.show()"
   ]
  },
  {
   "cell_type": "markdown",
   "metadata": {},
   "source": [
    "### Veamos un ejemplo"
   ]
  },
  {
   "cell_type": "code",
   "execution_count": null,
   "metadata": {
    "ExecuteTime": {
     "end_time": "2019-08-24T11:17:21.573447Z",
     "start_time": "2019-08-24T11:17:21.555761Z"
    }
   },
   "outputs": [],
   "source": [
    "USUARIO_EJEMPLO = 'jbagnato' # debe existir en nuestro dataset de train!\n",
    "data = df_users[df_users['username'] == USUARIO_EJEMPLO]\n",
    "usuario_ver = data.iloc[0]['userId'] -1 # resta 1 para obtener el index de pandas\n",
    "user0=users_predictions.argsort()[usuario_ver]\n",
    "\n",
    "# Veamos los tres recomendados con mayor puntaje en la predic para este usuario\n",
    "for i, aRepo in enumerate(user0[-3:]):\n",
    "    selRepo = df_repos[df_repos['repoId']==(aRepo+1)]\n",
    "    print(selRepo['title'] , 'puntaje:', users_predictions[usuario_ver][aRepo])"
   ]
  },
  {
   "cell_type": "markdown",
   "metadata": {},
   "source": [
    "## Medir el Error"
   ]
  },
  {
   "cell_type": "code",
   "execution_count": null,
   "metadata": {
    "ExecuteTime": {
     "end_time": "2019-08-24T11:17:21.586593Z",
     "start_time": "2019-08-24T11:17:21.576948Z"
    }
   },
   "outputs": [],
   "source": [
    "def get_mse(preds, actuals):\n",
    "    if preds.shape[1] != actuals.shape[1]:\n",
    "        actuals = actuals.T\n",
    "    preds = preds[actuals.nonzero()].flatten()\n",
    "    actuals = actuals[actuals.nonzero()].flatten()\n",
    "    return mean_squared_error(preds, actuals)\n"
   ]
  },
  {
   "cell_type": "code",
   "execution_count": null,
   "metadata": {
    "ExecuteTime": {
     "end_time": "2019-08-24T11:17:21.598997Z",
     "start_time": "2019-08-24T11:17:21.590908Z"
    }
   },
   "outputs": [],
   "source": [
    "get_mse(users_predictions, ratings_train)"
   ]
  },
  {
   "cell_type": "code",
   "execution_count": null,
   "metadata": {
    "ExecuteTime": {
     "end_time": "2019-08-24T11:17:21.617859Z",
     "start_time": "2019-08-24T11:17:21.602589Z"
    }
   },
   "outputs": [],
   "source": [
    "# Realizo las predicciones para el test set\n",
    "users_predictions_test = sim_matrix.dot(ratings) / np.array([np.abs(sim_matrix).sum(axis=1)]).T\n",
    "users_predictions_test = users_predictions_test[24:30,:]\n",
    "\n",
    "get_mse(users_predictions_test, ratings_test)"
   ]
  },
  {
   "cell_type": "markdown",
   "metadata": {},
   "source": [
    "# Método 2: Usando Nearest Neighbors"
   ]
  },
  {
   "cell_type": "code",
   "execution_count": null,
   "metadata": {
    "ExecuteTime": {
     "end_time": "2019-08-24T11:17:21.636356Z",
     "start_time": "2019-08-24T11:17:21.621408Z"
    }
   },
   "outputs": [],
   "source": [
    "k = 8\n",
    "neighbors = NearestNeighbors(k, 'cosine')\n",
    "neighbors.fit(ratings_train)"
   ]
  },
  {
   "cell_type": "code",
   "execution_count": null,
   "metadata": {
    "ExecuteTime": {
     "end_time": "2019-08-24T11:17:21.653412Z",
     "start_time": "2019-08-24T11:17:21.639928Z"
    }
   },
   "outputs": [],
   "source": [
    "top_k_distances, top_k_users = neighbors.kneighbors(ratings_train, return_distance=True)\n",
    "top_k_distances.shape"
   ]
  },
  {
   "cell_type": "code",
   "execution_count": null,
   "metadata": {
    "ExecuteTime": {
     "end_time": "2019-08-24T11:17:21.664383Z",
     "start_time": "2019-08-24T11:17:21.656625Z"
    }
   },
   "outputs": [],
   "source": [
    "top_k_distances[usuario_ver]"
   ]
  },
  {
   "cell_type": "code",
   "execution_count": null,
   "metadata": {
    "ExecuteTime": {
     "end_time": "2019-08-24T11:17:21.678598Z",
     "start_time": "2019-08-24T11:17:21.668182Z"
    }
   },
   "outputs": [],
   "source": [
    "top_k_users.shape"
   ]
  },
  {
   "cell_type": "code",
   "execution_count": null,
   "metadata": {
    "ExecuteTime": {
     "end_time": "2019-08-24T11:17:21.689376Z",
     "start_time": "2019-08-24T11:17:21.681953Z"
    }
   },
   "outputs": [],
   "source": [
    "res = top_k_users[usuario_ver]\n",
    "res"
   ]
  },
  {
   "cell_type": "code",
   "execution_count": null,
   "metadata": {
    "ExecuteTime": {
     "end_time": "2019-08-24T11:18:54.878119Z",
     "start_time": "2019-08-24T11:18:54.846499Z"
    }
   },
   "outputs": [],
   "source": [
    "for a_index in res:\n",
    "    print(df_users[df_users['userId'] == (a_index+1)])"
   ]
  },
  {
   "cell_type": "code",
   "execution_count": null,
   "metadata": {
    "ExecuteTime": {
     "end_time": "2019-08-24T11:17:21.775667Z",
     "start_time": "2019-08-24T11:17:21.766733Z"
    }
   },
   "outputs": [],
   "source": [
    "users_predicts_k = np.zeros(ratings_train.shape)\n",
    "for i in range(ratings_train.shape[0]):# para cada usuario del conjunto de entrenamiento\n",
    "    users_predicts_k[i,:] = top_k_distances[i].T.dot(ratings_train[top_k_users][i]) / np.array([np.abs(top_k_distances[i].T).sum(axis=0)]).T"
   ]
  },
  {
   "cell_type": "code",
   "execution_count": null,
   "metadata": {
    "ExecuteTime": {
     "end_time": "2019-08-24T11:17:21.789460Z",
     "start_time": "2019-08-24T11:17:21.782373Z"
    }
   },
   "outputs": [],
   "source": [
    "users_predicts_k.shape"
   ]
  },
  {
   "cell_type": "code",
   "execution_count": null,
   "metadata": {
    "ExecuteTime": {
     "end_time": "2019-08-24T11:17:22.186864Z",
     "start_time": "2019-08-24T11:17:21.792814Z"
    }
   },
   "outputs": [],
   "source": [
    "plt.imshow(users_predicts_k);\n",
    "plt.colorbar()\n",
    "plt.show()"
   ]
  },
  {
   "cell_type": "code",
   "execution_count": null,
   "metadata": {
    "ExecuteTime": {
     "end_time": "2019-08-24T11:17:22.217999Z",
     "start_time": "2019-08-24T11:17:22.190216Z"
    }
   },
   "outputs": [],
   "source": [
    "user0=users_predicts_k.argsort()[usuario_ver][-4:]\n",
    "# los tres con mayor puntaje en la predic para este usuario\n",
    "# agrego 4 puesto que uno es mi propio repositorio\n",
    "for aRepo in user0:\n",
    "    selRepo = df_repos[df_repos['repoId'] == (aRepo+1)]\n",
    "    print(selRepo['title'], 'puntaje:', users_predicts_k[usuario_ver][aRepo])"
   ]
  },
  {
   "cell_type": "code",
   "execution_count": null,
   "metadata": {
    "ExecuteTime": {
     "end_time": "2019-08-24T11:17:22.231642Z",
     "start_time": "2019-08-24T11:17:22.221631Z"
    }
   },
   "outputs": [],
   "source": [
    "get_mse(users_predicts_k, ratings_train)"
   ]
  },
  {
   "cell_type": "code",
   "execution_count": null,
   "metadata": {
    "ExecuteTime": {
     "end_time": "2019-08-24T11:17:22.247970Z",
     "start_time": "2019-08-24T11:17:22.237464Z"
    }
   },
   "outputs": [],
   "source": [
    "get_mse(users_predicts_k, ratings_test)"
   ]
  },
  {
   "cell_type": "markdown",
   "metadata": {},
   "source": [
    "# Método 3: Collaborative Filtering Basado en Items"
   ]
  },
  {
   "cell_type": "code",
   "execution_count": null,
   "metadata": {
    "ExecuteTime": {
     "end_time": "2019-08-24T11:17:22.261199Z",
     "start_time": "2019-08-24T11:17:22.254134Z"
    }
   },
   "outputs": [],
   "source": [
    "#basado en items\n",
    "n_repos = ratings_train.shape[1]\n",
    "n_repos"
   ]
  },
  {
   "cell_type": "code",
   "execution_count": null,
   "metadata": {
    "ExecuteTime": {
     "end_time": "2019-08-24T11:17:22.275236Z",
     "start_time": "2019-08-24T11:17:22.265225Z"
    }
   },
   "outputs": [],
   "source": [
    "neighbors = NearestNeighbors(n_repos, 'cosine')\n",
    "neighbors.fit(ratings_train.T)"
   ]
  },
  {
   "cell_type": "code",
   "execution_count": null,
   "metadata": {
    "ExecuteTime": {
     "end_time": "2019-08-24T11:17:22.293004Z",
     "start_time": "2019-08-24T11:17:22.278397Z"
    }
   },
   "outputs": [],
   "source": [
    "top_k_distances, top_k_items = neighbors.kneighbors(ratings_train.T, return_distance=True)\n",
    "top_k_distances.shape"
   ]
  },
  {
   "cell_type": "code",
   "execution_count": null,
   "metadata": {
    "ExecuteTime": {
     "end_time": "2019-08-24T11:17:22.304552Z",
     "start_time": "2019-08-24T11:17:22.296780Z"
    }
   },
   "outputs": [],
   "source": [
    "top_k_items"
   ]
  },
  {
   "cell_type": "code",
   "execution_count": null,
   "metadata": {
    "ExecuteTime": {
     "end_time": "2019-08-24T11:17:22.319143Z",
     "start_time": "2019-08-24T11:17:22.308189Z"
    }
   },
   "outputs": [],
   "source": [
    "data = df_repos[df_repos['title'] == 'jbagnato / machine-learning']\n",
    "repo_ver = data.iloc[0]['repoId'] -1\n",
    "#print(repo_ver)"
   ]
  },
  {
   "cell_type": "code",
   "execution_count": null,
   "metadata": {
    "ExecuteTime": {
     "end_time": "2019-08-24T11:17:22.341692Z",
     "start_time": "2019-08-24T11:17:22.322893Z"
    }
   },
   "outputs": [],
   "source": [
    "df_repos[df_repos['repoId'].isin([repo_ver+1])]"
   ]
  },
  {
   "cell_type": "code",
   "execution_count": null,
   "metadata": {
    "ExecuteTime": {
     "end_time": "2019-08-24T11:17:22.350637Z",
     "start_time": "2019-08-24T11:17:22.345468Z"
    }
   },
   "outputs": [],
   "source": [
    "item_preds = ratings_train.dot(top_k_distances) / np.array([np.abs(top_k_distances).sum(axis=1)])"
   ]
  },
  {
   "cell_type": "code",
   "execution_count": null,
   "metadata": {
    "ExecuteTime": {
     "end_time": "2019-08-24T11:17:22.860116Z",
     "start_time": "2019-08-24T11:17:22.353627Z"
    }
   },
   "outputs": [],
   "source": [
    "plt.imshow(item_preds);\n",
    "plt.colorbar()\n",
    "plt.show()"
   ]
  },
  {
   "cell_type": "code",
   "execution_count": null,
   "metadata": {
    "ExecuteTime": {
     "end_time": "2019-08-24T11:17:22.886744Z",
     "start_time": "2019-08-24T11:17:22.868897Z"
    }
   },
   "outputs": [],
   "source": [
    "user0=item_preds.argsort()[usuario_ver]\n",
    "user0\n",
    "\n",
    "# los tres con mayor puntaje en la predic para este usuario\n",
    "for aRepo in user0[-3:]:\n",
    "    selRepo = df_repos[df_repos['repoId']==(aRepo+1)]\n",
    "    print(selRepo['title'], 'puntaje:', item_preds[usuario_ver][aRepo])"
   ]
  },
  {
   "cell_type": "code",
   "execution_count": null,
   "metadata": {
    "ExecuteTime": {
     "end_time": "2019-08-24T11:17:22.903769Z",
     "start_time": "2019-08-24T11:17:22.893219Z"
    }
   },
   "outputs": [],
   "source": [
    "get_mse(item_preds, ratings_train)"
   ]
  },
  {
   "cell_type": "code",
   "execution_count": null,
   "metadata": {
    "ExecuteTime": {
     "end_time": "2019-08-24T11:17:22.914196Z",
     "start_time": "2019-08-24T11:17:22.906636Z"
    }
   },
   "outputs": [],
   "source": [
    "get_mse(item_preds, ratings_test)"
   ]
  },
  {
   "cell_type": "markdown",
   "metadata": {},
   "source": [
    "# Método 4: recomendacion por Correlacion "
   ]
  },
  {
   "cell_type": "code",
   "execution_count": null,
   "metadata": {
    "ExecuteTime": {
     "end_time": "2019-08-24T11:17:23.018846Z",
     "start_time": "2019-08-24T11:17:22.917365Z"
    }
   },
   "outputs": [],
   "source": [
    "average_rating = pd.DataFrame(df_ratings.groupby('repoId')['rating'].mean())\n",
    "average_rating['ratingCount'] = pd.DataFrame(df_ratings.groupby('repoId')['rating'].count())\n",
    "average_rating.sort_values('ratingCount', ascending=False).head()\n",
    "\n",
    "mi_repo_ratings = df_matrix[62]\n",
    "similar_to_mine = df_matrix.corrwith(mi_repo_ratings)\n",
    "corr_mine = pd.DataFrame(similar_to_mine, columns=['pearsonR'])\n",
    "corr_mine.dropna(inplace=True)\n",
    "corr_summary = corr_mine.join(average_rating['rating'])\n",
    "corr_summary[corr_summary['rating']>=1].sort_values('pearsonR', ascending=False).head(10)"
   ]
  },
  {
   "cell_type": "code",
   "execution_count": null,
   "metadata": {
    "ExecuteTime": {
     "end_time": "2019-08-24T11:17:23.049417Z",
     "start_time": "2019-08-24T11:17:23.026199Z"
    }
   },
   "outputs": [],
   "source": [
    "# Veamos uno de los recomendados\n",
    "df_repos[df_repos['repoId'] == 92]"
   ]
  },
  {
   "cell_type": "markdown",
   "metadata": {},
   "source": [
    "# Método 5: Repo mas popular -sin collaborative filtering-"
   ]
  },
  {
   "cell_type": "markdown",
   "metadata": {},
   "source": [
    "Esta es la manera básica y sin uso de machine learning de ofrecer recomendaciones. <br>\n",
    "estas no serán personalizadas, serán iguales para cualquier usuario"
   ]
  },
  {
   "cell_type": "code",
   "execution_count": null,
   "metadata": {
    "ExecuteTime": {
     "end_time": "2019-08-24T11:17:23.407502Z",
     "start_time": "2019-08-24T11:17:23.052803Z"
    }
   },
   "outputs": [],
   "source": [
    "popular_repo = df_repos[['title','stars']].groupby('stars').sum().reset_index()\n",
    "popular_repo_top_20 = popular_repo.sort_values('stars', ascending=False).head(n=10)\n",
    "\n",
    "plt.rcdefaults()\n",
    " \n",
    "objects = (list(popular_repo_top_20['title']))\n",
    "y_pos = np.arange(len(objects))\n",
    "performance = list(popular_repo_top_20['stars'])\n",
    " \n",
    "plt.bar(y_pos, performance, align='center', alpha=0.5)\n",
    "plt.xticks(y_pos, objects, rotation='vertical')\n",
    "plt.ylabel('Stars count')\n",
    "plt.title('Most popular repo')\n",
    " \n",
    "plt.show()"
   ]
  },
  {
   "cell_type": "code",
   "execution_count": null,
   "metadata": {},
   "outputs": [],
   "source": []
  }
 ],
 "metadata": {
  "kernelspec": {
   "display_name": "Python 3",
   "language": "python",
   "name": "python3"
  },
  "language_info": {
   "codemirror_mode": {
    "name": "ipython",
    "version": 3
   },
   "file_extension": ".py",
   "mimetype": "text/x-python",
   "name": "python",
   "nbconvert_exporter": "python",
   "pygments_lexer": "ipython3",
   "version": "3.7.3"
  }
 },
 "nbformat": 4,
 "nbformat_minor": 2
}
